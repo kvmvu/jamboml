{
 "cells": [
  {
   "cell_type": "code",
   "execution_count": 1,
   "metadata": {
    "collapsed": true
   },
   "outputs": [],
   "source": [
    "import pandas as pd\n",
    "\n",
    "from keys import conn_str\n",
    "from sqlalchemy import create_engine, exc"
   ]
  },
  {
   "cell_type": "code",
   "execution_count": 2,
   "outputs": [
    {
     "data": {
      "text/plain": "     index  Data.Inventory Data.Code                    Data.Variant  \\\n426      0             0.0      None  Mosaic Picture Frame Colorsday   \n427      0            10.0      None            Set Music Happy Once   \n428      0             0.0      None        Speed Racing Road Leader   \n429      0             0.0      None            Stunt Car Sup[er Max   \n430      0            -2.0      None                Surmount Car toy   \n\n                       Data.Product Data.Category  TotalCount  \n426  Mosaic Picture Frame Colorsday          Toys         431  \n427            Set Music Happy Once          Toys         431  \n428        Speed Racing Road Leader          Toys         431  \n429            Stunt Car Sup[er Max          Toys         431  \n430                Surmount Car toy          Toys         431  ",
      "text/html": "<div>\n<style scoped>\n    .dataframe tbody tr th:only-of-type {\n        vertical-align: middle;\n    }\n\n    .dataframe tbody tr th {\n        vertical-align: top;\n    }\n\n    .dataframe thead th {\n        text-align: right;\n    }\n</style>\n<table border=\"1\" class=\"dataframe\">\n  <thead>\n    <tr style=\"text-align: right;\">\n      <th></th>\n      <th>index</th>\n      <th>Data.Inventory</th>\n      <th>Data.Code</th>\n      <th>Data.Variant</th>\n      <th>Data.Product</th>\n      <th>Data.Category</th>\n      <th>TotalCount</th>\n    </tr>\n  </thead>\n  <tbody>\n    <tr>\n      <th>426</th>\n      <td>0</td>\n      <td>0.0</td>\n      <td>None</td>\n      <td>Mosaic Picture Frame Colorsday</td>\n      <td>Mosaic Picture Frame Colorsday</td>\n      <td>Toys</td>\n      <td>431</td>\n    </tr>\n    <tr>\n      <th>427</th>\n      <td>0</td>\n      <td>10.0</td>\n      <td>None</td>\n      <td>Set Music Happy Once</td>\n      <td>Set Music Happy Once</td>\n      <td>Toys</td>\n      <td>431</td>\n    </tr>\n    <tr>\n      <th>428</th>\n      <td>0</td>\n      <td>0.0</td>\n      <td>None</td>\n      <td>Speed Racing Road Leader</td>\n      <td>Speed Racing Road Leader</td>\n      <td>Toys</td>\n      <td>431</td>\n    </tr>\n    <tr>\n      <th>429</th>\n      <td>0</td>\n      <td>0.0</td>\n      <td>None</td>\n      <td>Stunt Car Sup[er Max</td>\n      <td>Stunt Car Sup[er Max</td>\n      <td>Toys</td>\n      <td>431</td>\n    </tr>\n    <tr>\n      <th>430</th>\n      <td>0</td>\n      <td>-2.0</td>\n      <td>None</td>\n      <td>Surmount Car toy</td>\n      <td>Surmount Car toy</td>\n      <td>Toys</td>\n      <td>431</td>\n    </tr>\n  </tbody>\n</table>\n</div>"
     },
     "execution_count": 2,
     "metadata": {},
     "output_type": "execute_result"
    }
   ],
   "source": [
    "df = pd.read_sql_table('inventory_raw', conn_str)\n",
    "df.tail()"
   ],
   "metadata": {
    "collapsed": false,
    "pycharm": {
     "name": "#%%\n"
    }
   }
  },
  {
   "cell_type": "code",
   "execution_count": 3,
   "outputs": [
    {
     "data": {
      "text/plain": "     Data.Inventory                    Data.Variant Data.Category\n0              -1.0           32 inch Synix Digital   Accessories\n1               0.0                      abs roller   Accessories\n2              -1.0                      Air Fornce   Accessories\n3               0.0                      Airmax 500   Accessories\n4              -1.0            AMAYA truael Charger   Accessories\n..              ...                             ...           ...\n426             0.0  Mosaic Picture Frame Colorsday          Toys\n427            10.0            Set Music Happy Once          Toys\n428             0.0        Speed Racing Road Leader          Toys\n429             0.0            Stunt Car Sup[er Max          Toys\n430            -2.0                Surmount Car toy          Toys\n\n[431 rows x 3 columns]",
      "text/html": "<div>\n<style scoped>\n    .dataframe tbody tr th:only-of-type {\n        vertical-align: middle;\n    }\n\n    .dataframe tbody tr th {\n        vertical-align: top;\n    }\n\n    .dataframe thead th {\n        text-align: right;\n    }\n</style>\n<table border=\"1\" class=\"dataframe\">\n  <thead>\n    <tr style=\"text-align: right;\">\n      <th></th>\n      <th>Data.Inventory</th>\n      <th>Data.Variant</th>\n      <th>Data.Category</th>\n    </tr>\n  </thead>\n  <tbody>\n    <tr>\n      <th>0</th>\n      <td>-1.0</td>\n      <td>32 inch Synix Digital</td>\n      <td>Accessories</td>\n    </tr>\n    <tr>\n      <th>1</th>\n      <td>0.0</td>\n      <td>abs roller</td>\n      <td>Accessories</td>\n    </tr>\n    <tr>\n      <th>2</th>\n      <td>-1.0</td>\n      <td>Air Fornce</td>\n      <td>Accessories</td>\n    </tr>\n    <tr>\n      <th>3</th>\n      <td>0.0</td>\n      <td>Airmax 500</td>\n      <td>Accessories</td>\n    </tr>\n    <tr>\n      <th>4</th>\n      <td>-1.0</td>\n      <td>AMAYA truael Charger</td>\n      <td>Accessories</td>\n    </tr>\n    <tr>\n      <th>...</th>\n      <td>...</td>\n      <td>...</td>\n      <td>...</td>\n    </tr>\n    <tr>\n      <th>426</th>\n      <td>0.0</td>\n      <td>Mosaic Picture Frame Colorsday</td>\n      <td>Toys</td>\n    </tr>\n    <tr>\n      <th>427</th>\n      <td>10.0</td>\n      <td>Set Music Happy Once</td>\n      <td>Toys</td>\n    </tr>\n    <tr>\n      <th>428</th>\n      <td>0.0</td>\n      <td>Speed Racing Road Leader</td>\n      <td>Toys</td>\n    </tr>\n    <tr>\n      <th>429</th>\n      <td>0.0</td>\n      <td>Stunt Car Sup[er Max</td>\n      <td>Toys</td>\n    </tr>\n    <tr>\n      <th>430</th>\n      <td>-2.0</td>\n      <td>Surmount Car toy</td>\n      <td>Toys</td>\n    </tr>\n  </tbody>\n</table>\n<p>431 rows × 3 columns</p>\n</div>"
     },
     "execution_count": 3,
     "metadata": {},
     "output_type": "execute_result"
    }
   ],
   "source": [
    "df.drop(columns=['index', 'Data.Code', 'Data.Product', 'TotalCount'], axis=1, inplace=True)\n",
    "df"
   ],
   "metadata": {
    "collapsed": false,
    "pycharm": {
     "name": "#%%\n"
    }
   }
  },
  {
   "cell_type": "code",
   "execution_count": 4,
   "outputs": [
    {
     "data": {
      "text/plain": "     Data.Inventory              Data.Variant Data.Category\n91          -1262.0                     Fagia   Accessories\n223          -808.0                     socks   Accessories\n295          -655.0  Chiffon Tops Long Sleeve       Clothes\n229          -577.0                 Stockings   Accessories\n325          -481.0                  Newborns       Clothes\n..              ...                       ...           ...\n18             10.0     Baby Walker-FMK(Blue)   Accessories\n427            10.0      Set Music Happy Once          Toys\n289            17.0               Fanny Packs          Bags\n324            49.0               Mixed dress       Clothes\n203           100.0                Samsung Tv   Accessories\n\n[431 rows x 3 columns]",
      "text/html": "<div>\n<style scoped>\n    .dataframe tbody tr th:only-of-type {\n        vertical-align: middle;\n    }\n\n    .dataframe tbody tr th {\n        vertical-align: top;\n    }\n\n    .dataframe thead th {\n        text-align: right;\n    }\n</style>\n<table border=\"1\" class=\"dataframe\">\n  <thead>\n    <tr style=\"text-align: right;\">\n      <th></th>\n      <th>Data.Inventory</th>\n      <th>Data.Variant</th>\n      <th>Data.Category</th>\n    </tr>\n  </thead>\n  <tbody>\n    <tr>\n      <th>91</th>\n      <td>-1262.0</td>\n      <td>Fagia</td>\n      <td>Accessories</td>\n    </tr>\n    <tr>\n      <th>223</th>\n      <td>-808.0</td>\n      <td>socks</td>\n      <td>Accessories</td>\n    </tr>\n    <tr>\n      <th>295</th>\n      <td>-655.0</td>\n      <td>Chiffon Tops Long Sleeve</td>\n      <td>Clothes</td>\n    </tr>\n    <tr>\n      <th>229</th>\n      <td>-577.0</td>\n      <td>Stockings</td>\n      <td>Accessories</td>\n    </tr>\n    <tr>\n      <th>325</th>\n      <td>-481.0</td>\n      <td>Newborns</td>\n      <td>Clothes</td>\n    </tr>\n    <tr>\n      <th>...</th>\n      <td>...</td>\n      <td>...</td>\n      <td>...</td>\n    </tr>\n    <tr>\n      <th>18</th>\n      <td>10.0</td>\n      <td>Baby Walker-FMK(Blue)</td>\n      <td>Accessories</td>\n    </tr>\n    <tr>\n      <th>427</th>\n      <td>10.0</td>\n      <td>Set Music Happy Once</td>\n      <td>Toys</td>\n    </tr>\n    <tr>\n      <th>289</th>\n      <td>17.0</td>\n      <td>Fanny Packs</td>\n      <td>Bags</td>\n    </tr>\n    <tr>\n      <th>324</th>\n      <td>49.0</td>\n      <td>Mixed dress</td>\n      <td>Clothes</td>\n    </tr>\n    <tr>\n      <th>203</th>\n      <td>100.0</td>\n      <td>Samsung Tv</td>\n      <td>Accessories</td>\n    </tr>\n  </tbody>\n</table>\n<p>431 rows × 3 columns</p>\n</div>"
     },
     "execution_count": 4,
     "metadata": {},
     "output_type": "execute_result"
    }
   ],
   "source": [
    "df.sort_values(by=['Data.Inventory'], inplace=True)\n",
    "df"
   ],
   "metadata": {
    "collapsed": false,
    "pycharm": {
     "name": "#%%\n"
    }
   }
  },
  {
   "cell_type": "code",
   "execution_count": 5,
   "outputs": [
    {
     "name": "stdout",
     "output_type": "stream",
     "text": [
      "2021-01-30 10:03:43,387 INFO sqlalchemy.engine.base.Engine SELECT CAST('test plain returns' AS VARCHAR(60)) AS anon_1\n",
      "2021-01-30 10:03:43,388 INFO sqlalchemy.engine.base.Engine ()\n",
      "2021-01-30 10:03:43,389 INFO sqlalchemy.engine.base.Engine SELECT CAST('test unicode returns' AS VARCHAR(60)) AS anon_1\n",
      "2021-01-30 10:03:43,390 INFO sqlalchemy.engine.base.Engine ()\n",
      "2021-01-30 10:03:43,391 INFO sqlalchemy.engine.base.Engine PRAGMA main.table_info(\"inventory_clean\")\n",
      "2021-01-30 10:03:43,392 INFO sqlalchemy.engine.base.Engine ()\n",
      "2021-01-30 10:03:43,393 INFO sqlalchemy.engine.base.Engine PRAGMA temp.table_info(\"inventory_clean\")\n",
      "2021-01-30 10:03:43,394 INFO sqlalchemy.engine.base.Engine ()\n",
      "2021-01-30 10:03:43,396 INFO sqlalchemy.engine.base.Engine \n",
      "CREATE TABLE inventory_clean (\n",
      "\t\"Data.Inventory\" FLOAT, \n",
      "\t\"Data.Variant\" TEXT, \n",
      "\t\"Data.Category\" TEXT\n",
      ")\n",
      "\n",
      "\n",
      "2021-01-30 10:03:43,397 INFO sqlalchemy.engine.base.Engine ()\n",
      "2021-01-30 10:03:43,401 INFO sqlalchemy.engine.base.Engine COMMIT\n",
      "2021-01-30 10:03:43,403 INFO sqlalchemy.engine.base.Engine BEGIN (implicit)\n",
      "2021-01-30 10:03:43,406 INFO sqlalchemy.engine.base.Engine INSERT INTO inventory_clean (\"Data.Inventory\", \"Data.Variant\", \"Data.Category\") VALUES (?, ?, ?)\n",
      "2021-01-30 10:03:43,407 INFO sqlalchemy.engine.base.Engine ((-1262.0, 'Fagia', 'Accessories'), (-808.0, 'socks', 'Accessories'), (-655.0, 'Chiffon Tops Long Sleeve', 'Clothes'), (-577.0, 'Stockings', 'Accessories'), (-481.0, 'Newborns', 'Clothes'), (-427.0, 'pallazo pants', 'Accessories'), (-413.0, 'Medium Children clothes', 'Accessories'), (-412.0, 'Drawers', 'Accessories')  ... displaying 10 of 431 total bound parameter sets ...  (49.0, 'Mixed dress', 'Clothes'), (100.0, 'Samsung Tv', 'Accessories'))\n",
      "2021-01-30 10:03:43,411 INFO sqlalchemy.engine.base.Engine COMMIT\n",
      "2021-01-30 10:03:43,414 INFO sqlalchemy.engine.base.Engine SELECT * FROM inventory_clean\n",
      "2021-01-30 10:03:43,415 INFO sqlalchemy.engine.base.Engine ()\n",
      "[(-1262.0, 'Fagia', 'Accessories'), (-808.0, 'socks', 'Accessories'), (-655.0, 'Chiffon Tops Long Sleeve', 'Clothes'), (-577.0, 'Stockings', 'Accessories'), (-481.0, 'Newborns', 'Clothes'), (-427.0, 'pallazo pants', 'Accessories'), (-413.0, 'Medium Children clothes', 'Accessories'), (-412.0, 'Drawers', 'Accessories'), (-389.0, 'jambo hats', 'Accessories'), (-381.0, 'Bra', 'Clothes'), (-365.0, 'Swim suits', 'Accessories'), (-344.0, 'MEN SHIRTS', 'Clothes'), (-340.0, 'Skirts/Miniskirts', 'Accessories'), (-275.0, 'Lady Women Trouser tights', 'Clothes'), (-271.0, 'Stretchers', 'Accessories'), (-260.0, 'pallazo 3', 'Accessories'), (-259.0, 'paper bags', 'Accessories'), (-246.0, 'Shorts', 'Clothes'), (-230.0, 'Ladies Dress', 'Dress'), (-220.0, 'Ladies sweaters', 'Accessories'), (-210.0, 'Cotton Tops', 'Accessories'), (-209.0, 'pallazo shorts', 'Accessories'), (-203.0, 'Men tshirts', 'Clothes'), (-194.0, 'Cardigans 2', 'Accessories'), (-192.0, 'Men jeans 2', 'Clothes'), (-190.0, 'Children Clothes W05', 'Clothes'), (-190.0, 'Velvet 3', 'Accessories'), (-187.0, 'Cotton Dress', 'Accessories'), (-182.0, 'Chiffon Tops 3', 'Accessories'), (-179.0, 'Pullnecks', 'Accessories'), (-176.0, 'Poly Dress', 'Accessories'), (-175.0, 'Velvet 4', 'Accessories'), (-167.0, 'Skirts 3', 'Accessories'), (-165.0, 'Top Dress 2', 'Accessories'), (-164.0, 'Bedsheets', 'Accessories'), (-163.0, 'Shorts 2', 'Accessories'), (-161.0, 'Sports wear', 'Accessories'), (-159.0, 'Men shirts 3', 'Accessories'), (-151.0, 'fashion pants', 'Accessories'), (-148.0, 'Pallazo Pants 4', 'Accessories'), (-145.0, 'Fashion Pants 2', 'Accessories'), (-143.0, 'Chiffon Tops Short Sleeve', 'Accessories'), (-142.0, 'Velvet clothes 2', 'Accessories'), (-141.0, 'Tshirt 4', 'Accessories'), (-139.0, 'Towels 2', 'Accessories'), (-139.0, 'Sports wear 2', 'Accessories'), (-134.0, 'Children Clothes W05 100 bob', 'Clothes'), (-134.0, 'Denim Shirts 2', 'Accessories'), (-134.0, 'Lady Skirts', 'Clothes'), (-134.0, 'Tshirt', 'Clothes'), (-129.0, 'jumpsuit', 'Accessories'), (-124.0, 'Cotton Dress 5', 'Accessories'), (-118.0, 'Tshirts 3', 'Accessories'), (-117.0, 'Dungaree', 'Accessories'), (-117.0, 'Denim dress 2', 'Accessories'), (-116.0, 'Denim skirts', 'Accessories'), (-111.0, 'Ladies Dress 200bob 2001', 'Dress'), (-111.0, 'Household 3', 'Accessories'), (-110.0, 'Cotton Dress 2', 'Accessories'), (-109.0, 'Skinny Jeans 2', 'Accessories'), (-108.0, 'Jumpsuits 2', 'Accessories'), (-108.0, 'Household', 'Clothes'), (-107.0, 'Fashion Jackets', 'Accessories'), (-105.0, 'Denim Jacket 7', 'Accessories'), (-103.0, 'Cotton Dress 4', 'Accessories'), (-101.0, 'Jumpsuits 3', 'Accessories'), (-99.0, 'Denim dress', 'Accessories'), (-97.0, 'Children Mix 2', 'Accessories'), (-96.0, 'Towel set Medium', 'Accessories'), (-96.0, 'Mixed skirts', 'Accessories'), (-96.0, 'Cotton Dress 6', 'Accessories'), (-95.0, 'Denim Skirts 2', 'Accessories'), (-90.0, 'Sporting pants', 'Accessories'), (-89.0, 'Hoodies 6', 'Accessories'), (-89.0, 'Denim Skirts 3', 'Accessories'), (-89.0, 'Sweat Shirts', 'Accessories'), (-88.0, 'Denim Shirts', 'Accessories'), (-87.0, 'highneck tshirts', 'Accessories'), (-87.0, 'Khaki Shorts', 'Accessories'), (-87.0, 'Side pockets', 'Accessories'), (-86.0, 'men official trousers', 'Accessories'), (-83.0, 'Children Jackets', 'Accessories'), (-83.0, 'Hoodies', 'Accessories'), (-83.0, 'Denim Shorts', 'Accessories'), (-83.0, 'Skinny Pants 2', 'Accessories'), (-83.0, 'Cotton Dress 3', 'Accessories'), (-83.0, 'Dungaree 2', 'Accessories'), (-82.0, 'Matte lipstick Moisten Beauty City', 'MakeUp'), (-82.0, 'pallazo pants 5', 'Accessories'), (-81.0, 'Ladies Tops Blouse Chiffons 200bob 1001', 'Clothes'), (-81.0, 'Hoodies 4', 'Accessories'), (-79.0, 'Pillowcase', 'Accessories'), (-75.0, 'Heavy stretcher pants', 'Accessories'), (-74.0, 'velvet wear', 'Accessories'), (-74.0, 'Duvet', 'Accessories'), (-72.0, 'Cardigans', 'Accessories'), (-70.0, 'Sports wear 4', 'Accessories'), (-70.0, 'Children Set Tops', 'Accessories'), (-69.0, 'Fashion Tops 2', 'Accessories'), (-69.0, 'Sweat Suits', 'Accessories'), (-66.0, 'Sweat pants 2', 'Accessories'), (-66.0, 'Denim jackets 5', 'Accessories'), (-66.0, 'Denim Skirts 4', 'Accessories'), (-65.0, 'Bedsheet 9', 'Accessories'), (-65.0, 'Ladies Dress 120bob 2003', 'Dress'), (-65.0, 'College', 'Accessories'), (-64.0, 'Fur coats 4', 'Accessories'), (-64.0, 'skinny jeans', 'Accessories'), (-64.0, 'Bedsheet 10', 'Accessories'), (-61.0, 'Lady Hand bag', 'Bags'), (-61.0, 'Denim jackets 6', 'Accessories'), (-61.0, 'Skinny Jeans 3', 'Accessories'), (-59.0, 'Lady Tshirts', 'Accessories'), (-59.0, 'Dungaree 3', 'Accessories'), (-59.0, 'Denim Jacket 8', 'Accessories'), (-58.0, 'Fashion Tops', 'Accessories'), (-57.0, 'Bedsheets 7', 'Accessories'), (-57.0, 'Bedsheets 6', 'Accessories'), (-56.0, 'Fashion Jackets 2', 'Accessories'), (-56.0, 'Adult Hoodies Jumper', 'Clothes'), (-55.0, 'Men jeans 3', 'Accessories'), (-55.0, 'Denim jackets 3', 'Accessories'), (-55.0, 'Lady Jeans', 'Accessories'), (-54.0, 'Hoodies 5', 'Accessories'), (-54.0, 'joggers', 'Accessories'), (-54.0, 'dress 3', 'Accessories'), (-50.0, 'College jacket 2', 'Accessories'), (-48.0, 'College jackets  3', 'Accessories'), (-48.0, 'Children Set Trousers', 'Accessories'), (-47.0, 'Denim jacket 9', 'Accessories'), (-46.0, 'Jambo shoes', 'Accessories'), (-45.0, 'Trench coats', 'Accessories'), (-45.0, 'Track Pants', 'Accessories'), (-45.0, 'Ladies Mix', 'Accessories'), (-44.0, 'Men jeans 4', 'Accessories'), (-44.0, 'Denim jacket 2', 'Accessories'), (-44.0, 'School/Laptop bags', 'Accessories'), (-43.0, 'Duvet cover', 'Accessories'), (-43.0, 'Jackets 200', 'Accessories'), (-43.0, 'Men Mix', 'Accessories'), (-42.0, 'Denim jackets', 'Accessories'), (-40.0, 'Denim jackets 4', 'Accessories'), (-40.0, 'Fur coats', 'Accessories'), (-39.0, 'Children mix clothes Big', 'Clothes'), (-39.0, 'Men Jackects', 'Accessories'), (-38.0, 'vans', 'Accessories'), (-36.0, 'Fur coats 3', 'Accessories'), (-34.0, 'Skinny Pants', 'Accessories'), (-34.0, 'Children Set Jackets', 'Accessories'), (-33.0, 'Fur coats 2', 'Accessories'), (-33.0, 'Trench coats 2', 'Accessories'), (-30.0, 'Blouse', 'Accessories'), (-29.0, 'Galla Dress', 'Clothes'), (-29.0, 'Track Tops', 'Accessories'), (-28.0, 'Bedsheets 8', 'Accessories'), (-24.0, 'leather jackets', 'Accessories'), (-23.0, 'lisa dress', 'Accessories'), (-22.0, 'Ladies Tops Blouse Chiffons 150bob 1002', 'Clothes'), (-21.0, 'Children Jackets 80bob 3003', 'Clothes'), (-21.0, 'Duvets 5', 'Accessories'), (-20.0, 'Hoodies 3', 'Accessories'), (-20.0, 'WOMEN BLAZERS JRMH', 'Clothes'), (-19.0, 'Men Cotton Pants', 'Accessories'), (-18.0, 'Men Trousers', 'Clothes'), (-18.0, 'Duvet 4', 'Accessories'), (-18.0, 'Household 2', 'Accessories'), (-15.0, 'Toddler shoes nn', 'Accessories'), (-14.0, 'Towel set Small', 'Accessories'), (-12.0, 'Baby bibs feeders', 'Baby'), (-12.0, 'Skirt Suit', 'Clothes'), (-11.0, 'Baby Socks', 'Baby'), (-10.0, 'Invisible No Marker Body Shaper', 'Clothes'), (-10.0, 'Ladies Tops Blouse Chiffons 60bob 1004', 'Clothes'), (-10.0, 'Children School bag', 'Bags'), (-9.0, 'Fidel ports shoes', 'Accessories'), (-9.0, 'Magic Bra Silicon Bra', 'Clothes'), (-9.0, 'Towel set Big', 'Accessories'), (-9.0, 'Ladies Dress 150bob 2002', 'Clothes'), (-8.0, 'Cotton Pants 200', 'Accessories'), (-8.0, '79519 Black Official Shoes LIAO', 'Shoes'), (-8.0, 'Baby Vest', 'Baby'), (-7.0, 'Baby Toy Jigglers Advanced', 'Baby'), (-7.0, 'Jonai Shoes', 'Shoes'), (-7.0, '963 LIAO shoes Official Men shoes', 'Shoes'), (-7.0, 'Leather belts 800', 'Accessories'), (-6.0, 'Children Dresses JK', 'Clothes'), (-6.0, 'Craft Handmade Candle JK', 'Accessories'), (-6.0, 'Children Trouser Lisa', 'Accessories'), (-5.0, 'Lady Suits', 'Clothes'), (-5.0, 'Baby Shawl Heavy NN 1000', 'Accessories'), (-5.0, 'Children Jackets 140bob 3002', 'Clothes'), (-4.0, 'Baby Sheets 200', 'Accessories'), (-4.0, 'WOMEN TROUSERS JRMH', 'Clothes'), (-4.0, 'Baby Carrier', 'Accessories'), (-4.0, 'Baby Jacket Lisa', 'Clothes'), (-4.0, 'Umoja rubber shoes', 'Accessories'), (-4.0, 'Baby Toy Jigglers(guitar,insect)', 'Baby'), (-4.0, 'Clowse Lady Shoes', 'Shoes'), (-3.0, 'Blazers DKJ 230 7', 'Accessories'), (-3.0, 'Baby bags', 'Accessories'), (-3.0, 'Children Set Dresses', 'Accessories'), (-3.0, 'Amaya USB Data Cable', 'Accessories'), (-3.0, 'school shoes 11-13 750', 'Accessories'), (-2.0, 'Skating shoes 36', 'Accessories'), (-2.0, 'Le Cordonnier Stanley Shoes', 'Shoes'), (-2.0, 'Surmount Car toy', 'Toys'), (-2.0, 'Geepas 3 in 1 blender', 'Accessories'), (-2.0, 'Moses baby Basket 2000', 'Accessories'), (-2.0, 'Naomi shoes', 'Accessories'), (-2.0, 'Baby Shawl Light', 'Baby'), (-2.0, 'Baby Shawl Heavy', 'Baby'), (-2.0, 'Baby hats', 'Baby'), (-2.0, 'Baby Fleece Blankets', 'Baby'), (-2.0, 'Baby Toy jigglers traditional', 'Baby'), (-2.0, 'Kids School Shoes 650', 'Accessories'), (-2.0, 'pen poaches 100', 'Accessories'), (-2.0, 'Invisible Reductor talla menos', 'Clothes'), (-1.0, 'children jackets 2505 bob AK', 'Clothes'), (-1.0, 'Army Platdon Metal Model', 'Toys'), (-1.0, 'Sneaker Shoes', 'Shoes'), (-1.0, 'Rubber Shoes LC Waikiki', 'Shoes'), (-1.0, 'Spach Lingerie Body Shaper', 'Clothes'), (-1.0, 'Ladies shoes BK', 'Shoes'), (-1.0, 'Synix Smart TV 43 inch', 'Electronics'), (-1.0, 'Hankerchief, caps, feeders etc', 'Clothes'), (-1.0, '32 inch Synix SMART', 'Electronics'), (-1.0, 'GOtv  Decorder', 'Electronics'), (-1.0, 'Toddler Shoes 650', 'Accessories'), (-1.0, 'Baby toy Cars', 'Baby'), (-1.0, 'OKING OK347 mobile phone', 'Mobile Phones'), (-1.0, 'children jackets 300 bob AK', 'Clothes'), (-1.0, 'Children Jackets W05', 'Clothes'), (-1.0, 'Baby Skipping Rope', 'Baby'), (-1.0, '32 inch Synix Digital', 'Accessories'), (-1.0, 'LED HD  tv', 'Accessories'), (-1.0, 'Air Fornce', 'Accessories'), (-1.0, 'Portable baby bed 1000', 'Accessories'), (-1.0, 'Ramtons Toaster', 'Accessories'), (-1.0, 'Remote car', 'Accessories'), (-1.0, 'Dell Pc', 'Accessories'), (-1.0, 'Hp i3 Cpu', 'Accessories'), (-1.0, 'Dell latitude 2120', 'Accessories'), (-1.0, 'Safety Helmet', 'Accessories'), (-1.0, 'hp laptop', 'Accessories'), (-1.0, 'Nike Sports shoes', 'Accessories'), (-1.0, 'Salty Shaker', 'Accessories'), (-1.0, 'school shoes 850 n.3 4', 'Accessories'), (-1.0, 'school shoes n.5,6,7 950', 'Accessories'), (-1.0, 'Nike sports', 'Accessories'), (-1.0, 'Sony Bravia', 'Accessories'), (-1.0, 'atouch', 'Accessories'), (-1.0, 'AMAYA truael Charger', 'Accessories'), (-1.0, 'Blue lady shoes', 'Accessories'), (-1.0, 'Mackintosh 300', 'Accessories'), (-1.0, 'Nike Roller Blades', 'Accessories'), (-1.0, 'Baby Walker-FMK(Pink)', 'Accessories'), (-1.0, 'Kids Bike FMK', 'Accessories'), (-1.0, 'HP monitor', 'Accessories'), (0.0, 'Vitron Speaker Woofer V209D', 'Electronics'), (0.0, 'W Elite Face and Body Shaver Asus', 'Electronics'), (0.0, 'Water Dispenser Ashton Meyers', 'Electronics'), (0.0, 'Happy New Year Hat', 'Hats and Helmets'), (0.0, 'Stool (3 Leg)', 'Furniture'), (0.0, 'TV DVBTZ 17 inch', 'Electronics'), (0.0, 'Hat Kengen', 'Hats and Helmets'), (0.0, 'Baby Seat Infant Car Seat', 'Accessories'), (0.0, 'iPhone 5S 16GB', 'Mobile Phones'), (0.0, 'Itel A14 Mobile Phone', 'Mobile Phones'), (0.0, 'itel it2160 mobile phone', 'Mobile Phones'), (0.0, 'Nokia 3.1', 'Mobile Phones'), (0.0, 'Water Dispenser Oasis B1ARPHSY', 'Electronics'), (0.0, 'Synix TV 24 inch', 'Electronics'), (0.0, 'Stunt Car Sup[er Max', 'Toys'), (0.0, 'Sylinx TV 32inch digital tv', 'Electronics'), (0.0, 'Audio Technica Headphones', 'Electronics'), (0.0, 'DELL Latitude E6500', 'Electronics'), (0.0, 'GLD 2.1CH Speaker woofer', 'Electronics'), (0.0, 'Hidigital Speaker Woofer V-210BT', 'Electronics'), (0.0, 'HP Folio 9480m Refurbish', 'Electronics'), (0.0, 'HP Photosmart Printer 2613', 'Electronics'), (0.0, 'Lenovo thinkpad T420i laptop', 'Electronics'), (0.0, 'LG LHT250', 'Electronics'), (0.0, 'Baby vests nn 300', 'Accessories'), (0.0, 'LG Smart TV 32LJ57OU 32 inch', 'Electronics'), (0.0, 'Portable Wireless Speaker', 'Electronics'), (0.0, 'Ramtons Microwave', 'Electronics'), (0.0, 'Samsung monitor', 'Electronics'), (0.0, 'Simba Keyboard', 'Electronics'), (0.0, 'Sonar Free To Air Decorder', 'Electronics'), (0.0, 'baby hats nn', 'Accessories'), (0.0, 'Startimes Decorder', 'Electronics'), (0.0, 'Syinix  43 LED Digital TV', 'Electronics'), (0.0, 'o2 Nails Nail Printer', 'Electronics'), (0.0, 'SONY Home Theater', 'Electronics'), (0.0, 'Airforce Shoes EK', 'Shoes'), (0.0, 'Samsung Galaxy J5', 'Mobile Phones'), (0.0, 'Airmax 500', 'Accessories'), (0.0, 'Rubber Shoes Stevens', 'Shoes'), (0.0, 'Shoes', 'Shoes'), (0.0, 'Sneaker Shoes Balenciaga', 'Shoes'), (0.0, 'Sneakers airmax', 'Shoes'), (0.0, 'Stevens brown shoes', 'Shoes'), (0.0, 'Unisex Shoes Le cordonnier', 'Shoes'), (0.0, 'William Shoes Le Cordonnier', 'Shoes'), (0.0, '969 Champion Legend of Speed', 'Toys'), (0.0, 'abs roller', 'Accessories'), (0.0, 'Counting game nintendo', 'Toys'), (0.0, 'Deformation Robot Warrior', 'Toys'), (0.0, 'Dinosaurs Oviraptor ax', 'Toys'), (0.0, 'Doctor Set JLB', 'Toys'), (0.0, 'Fashion Jewellery flashing Enter', 'Toys'), (0.0, 'Football Sport Sport toy Series', 'Toys'), (0.0, 'Household Set Hello Candy', 'Toys'), (0.0, 'Mosaic Picture Frame Colorsday', 'Toys'), (0.0, 'Speed Racing Road Leader', 'Toys'), (0.0, 'Nike Air Jordan', 'Shoes'), (0.0, 'New Look Shoes', 'Shoes'), (0.0, 'Men Shoes Steven', 'Shoes'), (0.0, 'men loffers', 'Shoes'), (0.0, 'Tecno SA6S Mobile Phone', 'Mobile Phones'), (0.0, 'AV Selector MASPRO VSW31', 'Accessories'), (0.0, 'Amtech Speaker sub Woofer', 'Electronics'), (0.0, 'Baby rubbers', 'Shoes'), (0.0, 'Bata Boots', 'Shoes'), (0.0, 'Bata Toughees', 'Shoes'), (0.0, 'Asus Mini Laptop 9000', 'Accessories'), (0.0, 'CLS 3768 Clowse Lady Shoes', 'Shoes'), (0.0, 'CLS 3890 Lady Shoe Clowse', 'Shoes'), (0.0, 'Safaricom Neon Kicka', 'Mobile Phones'), (0.0, 'CLS 3912 Clowse Lady Shoes', 'Shoes'), (0.0, 'Dollar Brown Shoes', 'Shoes'), (0.0, 'Dollar Stevens Shoes', 'Shoes'), (0.0, 'Girls school shoes', 'Shoes'), (0.0, 'Apple Earphones', 'Accessories'), (0.0, 'Annet', 'Accessories'), (0.0, 'Lady Boots', 'Shoes'), (0.0, 'Lady Rubber Shoes', 'Shoes'), (0.0, 'LADY SHOES', 'Shoes'), (0.0, 'Lady shoes CLS 3912 Clowse', 'Shoes'), (0.0, 'Conamore Shoes EK', 'Shoes'), (0.0, 'Aerial Antennae', 'Electronics'), (0.0, 'Casio Stopwatch', 'Accessories'), (0.0, 'Acer LCD Monitor', 'Electronics'), (0.0, 'Baby Dolls Small', 'Baby'), (0.0, 'Baby Rasta Light toy', 'Baby'), (0.0, 'New Feel Sneakers', 'Accessories'), (0.0, 'mika fan', 'Accessories'), (0.0, 'Men Vests 350', 'Accessories'), (0.0, 'baby spectacles', 'Baby'), (0.0, 'Baby toy ball', 'Baby'), (0.0, 'Men Tshirts BMM 150', 'Accessories'), (0.0, 'Baby Toy Cooking Set', 'Baby'), (0.0, 'Baby Toy Guitar Piano', 'Baby'), (0.0, 'Men Tshirts BMM 100', 'Accessories'), (0.0, 'Men Trousers 150', 'Accessories'), (0.0, 'Men Shirts - 150', 'Accessories'), (0.0, 'Baby Toy Lego Block Large', 'Baby'), (0.0, 'Baby Toy Lego Block Medium', 'Baby'), (0.0, 'Baby Toy Lego Block Small', 'Baby'), (0.0, 'Men Official q3 350', 'Accessories'), (0.0, 'Baby Dolls Large', 'Baby'), (0.0, 'Baby Clothes', 'Baby'), (0.0, 'Paolo Rossi Lady Shoes', 'Accessories'), (0.0, 'Women Dresses 500', 'Accessories'), (0.0, 'Syinix 24inch', 'Accessories'), (0.0, 'Syinix 32 inch', 'Accessories'), (0.0, 'Syinix Kettle', 'Accessories'), (0.0, 'Toddler black shoes 500', 'Accessories'), (0.0, 'Skater Dress 700', 'Accessories'), (0.0, 'Shotgun No.2 Yang Kai', 'Accessories'), (0.0, 'Shooting water Game', 'Accessories'), (0.0, 'Seamless full shaper Talla Menos', 'Accessories'), (0.0, 'Acqua Bella Water Purifier', 'Electronics'), (0.0, 'Samsung Powerbank', 'Accessories'), (0.0, 'rubber shoes', 'Accessories'), (0.0, 'Room Decor Stickers - KES 200', 'Accessories'), (0.0, 'Room Decor Stickers - KES 20', 'Accessories'), (0.0, 'USB Amazon  Cable', 'Accessories'), (0.0, 'Room Decor Stickers - KES 100', 'Accessories'), (0.0, 'Play Station 3', 'Accessories'), (0.0, 'Wecast WIFI Display Receiver Dongle', 'Accessories'), (0.0, 'weinbrenner boots', 'Accessories'), (0.0, 'Safety boot', 'Accessories'), (0.0, 'Baby Writing Board', 'Baby'), (0.0, 'Baby Warmer', 'Baby'), (0.0, 'Men Jeans q2 550', 'Accessories'), (0.0, 'Generic Carpet', 'Accessories'), (0.0, 'Generic Baby Stroller', 'Accessories'), (0.0, 'Gel Machine', 'Accessories'), (0.0, 'foot spa', 'Accessories'), (0.0, 'Foldable Sun Glasses Glass U', 'Accessories'), (0.0, 'face towels', 'Accessories'), (0.0, 'DTSV Decoder DSD', 'Accessories'), (0.0, 'DELL Mouse', 'Accessories'), (0.0, 'Cotton Shirts 1000', 'Accessories'), (0.0, 'Children Joggers', 'Accessories'), (0.0, 'Cheero Powerbank', 'Accessories'), (0.0, 'Valentine Girl Body Shaper', 'Clothes'), (0.0, 'Waist Trainer', 'Clothes'), (0.0, 'casio calculator', 'Accessories'), (0.0, 'Busket ball shoes', 'Accessories'), (0.0, 'Baby Warmer nn', 'Accessories'), (0.0, '32 Inch SkyView TV LE32D1S', 'Electronics'), (0.0, 'Rubix cube', 'Baby'), (0.0, 'Google Chromecast Audio Dongle', 'Accessories'), (0.0, 'Generic carpet EV', 'Accessories'), (0.0, 'gotv plus aerial', 'Accessories'), (0.0, 'Luggage bag', 'Accessories'), (0.0, 'Leggings skinny pants', 'Accessories'), (0.0, 'Bulk Rejects', 'Clothes'), (0.0, 'Lady Skirts(Red)', 'Accessories'), (0.0, 'Lady Skirts(Green)', 'Accessories'), (0.0, 'Ladies poaches 1000', 'Accessories'), (0.0, 'GoTV DT3S', 'Accessories'), (0.0, 'Ladies boots EMA 700 q1', 'Accessories'), (0.0, 'JVC Digital Camera', 'Accessories'), (0.0, 'Skating Shoes number 38', 'Accessories'), (0.0, 'Children Jackets 250bob 3001', 'Clothes'), (0.0, 'Jiao Men Shoes 650', 'Accessories'), (0.0, 'iBuffalo USB 4 way splitter', 'Accessories'), (0.0, 'HSDPA Modem', 'Accessories'), (0.0, 'Hp Portfolio Laptop', 'Accessories'), (0.0, 'Invisible Aux Cuisses WH5074', 'Clothes'), (0.0, 'Hair tong', 'Accessories'), (1.0, 'Di Marco Shoes', 'Shoes'), (5.0, 'Hilux', 'Accessories'), (10.0, 'Baby Walker-FMK(Blue)', 'Accessories'), (10.0, 'Set Music Happy Once', 'Toys'), (17.0, 'Fanny Packs', 'Bags'), (49.0, 'Mixed dress', 'Clothes'), (100.0, 'Samsung Tv', 'Accessories')]\n"
     ]
    }
   ],
   "source": [
    "engine = create_engine(conn_str, echo=True)\n",
    "\n",
    "try:\n",
    "    df.to_sql('inventory_clean', con=engine, if_exists='replace', index=False)\n",
    "except exc.IntegrityError:\n",
    "    pass\n",
    "e = engine.execute(\"SELECT * FROM inventory_clean\").fetchall()\n",
    "print(e)"
   ],
   "metadata": {
    "collapsed": false,
    "pycharm": {
     "name": "#%%\n"
    }
   }
  }
 ],
 "metadata": {
  "kernelspec": {
   "display_name": "Python 3",
   "language": "python",
   "name": "python3"
  },
  "language_info": {
   "codemirror_mode": {
    "name": "ipython",
    "version": 2
   },
   "file_extension": ".py",
   "mimetype": "text/x-python",
   "name": "python",
   "nbconvert_exporter": "python",
   "pygments_lexer": "ipython2",
   "version": "2.7.6"
  }
 },
 "nbformat": 4,
 "nbformat_minor": 0
}