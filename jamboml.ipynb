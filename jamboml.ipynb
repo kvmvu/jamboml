{
 "cells": [
  {
   "cell_type": "markdown",
   "source": [
    "### Jambo Exploratory Analysis\n",
    "\n",
    "* Just looking for patterns here.\n",
    "* Data sourced from current POS system from opening date of the shop. Will try to update it regularly"
   ],
   "metadata": {
    "collapsed": false,
    "pycharm": {
     "name": "#%% md\n"
    }
   }
  },
  {
   "cell_type": "markdown",
   "source": [
    "An overview of the raw data"
   ],
   "metadata": {
    "collapsed": false,
    "pycharm": {
     "name": "#%% md\n"
    }
   }
  },
  {
   "cell_type": "code",
   "execution_count": 1,
   "metadata": {
    "collapsed": true
   },
   "outputs": [
    {
     "data": {
      "text/plain": "       index         Outlet     Number                 Date DueDate SalesType  \\\n13488   2750  Kayole Branch  21.01.513  2021-01-25T00:00:00            Normal   \n13489   2750  Kayole Branch  21.01.513  2021-01-25T00:00:00            Normal   \n13490   2751  Kayole Branch  21.01.514  2021-01-25T00:00:00            Normal   \n13491   2752  Kayole Branch  21.01.515  2021-01-25T00:00:00            Normal   \n13492   2752  Kayole Branch  21.01.515  2021-01-25T00:00:00            Normal   \n\n      SalesPerson  Customer                             CreatorID  \\\n13488        None       NaN  71e6e3df-257e-4a56-90ad-f6214b267aee   \n13489        None       NaN  71e6e3df-257e-4a56-90ad-f6214b267aee   \n13490        None       NaN  71e6e3df-257e-4a56-90ad-f6214b267aee   \n13491        None       NaN  71e6e3df-257e-4a56-90ad-f6214b267aee   \n13492        None       NaN  71e6e3df-257e-4a56-90ad-f6214b267aee   \n\n                       Created  ...  Variants.Cost  Variants.UnitQuantity  \\\n13488  2021-01-25T22:22:41.243  ...          104.0                    1.0   \n13489  2021-01-25T22:22:41.243  ...           17.0                    1.0   \n13490  2021-01-25T22:33:50.673  ...          150.0                    1.0   \n13491  2021-01-26T00:04:36.673  ...          150.0                    1.0   \n13492  2021-01-26T00:04:36.673  ...          104.0                    1.0   \n\n       Variants.Quantity  Variants.Code    Variants.Name Payments.Note  \\\n13488                1.0           None         Velvet 4          None   \n13489                1.0           None      Cotton Tops          None   \n13490                1.0           None  pallazo pants 5          None   \n13491                1.0           None  pallazo pants 5          None   \n13492                1.0           None         Velvet 4          None   \n\n       Payments.Code  Payments.Method  Payments.Amount        Payments.Date  \n13488           None             Cash            130.0  2021-01-25T00:00:00  \n13489           None             Cash            130.0  2021-01-25T00:00:00  \n13490           None             Cash            100.0  2021-01-25T00:00:00  \n13491           None             Cash            190.0  2021-01-25T00:00:00  \n13492           None             Cash            190.0  2021-01-25T00:00:00  \n\n[5 rows x 51 columns]",
      "text/html": "<div>\n<style scoped>\n    .dataframe tbody tr th:only-of-type {\n        vertical-align: middle;\n    }\n\n    .dataframe tbody tr th {\n        vertical-align: top;\n    }\n\n    .dataframe thead th {\n        text-align: right;\n    }\n</style>\n<table border=\"1\" class=\"dataframe\">\n  <thead>\n    <tr style=\"text-align: right;\">\n      <th></th>\n      <th>index</th>\n      <th>Outlet</th>\n      <th>Number</th>\n      <th>Date</th>\n      <th>DueDate</th>\n      <th>SalesType</th>\n      <th>SalesPerson</th>\n      <th>Customer</th>\n      <th>CreatorID</th>\n      <th>Created</th>\n      <th>...</th>\n      <th>Variants.Cost</th>\n      <th>Variants.UnitQuantity</th>\n      <th>Variants.Quantity</th>\n      <th>Variants.Code</th>\n      <th>Variants.Name</th>\n      <th>Payments.Note</th>\n      <th>Payments.Code</th>\n      <th>Payments.Method</th>\n      <th>Payments.Amount</th>\n      <th>Payments.Date</th>\n    </tr>\n  </thead>\n  <tbody>\n    <tr>\n      <th>13488</th>\n      <td>2750</td>\n      <td>Kayole Branch</td>\n      <td>21.01.513</td>\n      <td>2021-01-25T00:00:00</td>\n      <td></td>\n      <td>Normal</td>\n      <td>None</td>\n      <td>NaN</td>\n      <td>71e6e3df-257e-4a56-90ad-f6214b267aee</td>\n      <td>2021-01-25T22:22:41.243</td>\n      <td>...</td>\n      <td>104.0</td>\n      <td>1.0</td>\n      <td>1.0</td>\n      <td>None</td>\n      <td>Velvet 4</td>\n      <td>None</td>\n      <td>None</td>\n      <td>Cash</td>\n      <td>130.0</td>\n      <td>2021-01-25T00:00:00</td>\n    </tr>\n    <tr>\n      <th>13489</th>\n      <td>2750</td>\n      <td>Kayole Branch</td>\n      <td>21.01.513</td>\n      <td>2021-01-25T00:00:00</td>\n      <td></td>\n      <td>Normal</td>\n      <td>None</td>\n      <td>NaN</td>\n      <td>71e6e3df-257e-4a56-90ad-f6214b267aee</td>\n      <td>2021-01-25T22:22:41.243</td>\n      <td>...</td>\n      <td>17.0</td>\n      <td>1.0</td>\n      <td>1.0</td>\n      <td>None</td>\n      <td>Cotton Tops</td>\n      <td>None</td>\n      <td>None</td>\n      <td>Cash</td>\n      <td>130.0</td>\n      <td>2021-01-25T00:00:00</td>\n    </tr>\n    <tr>\n      <th>13490</th>\n      <td>2751</td>\n      <td>Kayole Branch</td>\n      <td>21.01.514</td>\n      <td>2021-01-25T00:00:00</td>\n      <td></td>\n      <td>Normal</td>\n      <td>None</td>\n      <td>NaN</td>\n      <td>71e6e3df-257e-4a56-90ad-f6214b267aee</td>\n      <td>2021-01-25T22:33:50.673</td>\n      <td>...</td>\n      <td>150.0</td>\n      <td>1.0</td>\n      <td>1.0</td>\n      <td>None</td>\n      <td>pallazo pants 5</td>\n      <td>None</td>\n      <td>None</td>\n      <td>Cash</td>\n      <td>100.0</td>\n      <td>2021-01-25T00:00:00</td>\n    </tr>\n    <tr>\n      <th>13491</th>\n      <td>2752</td>\n      <td>Kayole Branch</td>\n      <td>21.01.515</td>\n      <td>2021-01-25T00:00:00</td>\n      <td></td>\n      <td>Normal</td>\n      <td>None</td>\n      <td>NaN</td>\n      <td>71e6e3df-257e-4a56-90ad-f6214b267aee</td>\n      <td>2021-01-26T00:04:36.673</td>\n      <td>...</td>\n      <td>150.0</td>\n      <td>1.0</td>\n      <td>1.0</td>\n      <td>None</td>\n      <td>pallazo pants 5</td>\n      <td>None</td>\n      <td>None</td>\n      <td>Cash</td>\n      <td>190.0</td>\n      <td>2021-01-25T00:00:00</td>\n    </tr>\n    <tr>\n      <th>13492</th>\n      <td>2752</td>\n      <td>Kayole Branch</td>\n      <td>21.01.515</td>\n      <td>2021-01-25T00:00:00</td>\n      <td></td>\n      <td>Normal</td>\n      <td>None</td>\n      <td>NaN</td>\n      <td>71e6e3df-257e-4a56-90ad-f6214b267aee</td>\n      <td>2021-01-26T00:04:36.673</td>\n      <td>...</td>\n      <td>104.0</td>\n      <td>1.0</td>\n      <td>1.0</td>\n      <td>None</td>\n      <td>Velvet 4</td>\n      <td>None</td>\n      <td>None</td>\n      <td>Cash</td>\n      <td>190.0</td>\n      <td>2021-01-25T00:00:00</td>\n    </tr>\n  </tbody>\n</table>\n<p>5 rows × 51 columns</p>\n</div>"
     },
     "execution_count": 1,
     "metadata": {},
     "output_type": "execute_result"
    }
   ],
   "source": [
    "\n",
    "import matplotlib.pyplot as plt\n",
    "import pandas as pd\n",
    "import numpy as np\n",
    "import seaborn as sns\n",
    "import plotly.express as px\n",
    "\n",
    "from keys import conn_str\n",
    "from sqlalchemy import create_engine, exc\n",
    "\n",
    "df = pd.read_sql_table('raw_sales', conn_str)\n",
    "df.tail()"
   ]
  },
  {
   "cell_type": "code",
   "execution_count": 2,
   "outputs": [
    {
     "name": "stdout",
     "output_type": "stream",
     "text": [
      "<class 'pandas.core.frame.DataFrame'>\n",
      "RangeIndex: 13493 entries, 0 to 13492\n",
      "Data columns (total 51 columns):\n",
      " #   Column                   Non-Null Count  Dtype  \n",
      "---  ------                   --------------  -----  \n",
      " 0   index                    13493 non-null  int64  \n",
      " 1   Outlet                   13493 non-null  object \n",
      " 2   Number                   13493 non-null  object \n",
      " 3   Date                     13493 non-null  object \n",
      " 4   DueDate                  13493 non-null  object \n",
      " 5   SalesType                13493 non-null  object \n",
      " 6   SalesPerson              0 non-null      object \n",
      " 7   Customer                 0 non-null      float64\n",
      " 8   CreatorID                13493 non-null  object \n",
      " 9   Created                  13493 non-null  object \n",
      " 10  Discount1                13493 non-null  float64\n",
      " 11  Discount2                13493 non-null  float64\n",
      " 12  DiscountAmount           13493 non-null  float64\n",
      " 13  Gross                    13493 non-null  float64\n",
      " 14  DiscountTotal            13493 non-null  float64\n",
      " 15  TaxType                  13493 non-null  object \n",
      " 16  Tax                      13493 non-null  float64\n",
      " 17  Surcharge                13493 non-null  float64\n",
      " 18  Sales                    13493 non-null  float64\n",
      " 19  SalesNTax                13493 non-null  float64\n",
      " 20  Coupon                   0 non-null      object \n",
      " 21  Note                     23 non-null     object \n",
      " 22  InvoiceID                13493 non-null  object \n",
      " 23  PointUsed                13493 non-null  float64\n",
      " 24  PointsEarned             13493 non-null  float64\n",
      " 25  Delivery                 13493 non-null  object \n",
      " 26  Void                     13493 non-null  object \n",
      " 27  Customer.Name            85 non-null     object \n",
      " 28  Customer.Email           0 non-null      float64\n",
      " 29  Customer.Mobile          74 non-null     object \n",
      " 30  Customer.Code            63 non-null     object \n",
      " 31  Variants.Note            3 non-null      object \n",
      " 32  Variants.PriceTypeID     13493 non-null  int64  \n",
      " 33  Variants.NettPrice       13493 non-null  float64\n",
      " 34  Variants.Expense         13493 non-null  float64\n",
      " 35  Variants.LoyaltyPoint    13493 non-null  bool   \n",
      " 36  Variants.Taxable         13493 non-null  bool   \n",
      " 37  Variants.DiscountAmount  13493 non-null  float64\n",
      " 38  Variants.Discount        13493 non-null  float64\n",
      " 39  Variants.PriceOriginal   13493 non-null  float64\n",
      " 40  Variants.Price           13493 non-null  float64\n",
      " 41  Variants.Cost            13493 non-null  float64\n",
      " 42  Variants.UnitQuantity    13493 non-null  float64\n",
      " 43  Variants.Quantity        13493 non-null  float64\n",
      " 44  Variants.Code            332 non-null    object \n",
      " 45  Variants.Name            13493 non-null  object \n",
      " 46  Payments.Note            543 non-null    object \n",
      " 47  Payments.Code            53 non-null     object \n",
      " 48  Payments.Method          13493 non-null  object \n",
      " 49  Payments.Amount          13493 non-null  float64\n",
      " 50  Payments.Date            13493 non-null  object \n",
      "dtypes: bool(2), float64(23), int64(2), object(24)\n",
      "memory usage: 5.1+ MB\n"
     ]
    }
   ],
   "source": [
    "df.info()"
   ],
   "metadata": {
    "collapsed": false,
    "pycharm": {
     "name": "#%%\n"
    }
   }
  },
  {
   "cell_type": "code",
   "execution_count": 3,
   "outputs": [
    {
     "data": {
      "text/plain": "index                      2759\nOutlet                        1\nNumber                     9267\nDate                        306\nDueDate                       1\nSalesType                     1\nSalesPerson                   0\nCustomer                      0\nCreatorID                     1\nCreated                    9264\nDiscount1                     3\nDiscount2                     3\nDiscountAmount               21\nGross                       394\nDiscountTotal                73\nTaxType                       1\nTax                           1\nSurcharge                     1\nSales                       420\nSalesNTax                   420\nCoupon                        0\nNote                         14\nInvoiceID                  9267\nPointUsed                     1\nPointsEarned                 32\nDelivery                      2\nVoid                          1\nCustomer.Name                51\nCustomer.Email                0\nCustomer.Mobile              47\nCustomer.Code                37\nVariants.Note                 3\nVariants.PriceTypeID          1\nVariants.NettPrice          249\nVariants.Expense              1\nVariants.LoyaltyPoint         1\nVariants.Taxable              1\nVariants.DiscountAmount       7\nVariants.Discount             5\nVariants.PriceOriginal       85\nVariants.Price              115\nVariants.Cost               157\nVariants.UnitQuantity         1\nVariants.Quantity            31\nVariants.Code                 8\nVariants.Name               260\nPayments.Note               299\nPayments.Code                30\nPayments.Method               2\nPayments.Amount             420\nPayments.Date               307\ndtype: int64"
     },
     "execution_count": 3,
     "metadata": {},
     "output_type": "execute_result"
    }
   ],
   "source": [
    "df.nunique()"
   ],
   "metadata": {
    "collapsed": false,
    "pycharm": {
     "name": "#%%\n"
    }
   }
  },
  {
   "cell_type": "markdown",
   "source": [
    "Converting the 'Created' column to datetime and sorting the entries from oldest to newest.\n",
    "Will be useful in the future"
   ],
   "metadata": {
    "collapsed": false,
    "pycharm": {
     "name": "#%% md\n"
    }
   }
  },
  {
   "cell_type": "code",
   "execution_count": 4,
   "outputs": [
    {
     "name": "stderr",
     "output_type": "stream",
     "text": [
      "<ipython-input-4-8f5b712e4282>:8: FutureWarning: weekofyear and week have been deprecated, please use DatetimeIndex.isocalendar().week instead, which returns a Series.  To exactly reproduce the behavior of week and weekofyear and return an Index, you may call pd.Int64Index(idx.isocalendar().week)\n",
      "  df['weekOfMonth'] = df.index.week\n"
     ]
    },
    {
     "data": {
      "text/plain": "                         index         Outlet     Number                 Date  \\\nCreated                                                                         \n2020-02-07 22:51:30.473      0  Kayole Branch  20.02.002  2020-02-07T00:00:00   \n2020-02-07 22:52:50.140      1  Kayole Branch  20.02.003  2020-02-07T00:00:00   \n2020-02-07 22:53:26.450      2  Kayole Branch  20.02.004  2020-02-07T00:00:00   \n2020-02-07 23:05:02.100      3  Kayole Branch  20.02.005  2020-02-07T00:00:00   \n2020-02-07 23:05:02.100      3  Kayole Branch  20.02.005  2020-02-07T00:00:00   \n\n                        DueDate SalesType SalesPerson  Customer  \\\nCreated                                                           \n2020-02-07 22:51:30.473            Normal        None       NaN   \n2020-02-07 22:52:50.140            Normal        None       NaN   \n2020-02-07 22:53:26.450            Normal        None       NaN   \n2020-02-07 23:05:02.100            Normal        None       NaN   \n2020-02-07 23:05:02.100            Normal        None       NaN   \n\n                                                    CreatorID  Discount1  ...  \\\nCreated                                                                   ...   \n2020-02-07 22:51:30.473  71e6e3df-257e-4a56-90ad-f6214b267aee        0.0  ...   \n2020-02-07 22:52:50.140  71e6e3df-257e-4a56-90ad-f6214b267aee        0.0  ...   \n2020-02-07 22:53:26.450  71e6e3df-257e-4a56-90ad-f6214b267aee        0.0  ...   \n2020-02-07 23:05:02.100  71e6e3df-257e-4a56-90ad-f6214b267aee        0.0  ...   \n2020-02-07 23:05:02.100  71e6e3df-257e-4a56-90ad-f6214b267aee        0.0  ...   \n\n                         Payments.Method  Payments.Amount  \\\nCreated                                                     \n2020-02-07 22:51:30.473             Cash            200.0   \n2020-02-07 22:52:50.140             Cash            400.0   \n2020-02-07 22:53:26.450             Cash            100.0   \n2020-02-07 23:05:02.100             Cash            380.0   \n2020-02-07 23:05:02.100             Cash            380.0   \n\n                               Payments.Date  year month  day  dayOfWeek  \\\nCreated                                                                    \n2020-02-07 22:51:30.473  2020-02-07T00:00:00  2020     2    7          4   \n2020-02-07 22:52:50.140  2020-02-07T00:00:00  2020     2    7          4   \n2020-02-07 22:53:26.450  2020-02-07T00:00:00  2020     2    7          4   \n2020-02-07 23:05:02.100  2020-02-07T00:00:00  2020     2    7          4   \n2020-02-07 23:05:02.100  2020-02-07T00:00:00  2020     2    7          4   \n\n                         weekOfMonth  hour minute  \nCreated                                            \n2020-02-07 22:51:30.473            6    22     51  \n2020-02-07 22:52:50.140            6    22     52  \n2020-02-07 22:53:26.450            6    22     53  \n2020-02-07 23:05:02.100            6    23      5  \n2020-02-07 23:05:02.100            6    23      5  \n\n[5 rows x 57 columns]",
      "text/html": "<div>\n<style scoped>\n    .dataframe tbody tr th:only-of-type {\n        vertical-align: middle;\n    }\n\n    .dataframe tbody tr th {\n        vertical-align: top;\n    }\n\n    .dataframe thead th {\n        text-align: right;\n    }\n</style>\n<table border=\"1\" class=\"dataframe\">\n  <thead>\n    <tr style=\"text-align: right;\">\n      <th></th>\n      <th>index</th>\n      <th>Outlet</th>\n      <th>Number</th>\n      <th>Date</th>\n      <th>DueDate</th>\n      <th>SalesType</th>\n      <th>SalesPerson</th>\n      <th>Customer</th>\n      <th>CreatorID</th>\n      <th>Discount1</th>\n      <th>...</th>\n      <th>Payments.Method</th>\n      <th>Payments.Amount</th>\n      <th>Payments.Date</th>\n      <th>year</th>\n      <th>month</th>\n      <th>day</th>\n      <th>dayOfWeek</th>\n      <th>weekOfMonth</th>\n      <th>hour</th>\n      <th>minute</th>\n    </tr>\n    <tr>\n      <th>Created</th>\n      <th></th>\n      <th></th>\n      <th></th>\n      <th></th>\n      <th></th>\n      <th></th>\n      <th></th>\n      <th></th>\n      <th></th>\n      <th></th>\n      <th></th>\n      <th></th>\n      <th></th>\n      <th></th>\n      <th></th>\n      <th></th>\n      <th></th>\n      <th></th>\n      <th></th>\n      <th></th>\n      <th></th>\n    </tr>\n  </thead>\n  <tbody>\n    <tr>\n      <th>2020-02-07 22:51:30.473</th>\n      <td>0</td>\n      <td>Kayole Branch</td>\n      <td>20.02.002</td>\n      <td>2020-02-07T00:00:00</td>\n      <td></td>\n      <td>Normal</td>\n      <td>None</td>\n      <td>NaN</td>\n      <td>71e6e3df-257e-4a56-90ad-f6214b267aee</td>\n      <td>0.0</td>\n      <td>...</td>\n      <td>Cash</td>\n      <td>200.0</td>\n      <td>2020-02-07T00:00:00</td>\n      <td>2020</td>\n      <td>2</td>\n      <td>7</td>\n      <td>4</td>\n      <td>6</td>\n      <td>22</td>\n      <td>51</td>\n    </tr>\n    <tr>\n      <th>2020-02-07 22:52:50.140</th>\n      <td>1</td>\n      <td>Kayole Branch</td>\n      <td>20.02.003</td>\n      <td>2020-02-07T00:00:00</td>\n      <td></td>\n      <td>Normal</td>\n      <td>None</td>\n      <td>NaN</td>\n      <td>71e6e3df-257e-4a56-90ad-f6214b267aee</td>\n      <td>0.0</td>\n      <td>...</td>\n      <td>Cash</td>\n      <td>400.0</td>\n      <td>2020-02-07T00:00:00</td>\n      <td>2020</td>\n      <td>2</td>\n      <td>7</td>\n      <td>4</td>\n      <td>6</td>\n      <td>22</td>\n      <td>52</td>\n    </tr>\n    <tr>\n      <th>2020-02-07 22:53:26.450</th>\n      <td>2</td>\n      <td>Kayole Branch</td>\n      <td>20.02.004</td>\n      <td>2020-02-07T00:00:00</td>\n      <td></td>\n      <td>Normal</td>\n      <td>None</td>\n      <td>NaN</td>\n      <td>71e6e3df-257e-4a56-90ad-f6214b267aee</td>\n      <td>0.0</td>\n      <td>...</td>\n      <td>Cash</td>\n      <td>100.0</td>\n      <td>2020-02-07T00:00:00</td>\n      <td>2020</td>\n      <td>2</td>\n      <td>7</td>\n      <td>4</td>\n      <td>6</td>\n      <td>22</td>\n      <td>53</td>\n    </tr>\n    <tr>\n      <th>2020-02-07 23:05:02.100</th>\n      <td>3</td>\n      <td>Kayole Branch</td>\n      <td>20.02.005</td>\n      <td>2020-02-07T00:00:00</td>\n      <td></td>\n      <td>Normal</td>\n      <td>None</td>\n      <td>NaN</td>\n      <td>71e6e3df-257e-4a56-90ad-f6214b267aee</td>\n      <td>0.0</td>\n      <td>...</td>\n      <td>Cash</td>\n      <td>380.0</td>\n      <td>2020-02-07T00:00:00</td>\n      <td>2020</td>\n      <td>2</td>\n      <td>7</td>\n      <td>4</td>\n      <td>6</td>\n      <td>23</td>\n      <td>5</td>\n    </tr>\n    <tr>\n      <th>2020-02-07 23:05:02.100</th>\n      <td>3</td>\n      <td>Kayole Branch</td>\n      <td>20.02.005</td>\n      <td>2020-02-07T00:00:00</td>\n      <td></td>\n      <td>Normal</td>\n      <td>None</td>\n      <td>NaN</td>\n      <td>71e6e3df-257e-4a56-90ad-f6214b267aee</td>\n      <td>0.0</td>\n      <td>...</td>\n      <td>Cash</td>\n      <td>380.0</td>\n      <td>2020-02-07T00:00:00</td>\n      <td>2020</td>\n      <td>2</td>\n      <td>7</td>\n      <td>4</td>\n      <td>6</td>\n      <td>23</td>\n      <td>5</td>\n    </tr>\n  </tbody>\n</table>\n<p>5 rows × 57 columns</p>\n</div>"
     },
     "execution_count": 4,
     "metadata": {},
     "output_type": "execute_result"
    }
   ],
   "source": [
    "df['Created'] = pd.to_datetime(df['Created'])\n",
    "df = df.set_index('Created')\n",
    "\n",
    "df['year'] = df.index.year\n",
    "df['month'] = df.index.month\n",
    "df['day'] = df.index.day\n",
    "df['dayOfWeek'] = df.index.weekday\n",
    "df['weekOfMonth'] = df.index.week\n",
    "df['hour'] = df.index.hour\n",
    "df['minute'] = df.index.minute\n",
    "df.head()"
   ],
   "metadata": {
    "collapsed": false,
    "pycharm": {
     "name": "#%%\n"
    }
   }
  },
  {
   "cell_type": "code",
   "execution_count": 5,
   "outputs": [],
   "source": [
    "df['hour'] = df.hour - 5\n"
   ],
   "metadata": {
    "collapsed": false,
    "pycharm": {
     "name": "#%%\n"
    }
   }
  },
  {
   "cell_type": "code",
   "execution_count": 6,
   "outputs": [
    {
     "data": {
      "text/plain": "Created\n2020-02-07 22:51:30.473   2020-02-07 17:51:00\n2020-02-07 22:52:50.140   2020-02-07 17:52:00\n2020-02-07 22:53:26.450   2020-02-07 17:53:00\n2020-02-07 23:05:02.100   2020-02-07 18:05:00\n2020-02-07 23:05:02.100   2020-02-07 18:05:00\nName: Date, dtype: datetime64[ns]"
     },
     "execution_count": 6,
     "metadata": {},
     "output_type": "execute_result"
    }
   ],
   "source": [
    "df['Date'] = pd.to_datetime(df[['year', 'month', 'day', 'hour', 'minute']])\n",
    "df.Date.head()"
   ],
   "metadata": {
    "collapsed": false,
    "pycharm": {
     "name": "#%%\n"
    }
   }
  },
  {
   "cell_type": "code",
   "execution_count": 7,
   "outputs": [
    {
     "data": {
      "text/plain": "                      Created  index         Outlet     Number  \\\n0     2020-02-07 22:51:30.473      0  Kayole Branch  20.02.002   \n1     2020-02-07 22:52:50.140      1  Kayole Branch  20.02.003   \n2     2020-02-07 22:53:26.450      2  Kayole Branch  20.02.004   \n3     2020-02-07 23:05:02.100      3  Kayole Branch  20.02.005   \n4     2020-02-07 23:05:02.100      3  Kayole Branch  20.02.005   \n...                       ...    ...            ...        ...   \n13488 2021-01-25 22:22:41.243   2750  Kayole Branch  21.01.513   \n13489 2021-01-25 22:22:41.243   2750  Kayole Branch  21.01.513   \n13490 2021-01-25 22:33:50.673   2751  Kayole Branch  21.01.514   \n13491 2021-01-26 00:04:36.673   2752  Kayole Branch  21.01.515   \n13492 2021-01-26 00:04:36.673   2752  Kayole Branch  21.01.515   \n\n                     Date DueDate SalesType SalesPerson  Customer  \\\n0     2020-02-07 17:51:00            Normal        None       NaN   \n1     2020-02-07 17:52:00            Normal        None       NaN   \n2     2020-02-07 17:53:00            Normal        None       NaN   \n3     2020-02-07 18:05:00            Normal        None       NaN   \n4     2020-02-07 18:05:00            Normal        None       NaN   \n...                   ...     ...       ...         ...       ...   \n13488 2021-01-25 17:22:00            Normal        None       NaN   \n13489 2021-01-25 17:22:00            Normal        None       NaN   \n13490 2021-01-25 17:33:00            Normal        None       NaN   \n13491 2021-01-25 19:04:00            Normal        None       NaN   \n13492 2021-01-25 19:04:00            Normal        None       NaN   \n\n                                  CreatorID  ...  Payments.Method  \\\n0      71e6e3df-257e-4a56-90ad-f6214b267aee  ...             Cash   \n1      71e6e3df-257e-4a56-90ad-f6214b267aee  ...             Cash   \n2      71e6e3df-257e-4a56-90ad-f6214b267aee  ...             Cash   \n3      71e6e3df-257e-4a56-90ad-f6214b267aee  ...             Cash   \n4      71e6e3df-257e-4a56-90ad-f6214b267aee  ...             Cash   \n...                                     ...  ...              ...   \n13488  71e6e3df-257e-4a56-90ad-f6214b267aee  ...             Cash   \n13489  71e6e3df-257e-4a56-90ad-f6214b267aee  ...             Cash   \n13490  71e6e3df-257e-4a56-90ad-f6214b267aee  ...             Cash   \n13491  71e6e3df-257e-4a56-90ad-f6214b267aee  ...             Cash   \n13492  71e6e3df-257e-4a56-90ad-f6214b267aee  ...             Cash   \n\n       Payments.Amount        Payments.Date  year  month day  dayOfWeek  \\\n0                200.0  2020-02-07T00:00:00  2020      2   7          4   \n1                400.0  2020-02-07T00:00:00  2020      2   7          4   \n2                100.0  2020-02-07T00:00:00  2020      2   7          4   \n3                380.0  2020-02-07T00:00:00  2020      2   7          4   \n4                380.0  2020-02-07T00:00:00  2020      2   7          4   \n...                ...                  ...   ...    ...  ..        ...   \n13488            130.0  2021-01-25T00:00:00  2021      1  25          0   \n13489            130.0  2021-01-25T00:00:00  2021      1  25          0   \n13490            100.0  2021-01-25T00:00:00  2021      1  25          0   \n13491            190.0  2021-01-25T00:00:00  2021      1  26          1   \n13492            190.0  2021-01-25T00:00:00  2021      1  26          1   \n\n       weekOfMonth  hour  minute  \n0                6    17      51  \n1                6    17      52  \n2                6    17      53  \n3                6    18       5  \n4                6    18       5  \n...            ...   ...     ...  \n13488            4    17      22  \n13489            4    17      22  \n13490            4    17      33  \n13491            4    -5       4  \n13492            4    -5       4  \n\n[13493 rows x 58 columns]",
      "text/html": "<div>\n<style scoped>\n    .dataframe tbody tr th:only-of-type {\n        vertical-align: middle;\n    }\n\n    .dataframe tbody tr th {\n        vertical-align: top;\n    }\n\n    .dataframe thead th {\n        text-align: right;\n    }\n</style>\n<table border=\"1\" class=\"dataframe\">\n  <thead>\n    <tr style=\"text-align: right;\">\n      <th></th>\n      <th>Created</th>\n      <th>index</th>\n      <th>Outlet</th>\n      <th>Number</th>\n      <th>Date</th>\n      <th>DueDate</th>\n      <th>SalesType</th>\n      <th>SalesPerson</th>\n      <th>Customer</th>\n      <th>CreatorID</th>\n      <th>...</th>\n      <th>Payments.Method</th>\n      <th>Payments.Amount</th>\n      <th>Payments.Date</th>\n      <th>year</th>\n      <th>month</th>\n      <th>day</th>\n      <th>dayOfWeek</th>\n      <th>weekOfMonth</th>\n      <th>hour</th>\n      <th>minute</th>\n    </tr>\n  </thead>\n  <tbody>\n    <tr>\n      <th>0</th>\n      <td>2020-02-07 22:51:30.473</td>\n      <td>0</td>\n      <td>Kayole Branch</td>\n      <td>20.02.002</td>\n      <td>2020-02-07 17:51:00</td>\n      <td></td>\n      <td>Normal</td>\n      <td>None</td>\n      <td>NaN</td>\n      <td>71e6e3df-257e-4a56-90ad-f6214b267aee</td>\n      <td>...</td>\n      <td>Cash</td>\n      <td>200.0</td>\n      <td>2020-02-07T00:00:00</td>\n      <td>2020</td>\n      <td>2</td>\n      <td>7</td>\n      <td>4</td>\n      <td>6</td>\n      <td>17</td>\n      <td>51</td>\n    </tr>\n    <tr>\n      <th>1</th>\n      <td>2020-02-07 22:52:50.140</td>\n      <td>1</td>\n      <td>Kayole Branch</td>\n      <td>20.02.003</td>\n      <td>2020-02-07 17:52:00</td>\n      <td></td>\n      <td>Normal</td>\n      <td>None</td>\n      <td>NaN</td>\n      <td>71e6e3df-257e-4a56-90ad-f6214b267aee</td>\n      <td>...</td>\n      <td>Cash</td>\n      <td>400.0</td>\n      <td>2020-02-07T00:00:00</td>\n      <td>2020</td>\n      <td>2</td>\n      <td>7</td>\n      <td>4</td>\n      <td>6</td>\n      <td>17</td>\n      <td>52</td>\n    </tr>\n    <tr>\n      <th>2</th>\n      <td>2020-02-07 22:53:26.450</td>\n      <td>2</td>\n      <td>Kayole Branch</td>\n      <td>20.02.004</td>\n      <td>2020-02-07 17:53:00</td>\n      <td></td>\n      <td>Normal</td>\n      <td>None</td>\n      <td>NaN</td>\n      <td>71e6e3df-257e-4a56-90ad-f6214b267aee</td>\n      <td>...</td>\n      <td>Cash</td>\n      <td>100.0</td>\n      <td>2020-02-07T00:00:00</td>\n      <td>2020</td>\n      <td>2</td>\n      <td>7</td>\n      <td>4</td>\n      <td>6</td>\n      <td>17</td>\n      <td>53</td>\n    </tr>\n    <tr>\n      <th>3</th>\n      <td>2020-02-07 23:05:02.100</td>\n      <td>3</td>\n      <td>Kayole Branch</td>\n      <td>20.02.005</td>\n      <td>2020-02-07 18:05:00</td>\n      <td></td>\n      <td>Normal</td>\n      <td>None</td>\n      <td>NaN</td>\n      <td>71e6e3df-257e-4a56-90ad-f6214b267aee</td>\n      <td>...</td>\n      <td>Cash</td>\n      <td>380.0</td>\n      <td>2020-02-07T00:00:00</td>\n      <td>2020</td>\n      <td>2</td>\n      <td>7</td>\n      <td>4</td>\n      <td>6</td>\n      <td>18</td>\n      <td>5</td>\n    </tr>\n    <tr>\n      <th>4</th>\n      <td>2020-02-07 23:05:02.100</td>\n      <td>3</td>\n      <td>Kayole Branch</td>\n      <td>20.02.005</td>\n      <td>2020-02-07 18:05:00</td>\n      <td></td>\n      <td>Normal</td>\n      <td>None</td>\n      <td>NaN</td>\n      <td>71e6e3df-257e-4a56-90ad-f6214b267aee</td>\n      <td>...</td>\n      <td>Cash</td>\n      <td>380.0</td>\n      <td>2020-02-07T00:00:00</td>\n      <td>2020</td>\n      <td>2</td>\n      <td>7</td>\n      <td>4</td>\n      <td>6</td>\n      <td>18</td>\n      <td>5</td>\n    </tr>\n    <tr>\n      <th>...</th>\n      <td>...</td>\n      <td>...</td>\n      <td>...</td>\n      <td>...</td>\n      <td>...</td>\n      <td>...</td>\n      <td>...</td>\n      <td>...</td>\n      <td>...</td>\n      <td>...</td>\n      <td>...</td>\n      <td>...</td>\n      <td>...</td>\n      <td>...</td>\n      <td>...</td>\n      <td>...</td>\n      <td>...</td>\n      <td>...</td>\n      <td>...</td>\n      <td>...</td>\n      <td>...</td>\n    </tr>\n    <tr>\n      <th>13488</th>\n      <td>2021-01-25 22:22:41.243</td>\n      <td>2750</td>\n      <td>Kayole Branch</td>\n      <td>21.01.513</td>\n      <td>2021-01-25 17:22:00</td>\n      <td></td>\n      <td>Normal</td>\n      <td>None</td>\n      <td>NaN</td>\n      <td>71e6e3df-257e-4a56-90ad-f6214b267aee</td>\n      <td>...</td>\n      <td>Cash</td>\n      <td>130.0</td>\n      <td>2021-01-25T00:00:00</td>\n      <td>2021</td>\n      <td>1</td>\n      <td>25</td>\n      <td>0</td>\n      <td>4</td>\n      <td>17</td>\n      <td>22</td>\n    </tr>\n    <tr>\n      <th>13489</th>\n      <td>2021-01-25 22:22:41.243</td>\n      <td>2750</td>\n      <td>Kayole Branch</td>\n      <td>21.01.513</td>\n      <td>2021-01-25 17:22:00</td>\n      <td></td>\n      <td>Normal</td>\n      <td>None</td>\n      <td>NaN</td>\n      <td>71e6e3df-257e-4a56-90ad-f6214b267aee</td>\n      <td>...</td>\n      <td>Cash</td>\n      <td>130.0</td>\n      <td>2021-01-25T00:00:00</td>\n      <td>2021</td>\n      <td>1</td>\n      <td>25</td>\n      <td>0</td>\n      <td>4</td>\n      <td>17</td>\n      <td>22</td>\n    </tr>\n    <tr>\n      <th>13490</th>\n      <td>2021-01-25 22:33:50.673</td>\n      <td>2751</td>\n      <td>Kayole Branch</td>\n      <td>21.01.514</td>\n      <td>2021-01-25 17:33:00</td>\n      <td></td>\n      <td>Normal</td>\n      <td>None</td>\n      <td>NaN</td>\n      <td>71e6e3df-257e-4a56-90ad-f6214b267aee</td>\n      <td>...</td>\n      <td>Cash</td>\n      <td>100.0</td>\n      <td>2021-01-25T00:00:00</td>\n      <td>2021</td>\n      <td>1</td>\n      <td>25</td>\n      <td>0</td>\n      <td>4</td>\n      <td>17</td>\n      <td>33</td>\n    </tr>\n    <tr>\n      <th>13491</th>\n      <td>2021-01-26 00:04:36.673</td>\n      <td>2752</td>\n      <td>Kayole Branch</td>\n      <td>21.01.515</td>\n      <td>2021-01-25 19:04:00</td>\n      <td></td>\n      <td>Normal</td>\n      <td>None</td>\n      <td>NaN</td>\n      <td>71e6e3df-257e-4a56-90ad-f6214b267aee</td>\n      <td>...</td>\n      <td>Cash</td>\n      <td>190.0</td>\n      <td>2021-01-25T00:00:00</td>\n      <td>2021</td>\n      <td>1</td>\n      <td>26</td>\n      <td>1</td>\n      <td>4</td>\n      <td>-5</td>\n      <td>4</td>\n    </tr>\n    <tr>\n      <th>13492</th>\n      <td>2021-01-26 00:04:36.673</td>\n      <td>2752</td>\n      <td>Kayole Branch</td>\n      <td>21.01.515</td>\n      <td>2021-01-25 19:04:00</td>\n      <td></td>\n      <td>Normal</td>\n      <td>None</td>\n      <td>NaN</td>\n      <td>71e6e3df-257e-4a56-90ad-f6214b267aee</td>\n      <td>...</td>\n      <td>Cash</td>\n      <td>190.0</td>\n      <td>2021-01-25T00:00:00</td>\n      <td>2021</td>\n      <td>1</td>\n      <td>26</td>\n      <td>1</td>\n      <td>4</td>\n      <td>-5</td>\n      <td>4</td>\n    </tr>\n  </tbody>\n</table>\n<p>13493 rows × 58 columns</p>\n</div>"
     },
     "execution_count": 7,
     "metadata": {},
     "output_type": "execute_result"
    }
   ],
   "source": [
    "df = df.reset_index()\n",
    "df"
   ],
   "metadata": {
    "collapsed": false,
    "pycharm": {
     "name": "#%%\n"
    }
   }
  },
  {
   "cell_type": "code",
   "execution_count": 8,
   "outputs": [
    {
     "name": "stdout",
     "output_type": "stream",
     "text": [
      "2020-02-07 17:51:00\n"
     ]
    }
   ],
   "source": [
    "'''to get the time of the most recently updated entry to the records'''\n",
    "print(df['Date'].iloc[0])"
   ],
   "metadata": {
    "collapsed": false,
    "pycharm": {
     "name": "#%%\n"
    }
   }
  },
  {
   "cell_type": "markdown",
   "source": [
    "Checking for the unique values per column. This will determine which columns to drop as we clean up the data"
   ],
   "metadata": {
    "collapsed": false,
    "pycharm": {
     "name": "#%% md\n"
    }
   }
  },
  {
   "cell_type": "code",
   "execution_count": 9,
   "outputs": [
    {
     "data": {
      "text/plain": "Created                    9264\nindex                      2759\nOutlet                        1\nNumber                     9267\nDate                        306\nDueDate                       1\nSalesType                     1\nSalesPerson                   0\nCustomer                      0\nCreatorID                     1\nDiscount1                     3\nDiscount2                     3\nDiscountAmount               21\nGross                       394\nDiscountTotal                73\nTaxType                       1\nTax                           1\nSurcharge                     1\nSales                       420\nSalesNTax                   420\nCoupon                        0\nNote                         14\nInvoiceID                  9267\nPointUsed                     1\nPointsEarned                 32\nDelivery                      2\nVoid                          1\nCustomer.Name                51\nCustomer.Email                0\nCustomer.Mobile              47\nCustomer.Code                37\nVariants.Note                 3\nVariants.PriceTypeID          1\nVariants.NettPrice          249\nVariants.Expense              1\nVariants.LoyaltyPoint         1\nVariants.Taxable              1\nVariants.DiscountAmount       7\nVariants.Discount             5\nVariants.PriceOriginal       85\nVariants.Price              115\nVariants.Cost               157\nVariants.UnitQuantity         1\nVariants.Quantity            31\nVariants.Code                 8\nVariants.Name               260\nPayments.Note               299\nPayments.Code                30\nPayments.Method               2\nPayments.Amount             420\nPayments.Date               307\nyear                          2\nmonth                        12\nday                          31\ndayOfWeek                     7\nweekOfMonth                  51\nhour                         13\nminute                       60\nDateTime                   8832\ndtype: int64"
     },
     "execution_count": 9,
     "metadata": {},
     "output_type": "execute_result"
    }
   ],
   "source": [
    "df.nunique()"
   ],
   "metadata": {
    "collapsed": false,
    "pycharm": {
     "name": "#%%\n"
    }
   }
  },
  {
   "cell_type": "markdown",
   "source": [
    "Dropping the columns with only one unique value in them. These won't help us in the analysis as they are consistent"
   ],
   "metadata": {
    "collapsed": false,
    "pycharm": {
     "name": "#%% md\n"
    }
   }
  },
  {
   "cell_type": "code",
   "execution_count": 9,
   "outputs": [],
   "source": [
    "df = df.drop(['Outlet', 'DueDate', 'SalesType', 'SalesPerson', 'CreatorID', 'Discount1', 'Discount2',\n",
    "              'DiscountAmount', 'DiscountTotal', 'TaxType', 'Tax', 'Surcharge', 'Sales', 'Coupon', 'Note',\n",
    "              'Delivery', 'Void', 'SalesNTax', 'PointUsed', 'Outlet', 'Customer.Name', 'Customer.Mobile',\n",
    "              'Customer.Code', 'Variants.Note', 'Variants.PriceTypeID', 'Variants.Expense', 'Variants.LoyaltyPoint',\n",
    "              'Variants.Taxable', 'Variants.UnitQuantity', 'Customer', 'Customer.Email'], axis=1)"
   ],
   "metadata": {
    "collapsed": false,
    "pycharm": {
     "name": "#%%\n"
    }
   }
  },
  {
   "cell_type": "markdown",
   "source": [
    "Checking for columns with Nan Values and dropping them"
   ],
   "metadata": {
    "collapsed": false,
    "pycharm": {
     "name": "#%% md\n"
    }
   }
  },
  {
   "cell_type": "code",
   "execution_count": 10,
   "outputs": [
    {
     "data": {
      "text/plain": "       Created  index  Number   Date  Gross  InvoiceID  PointsEarned  \\\n0        False  False   False  False  False      False         False   \n1        False  False   False  False  False      False         False   \n2        False  False   False  False  False      False         False   \n3        False  False   False  False  False      False         False   \n4        False  False   False  False  False      False         False   \n...        ...    ...     ...    ...    ...        ...           ...   \n13488    False  False   False  False  False      False         False   \n13489    False  False   False  False  False      False         False   \n13490    False  False   False  False  False      False         False   \n13491    False  False   False  False  False      False         False   \n13492    False  False   False  False  False      False         False   \n\n       Variants.NettPrice  Variants.DiscountAmount  Variants.Discount  ...  \\\n0                   False                    False              False  ...   \n1                   False                    False              False  ...   \n2                   False                    False              False  ...   \n3                   False                    False              False  ...   \n4                   False                    False              False  ...   \n...                   ...                      ...                ...  ...   \n13488               False                    False              False  ...   \n13489               False                    False              False  ...   \n13490               False                    False              False  ...   \n13491               False                    False              False  ...   \n13492               False                    False              False  ...   \n\n       Payments.Method  Payments.Amount  Payments.Date   year  month    day  \\\n0                False            False          False  False  False  False   \n1                False            False          False  False  False  False   \n2                False            False          False  False  False  False   \n3                False            False          False  False  False  False   \n4                False            False          False  False  False  False   \n...                ...              ...            ...    ...    ...    ...   \n13488            False            False          False  False  False  False   \n13489            False            False          False  False  False  False   \n13490            False            False          False  False  False  False   \n13491            False            False          False  False  False  False   \n13492            False            False          False  False  False  False   \n\n       dayOfWeek  weekOfMonth   hour  minute  \n0          False        False  False   False  \n1          False        False  False   False  \n2          False        False  False   False  \n3          False        False  False   False  \n4          False        False  False   False  \n...          ...          ...    ...     ...  \n13488      False        False  False   False  \n13489      False        False  False   False  \n13490      False        False  False   False  \n13491      False        False  False   False  \n13492      False        False  False   False  \n\n[13493 rows x 28 columns]",
      "text/html": "<div>\n<style scoped>\n    .dataframe tbody tr th:only-of-type {\n        vertical-align: middle;\n    }\n\n    .dataframe tbody tr th {\n        vertical-align: top;\n    }\n\n    .dataframe thead th {\n        text-align: right;\n    }\n</style>\n<table border=\"1\" class=\"dataframe\">\n  <thead>\n    <tr style=\"text-align: right;\">\n      <th></th>\n      <th>Created</th>\n      <th>index</th>\n      <th>Number</th>\n      <th>Date</th>\n      <th>Gross</th>\n      <th>InvoiceID</th>\n      <th>PointsEarned</th>\n      <th>Variants.NettPrice</th>\n      <th>Variants.DiscountAmount</th>\n      <th>Variants.Discount</th>\n      <th>...</th>\n      <th>Payments.Method</th>\n      <th>Payments.Amount</th>\n      <th>Payments.Date</th>\n      <th>year</th>\n      <th>month</th>\n      <th>day</th>\n      <th>dayOfWeek</th>\n      <th>weekOfMonth</th>\n      <th>hour</th>\n      <th>minute</th>\n    </tr>\n  </thead>\n  <tbody>\n    <tr>\n      <th>0</th>\n      <td>False</td>\n      <td>False</td>\n      <td>False</td>\n      <td>False</td>\n      <td>False</td>\n      <td>False</td>\n      <td>False</td>\n      <td>False</td>\n      <td>False</td>\n      <td>False</td>\n      <td>...</td>\n      <td>False</td>\n      <td>False</td>\n      <td>False</td>\n      <td>False</td>\n      <td>False</td>\n      <td>False</td>\n      <td>False</td>\n      <td>False</td>\n      <td>False</td>\n      <td>False</td>\n    </tr>\n    <tr>\n      <th>1</th>\n      <td>False</td>\n      <td>False</td>\n      <td>False</td>\n      <td>False</td>\n      <td>False</td>\n      <td>False</td>\n      <td>False</td>\n      <td>False</td>\n      <td>False</td>\n      <td>False</td>\n      <td>...</td>\n      <td>False</td>\n      <td>False</td>\n      <td>False</td>\n      <td>False</td>\n      <td>False</td>\n      <td>False</td>\n      <td>False</td>\n      <td>False</td>\n      <td>False</td>\n      <td>False</td>\n    </tr>\n    <tr>\n      <th>2</th>\n      <td>False</td>\n      <td>False</td>\n      <td>False</td>\n      <td>False</td>\n      <td>False</td>\n      <td>False</td>\n      <td>False</td>\n      <td>False</td>\n      <td>False</td>\n      <td>False</td>\n      <td>...</td>\n      <td>False</td>\n      <td>False</td>\n      <td>False</td>\n      <td>False</td>\n      <td>False</td>\n      <td>False</td>\n      <td>False</td>\n      <td>False</td>\n      <td>False</td>\n      <td>False</td>\n    </tr>\n    <tr>\n      <th>3</th>\n      <td>False</td>\n      <td>False</td>\n      <td>False</td>\n      <td>False</td>\n      <td>False</td>\n      <td>False</td>\n      <td>False</td>\n      <td>False</td>\n      <td>False</td>\n      <td>False</td>\n      <td>...</td>\n      <td>False</td>\n      <td>False</td>\n      <td>False</td>\n      <td>False</td>\n      <td>False</td>\n      <td>False</td>\n      <td>False</td>\n      <td>False</td>\n      <td>False</td>\n      <td>False</td>\n    </tr>\n    <tr>\n      <th>4</th>\n      <td>False</td>\n      <td>False</td>\n      <td>False</td>\n      <td>False</td>\n      <td>False</td>\n      <td>False</td>\n      <td>False</td>\n      <td>False</td>\n      <td>False</td>\n      <td>False</td>\n      <td>...</td>\n      <td>False</td>\n      <td>False</td>\n      <td>False</td>\n      <td>False</td>\n      <td>False</td>\n      <td>False</td>\n      <td>False</td>\n      <td>False</td>\n      <td>False</td>\n      <td>False</td>\n    </tr>\n    <tr>\n      <th>...</th>\n      <td>...</td>\n      <td>...</td>\n      <td>...</td>\n      <td>...</td>\n      <td>...</td>\n      <td>...</td>\n      <td>...</td>\n      <td>...</td>\n      <td>...</td>\n      <td>...</td>\n      <td>...</td>\n      <td>...</td>\n      <td>...</td>\n      <td>...</td>\n      <td>...</td>\n      <td>...</td>\n      <td>...</td>\n      <td>...</td>\n      <td>...</td>\n      <td>...</td>\n      <td>...</td>\n    </tr>\n    <tr>\n      <th>13488</th>\n      <td>False</td>\n      <td>False</td>\n      <td>False</td>\n      <td>False</td>\n      <td>False</td>\n      <td>False</td>\n      <td>False</td>\n      <td>False</td>\n      <td>False</td>\n      <td>False</td>\n      <td>...</td>\n      <td>False</td>\n      <td>False</td>\n      <td>False</td>\n      <td>False</td>\n      <td>False</td>\n      <td>False</td>\n      <td>False</td>\n      <td>False</td>\n      <td>False</td>\n      <td>False</td>\n    </tr>\n    <tr>\n      <th>13489</th>\n      <td>False</td>\n      <td>False</td>\n      <td>False</td>\n      <td>False</td>\n      <td>False</td>\n      <td>False</td>\n      <td>False</td>\n      <td>False</td>\n      <td>False</td>\n      <td>False</td>\n      <td>...</td>\n      <td>False</td>\n      <td>False</td>\n      <td>False</td>\n      <td>False</td>\n      <td>False</td>\n      <td>False</td>\n      <td>False</td>\n      <td>False</td>\n      <td>False</td>\n      <td>False</td>\n    </tr>\n    <tr>\n      <th>13490</th>\n      <td>False</td>\n      <td>False</td>\n      <td>False</td>\n      <td>False</td>\n      <td>False</td>\n      <td>False</td>\n      <td>False</td>\n      <td>False</td>\n      <td>False</td>\n      <td>False</td>\n      <td>...</td>\n      <td>False</td>\n      <td>False</td>\n      <td>False</td>\n      <td>False</td>\n      <td>False</td>\n      <td>False</td>\n      <td>False</td>\n      <td>False</td>\n      <td>False</td>\n      <td>False</td>\n    </tr>\n    <tr>\n      <th>13491</th>\n      <td>False</td>\n      <td>False</td>\n      <td>False</td>\n      <td>False</td>\n      <td>False</td>\n      <td>False</td>\n      <td>False</td>\n      <td>False</td>\n      <td>False</td>\n      <td>False</td>\n      <td>...</td>\n      <td>False</td>\n      <td>False</td>\n      <td>False</td>\n      <td>False</td>\n      <td>False</td>\n      <td>False</td>\n      <td>False</td>\n      <td>False</td>\n      <td>False</td>\n      <td>False</td>\n    </tr>\n    <tr>\n      <th>13492</th>\n      <td>False</td>\n      <td>False</td>\n      <td>False</td>\n      <td>False</td>\n      <td>False</td>\n      <td>False</td>\n      <td>False</td>\n      <td>False</td>\n      <td>False</td>\n      <td>False</td>\n      <td>...</td>\n      <td>False</td>\n      <td>False</td>\n      <td>False</td>\n      <td>False</td>\n      <td>False</td>\n      <td>False</td>\n      <td>False</td>\n      <td>False</td>\n      <td>False</td>\n      <td>False</td>\n    </tr>\n  </tbody>\n</table>\n<p>13493 rows × 28 columns</p>\n</div>"
     },
     "execution_count": 10,
     "metadata": {},
     "output_type": "execute_result"
    }
   ],
   "source": [
    "df.isna()\n"
   ],
   "metadata": {
    "collapsed": false,
    "pycharm": {
     "name": "#%%\n"
    }
   }
  },
  {
   "cell_type": "code",
   "execution_count": 11,
   "outputs": [
    {
     "data": {
      "text/plain": "                  Created  index     Number                Date  Gross  \\\n0 2020-02-07 22:51:30.473      0  20.02.002 2020-02-07 17:51:00  200.0   \n1 2020-02-07 22:52:50.140      1  20.02.003 2020-02-07 17:52:00  400.0   \n2 2020-02-07 22:53:26.450      2  20.02.004 2020-02-07 17:53:00  100.0   \n3 2020-02-07 23:05:02.100      3  20.02.005 2020-02-07 18:05:00  380.0   \n4 2020-02-07 23:05:02.100      3  20.02.005 2020-02-07 18:05:00  380.0   \n\n                              InvoiceID  PointsEarned  Variants.NettPrice  \\\n0  a4f938d7-a234-49f9-9588-ea6dc1b547b2           0.0               200.0   \n1  89681b1f-21ab-4f0a-8780-3971de3f82b0           0.0               400.0   \n2  af594745-e964-4051-ae17-93b23b746743           0.0               100.0   \n3  a76090aa-9470-4ef5-8e38-59568d23bdae           0.0                80.0   \n4  a76090aa-9470-4ef5-8e38-59568d23bdae           0.0               300.0   \n\n   Variants.DiscountAmount  Variants.Discount  ...  Payments.Method  \\\n0                      0.0                0.0  ...             Cash   \n1                      0.0                0.0  ...             Cash   \n2                      0.0                0.0  ...             Cash   \n3                      0.0                0.0  ...             Cash   \n4                      0.0                0.0  ...             Cash   \n\n   Payments.Amount        Payments.Date  year month day dayOfWeek weekOfMonth  \\\n0            200.0  2020-02-07T00:00:00  2020     2   7         4           6   \n1            400.0  2020-02-07T00:00:00  2020     2   7         4           6   \n2            100.0  2020-02-07T00:00:00  2020     2   7         4           6   \n3            380.0  2020-02-07T00:00:00  2020     2   7         4           6   \n4            380.0  2020-02-07T00:00:00  2020     2   7         4           6   \n\n  hour  minute  \n0   17      51  \n1   17      52  \n2   17      53  \n3   18       5  \n4   18       5  \n\n[5 rows x 28 columns]",
      "text/html": "<div>\n<style scoped>\n    .dataframe tbody tr th:only-of-type {\n        vertical-align: middle;\n    }\n\n    .dataframe tbody tr th {\n        vertical-align: top;\n    }\n\n    .dataframe thead th {\n        text-align: right;\n    }\n</style>\n<table border=\"1\" class=\"dataframe\">\n  <thead>\n    <tr style=\"text-align: right;\">\n      <th></th>\n      <th>Created</th>\n      <th>index</th>\n      <th>Number</th>\n      <th>Date</th>\n      <th>Gross</th>\n      <th>InvoiceID</th>\n      <th>PointsEarned</th>\n      <th>Variants.NettPrice</th>\n      <th>Variants.DiscountAmount</th>\n      <th>Variants.Discount</th>\n      <th>...</th>\n      <th>Payments.Method</th>\n      <th>Payments.Amount</th>\n      <th>Payments.Date</th>\n      <th>year</th>\n      <th>month</th>\n      <th>day</th>\n      <th>dayOfWeek</th>\n      <th>weekOfMonth</th>\n      <th>hour</th>\n      <th>minute</th>\n    </tr>\n  </thead>\n  <tbody>\n    <tr>\n      <th>0</th>\n      <td>2020-02-07 22:51:30.473</td>\n      <td>0</td>\n      <td>20.02.002</td>\n      <td>2020-02-07 17:51:00</td>\n      <td>200.0</td>\n      <td>a4f938d7-a234-49f9-9588-ea6dc1b547b2</td>\n      <td>0.0</td>\n      <td>200.0</td>\n      <td>0.0</td>\n      <td>0.0</td>\n      <td>...</td>\n      <td>Cash</td>\n      <td>200.0</td>\n      <td>2020-02-07T00:00:00</td>\n      <td>2020</td>\n      <td>2</td>\n      <td>7</td>\n      <td>4</td>\n      <td>6</td>\n      <td>17</td>\n      <td>51</td>\n    </tr>\n    <tr>\n      <th>1</th>\n      <td>2020-02-07 22:52:50.140</td>\n      <td>1</td>\n      <td>20.02.003</td>\n      <td>2020-02-07 17:52:00</td>\n      <td>400.0</td>\n      <td>89681b1f-21ab-4f0a-8780-3971de3f82b0</td>\n      <td>0.0</td>\n      <td>400.0</td>\n      <td>0.0</td>\n      <td>0.0</td>\n      <td>...</td>\n      <td>Cash</td>\n      <td>400.0</td>\n      <td>2020-02-07T00:00:00</td>\n      <td>2020</td>\n      <td>2</td>\n      <td>7</td>\n      <td>4</td>\n      <td>6</td>\n      <td>17</td>\n      <td>52</td>\n    </tr>\n    <tr>\n      <th>2</th>\n      <td>2020-02-07 22:53:26.450</td>\n      <td>2</td>\n      <td>20.02.004</td>\n      <td>2020-02-07 17:53:00</td>\n      <td>100.0</td>\n      <td>af594745-e964-4051-ae17-93b23b746743</td>\n      <td>0.0</td>\n      <td>100.0</td>\n      <td>0.0</td>\n      <td>0.0</td>\n      <td>...</td>\n      <td>Cash</td>\n      <td>100.0</td>\n      <td>2020-02-07T00:00:00</td>\n      <td>2020</td>\n      <td>2</td>\n      <td>7</td>\n      <td>4</td>\n      <td>6</td>\n      <td>17</td>\n      <td>53</td>\n    </tr>\n    <tr>\n      <th>3</th>\n      <td>2020-02-07 23:05:02.100</td>\n      <td>3</td>\n      <td>20.02.005</td>\n      <td>2020-02-07 18:05:00</td>\n      <td>380.0</td>\n      <td>a76090aa-9470-4ef5-8e38-59568d23bdae</td>\n      <td>0.0</td>\n      <td>80.0</td>\n      <td>0.0</td>\n      <td>0.0</td>\n      <td>...</td>\n      <td>Cash</td>\n      <td>380.0</td>\n      <td>2020-02-07T00:00:00</td>\n      <td>2020</td>\n      <td>2</td>\n      <td>7</td>\n      <td>4</td>\n      <td>6</td>\n      <td>18</td>\n      <td>5</td>\n    </tr>\n    <tr>\n      <th>4</th>\n      <td>2020-02-07 23:05:02.100</td>\n      <td>3</td>\n      <td>20.02.005</td>\n      <td>2020-02-07 18:05:00</td>\n      <td>380.0</td>\n      <td>a76090aa-9470-4ef5-8e38-59568d23bdae</td>\n      <td>0.0</td>\n      <td>300.0</td>\n      <td>0.0</td>\n      <td>0.0</td>\n      <td>...</td>\n      <td>Cash</td>\n      <td>380.0</td>\n      <td>2020-02-07T00:00:00</td>\n      <td>2020</td>\n      <td>2</td>\n      <td>7</td>\n      <td>4</td>\n      <td>6</td>\n      <td>18</td>\n      <td>5</td>\n    </tr>\n  </tbody>\n</table>\n<p>5 rows × 28 columns</p>\n</div>"
     },
     "execution_count": 11,
     "metadata": {},
     "output_type": "execute_result"
    }
   ],
   "source": [
    "df.dropna(inplace=True, axis=1, how='all')\n",
    "df.head()\n"
   ],
   "metadata": {
    "collapsed": false,
    "pycharm": {
     "name": "#%%\n"
    }
   }
  },
  {
   "cell_type": "code",
   "execution_count": 12,
   "outputs": [
    {
     "data": {
      "text/plain": "Created                    9264\nindex                      2759\nNumber                     9267\nDate                       8832\nGross                       394\nInvoiceID                  9267\nPointsEarned                 32\nVariants.NettPrice          249\nVariants.DiscountAmount       7\nVariants.Discount             5\nVariants.PriceOriginal       85\nVariants.Price              115\nVariants.Cost               157\nVariants.Quantity            31\nVariants.Code                 8\nVariants.Name               260\nPayments.Note               299\nPayments.Code                30\nPayments.Method               2\nPayments.Amount             420\nPayments.Date               307\nyear                          2\nmonth                        12\nday                          31\ndayOfWeek                     7\nweekOfMonth                  51\nhour                         13\nminute                       60\ndtype: int64"
     },
     "execution_count": 12,
     "metadata": {},
     "output_type": "execute_result"
    }
   ],
   "source": [
    "df.nunique()"
   ],
   "metadata": {
    "collapsed": false,
    "pycharm": {
     "name": "#%%\n"
    }
   }
  },
  {
   "cell_type": "code",
   "execution_count": 13,
   "outputs": [
    {
     "name": "stdout",
     "output_type": "stream",
     "text": [
      "<class 'pandas.core.frame.DataFrame'>\n",
      "RangeIndex: 13493 entries, 0 to 13492\n",
      "Data columns (total 28 columns):\n",
      " #   Column                   Non-Null Count  Dtype         \n",
      "---  ------                   --------------  -----         \n",
      " 0   Created                  13493 non-null  datetime64[ns]\n",
      " 1   index                    13493 non-null  int64         \n",
      " 2   Number                   13493 non-null  object        \n",
      " 3   Date                     13493 non-null  datetime64[ns]\n",
      " 4   Gross                    13493 non-null  float64       \n",
      " 5   InvoiceID                13493 non-null  object        \n",
      " 6   PointsEarned             13493 non-null  float64       \n",
      " 7   Variants.NettPrice       13493 non-null  float64       \n",
      " 8   Variants.DiscountAmount  13493 non-null  float64       \n",
      " 9   Variants.Discount        13493 non-null  float64       \n",
      " 10  Variants.PriceOriginal   13493 non-null  float64       \n",
      " 11  Variants.Price           13493 non-null  float64       \n",
      " 12  Variants.Cost            13493 non-null  float64       \n",
      " 13  Variants.Quantity        13493 non-null  float64       \n",
      " 14  Variants.Code            332 non-null    object        \n",
      " 15  Variants.Name            13493 non-null  object        \n",
      " 16  Payments.Note            543 non-null    object        \n",
      " 17  Payments.Code            53 non-null     object        \n",
      " 18  Payments.Method          13493 non-null  object        \n",
      " 19  Payments.Amount          13493 non-null  float64       \n",
      " 20  Payments.Date            13493 non-null  object        \n",
      " 21  year                     13493 non-null  int64         \n",
      " 22  month                    13493 non-null  int64         \n",
      " 23  day                      13493 non-null  int64         \n",
      " 24  dayOfWeek                13493 non-null  int64         \n",
      " 25  weekOfMonth              13493 non-null  int64         \n",
      " 26  hour                     13493 non-null  int64         \n",
      " 27  minute                   13493 non-null  int64         \n",
      "dtypes: datetime64[ns](2), float64(10), int64(8), object(8)\n",
      "memory usage: 2.9+ MB\n"
     ]
    }
   ],
   "source": [
    "df.info()"
   ],
   "metadata": {
    "collapsed": false,
    "pycharm": {
     "name": "#%%\n"
    }
   }
  },
  {
   "cell_type": "code",
   "execution_count": 14,
   "outputs": [
    {
     "data": {
      "text/plain": "                Variants.Name  Variants.Quantity\n99                      Fagia             1258.0\n257                     socks              804.0\n40   Chiffon Tops Long Sleeve              655.0\n206                 Stockings              570.0\n172                  Newborns              481.0\n..                        ...                ...\n135                LED HD  tv                1.0\n133             Kids Bike FMK                1.0\n213    Synix Smart TV 43 inch                1.0\n214         Toddler Shoes 650                1.0\n0       32 inch Synix Digital                1.0\n\n[260 rows x 2 columns]",
      "text/html": "<div>\n<style scoped>\n    .dataframe tbody tr th:only-of-type {\n        vertical-align: middle;\n    }\n\n    .dataframe tbody tr th {\n        vertical-align: top;\n    }\n\n    .dataframe thead th {\n        text-align: right;\n    }\n</style>\n<table border=\"1\" class=\"dataframe\">\n  <thead>\n    <tr style=\"text-align: right;\">\n      <th></th>\n      <th>Variants.Name</th>\n      <th>Variants.Quantity</th>\n    </tr>\n  </thead>\n  <tbody>\n    <tr>\n      <th>99</th>\n      <td>Fagia</td>\n      <td>1258.0</td>\n    </tr>\n    <tr>\n      <th>257</th>\n      <td>socks</td>\n      <td>804.0</td>\n    </tr>\n    <tr>\n      <th>40</th>\n      <td>Chiffon Tops Long Sleeve</td>\n      <td>655.0</td>\n    </tr>\n    <tr>\n      <th>206</th>\n      <td>Stockings</td>\n      <td>570.0</td>\n    </tr>\n    <tr>\n      <th>172</th>\n      <td>Newborns</td>\n      <td>481.0</td>\n    </tr>\n    <tr>\n      <th>...</th>\n      <td>...</td>\n      <td>...</td>\n    </tr>\n    <tr>\n      <th>135</th>\n      <td>LED HD  tv</td>\n      <td>1.0</td>\n    </tr>\n    <tr>\n      <th>133</th>\n      <td>Kids Bike FMK</td>\n      <td>1.0</td>\n    </tr>\n    <tr>\n      <th>213</th>\n      <td>Synix Smart TV 43 inch</td>\n      <td>1.0</td>\n    </tr>\n    <tr>\n      <th>214</th>\n      <td>Toddler Shoes 650</td>\n      <td>1.0</td>\n    </tr>\n    <tr>\n      <th>0</th>\n      <td>32 inch Synix Digital</td>\n      <td>1.0</td>\n    </tr>\n  </tbody>\n</table>\n<p>260 rows × 2 columns</p>\n</div>"
     },
     "execution_count": 14,
     "metadata": {},
     "output_type": "execute_result"
    }
   ],
   "source": [
    "# Units sold\n",
    "\n",
    "df_units = df.groupby(by=\"Variants.Name\")['Variants.Quantity'].sum().reset_index()\n",
    "df_units.sort_values(by=\"Variants.Quantity\", ascending=False, inplace=True)\n",
    "df_units"
   ],
   "metadata": {
    "collapsed": false,
    "pycharm": {
     "name": "#%%\n"
    }
   }
  },
  {
   "cell_type": "code",
   "execution_count": 16,
   "outputs": [
    {
     "data": {
      "text/plain": "5714812.0"
     },
     "execution_count": 16,
     "metadata": {},
     "output_type": "execute_result"
    }
   ],
   "source": [
    "'''total sales'''\n",
    "df['Gross'].sum()"
   ],
   "metadata": {
    "collapsed": false,
    "pycharm": {
     "name": "#%%\n"
    }
   }
  },
  {
   "cell_type": "code",
   "execution_count": 19,
   "outputs": [
    {
     "data": {
      "text/plain": "73.68"
     },
     "execution_count": 19,
     "metadata": {},
     "output_type": "execute_result"
    }
   ],
   "source": [
    "'''previous day sales'''\n",
    "daily_sales = df.groupby(by='Date')[\"Gross\"].sum().reset_index()\n",
    "new_sales_pc = round(((daily_sales.iloc[-1]['Gross'] - daily_sales.iloc[-2]['Gross']) / daily_sales.iloc[-1]['Gross'])*100, 2)\n",
    "new_sales_pc"
   ],
   "metadata": {
    "collapsed": false,
    "pycharm": {
     "name": "#%%\n"
    }
   }
  },
  {
   "cell_type": "code",
   "execution_count": 22,
   "outputs": [
    {
     "data": {
      "text/plain": "1.0"
     },
     "execution_count": 22,
     "metadata": {},
     "output_type": "execute_result"
    }
   ],
   "source": [
    "'''the day's best selling item'''\n",
    "day_best_seller = df.groupby([\"Date\", \"Variants.Name\"])['Variants.Quantity'].sum().reset_index().rename(columns={0:'count'})\n",
    "last_sell_date = day_best_seller.iloc[-1]['Date']\n",
    "day_best_seller = day_best_seller.loc[(day_best_seller['Date']==last_sell_date)]\n",
    "day_best_seller.sort_values(by=\"Variants.Quantity\", ascending=False, inplace=True)\n",
    "day_best_seller.iloc[0]['Variants.Quantity']"
   ],
   "metadata": {
    "collapsed": false,
    "pycharm": {
     "name": "#%%\n"
    }
   }
  },
  {
   "cell_type": "code",
   "execution_count": 23,
   "outputs": [
    {
     "data": {
      "text/plain": "Fagia                            508\nChiffon Tops Long Sleeve         404\nsocks                            353\nStockings                        319\npallazo pants                    270\n                                ... \nBaby Shawl Heavy                   2\nBaby Toy jigglers traditional      2\nSkating shoes 36                   2\nBaby Sheets 200                    2\nChildren Set Dresses               2\nName: Variants.Name, Length: 216, dtype: int64"
     },
     "execution_count": 23,
     "metadata": {},
     "output_type": "execute_result"
    }
   ],
   "source": [
    "pr_var = df['Variants.Name'].value_counts()\n",
    "pr_var[pr_var > 1]"
   ],
   "metadata": {
    "collapsed": false,
    "pycharm": {
     "name": "#%%\n"
    }
   }
  },
  {
   "cell_type": "code",
   "execution_count": 24,
   "outputs": [
    {
     "data": {
      "text/plain": " 1.0     9620\n 2.0     2295\n 3.0      756\n 4.0      323\n 5.0      161\n 6.0      110\n 7.0       49\n 8.0       36\n 9.0       22\n 10.0      21\n 12.0      15\n 11.0      12\n-1.0       12\n 15.0      11\n 14.0       9\n 16.0       7\n 13.0       6\n-2.0        5\n 17.0       5\n 19.0       3\n-3.0        2\n 40.0       2\n 18.0       2\n 55.0       2\n-4.0        1\n 28.0       1\n 46.0       1\n 42.0       1\n 25.0       1\n 32.0       1\n 37.0       1\nName: Variants.Quantity, dtype: int64"
     },
     "execution_count": 24,
     "metadata": {},
     "output_type": "execute_result"
    }
   ],
   "source": [
    "# more units sold analysis\n",
    "pr_unit = df['Variants.Quantity'].value_counts()\n",
    "pr_unit"
   ],
   "metadata": {
    "collapsed": false,
    "pycharm": {
     "name": "#%%\n"
    }
   }
  },
  {
   "cell_type": "code",
   "execution_count": 25,
   "outputs": [
    {
     "data": {
      "text/plain": "2.0"
     },
     "execution_count": 25,
     "metadata": {},
     "output_type": "execute_result"
    }
   ],
   "source": [
    "'''calculating the number of units sold in current day'''\n",
    "units_sold = df.groupby([\"Date\"])[\"Variants.Quantity\"].sum().reset_index()\n",
    "units_sold_today = units_sold.iloc[-1]['Variants.Quantity']"
   ],
   "metadata": {
    "collapsed": false,
    "pycharm": {
     "name": "#%%\n"
    }
   }
  },
  {
   "cell_type": "code",
   "execution_count": 22,
   "outputs": [
    {
     "data": {
      "text/plain": "39    2021-01-25T00:00:00\nName: Date, dtype: object"
     },
     "execution_count": 22,
     "metadata": {},
     "output_type": "execute_result"
    }
   ],
   "source": [
    "'''day that a product was first sold'''\n",
    "first_date_sold = df.groupby(['Variants.Name'])[\"Date\"].max().reset_index()\n",
    "first_date_sold.sort_values(by=\"Date\", ascending=False, inplace=True)\n",
    "\n",
    "# test\n",
    "var = \"Chiffon Tops 3\"\n",
    "first_date_sold[first_date_sold['Variants.Name']==var][\"Date\"]"
   ],
   "metadata": {
    "collapsed": false,
    "pycharm": {
     "name": "#%%\n"
    }
   }
  },
  {
   "cell_type": "code",
   "execution_count": 23,
   "outputs": [
    {
     "data": {
      "text/plain": "Date                 2021-01-05T00:00:00\nVariants.Name                        Bra\nVariants.Quantity                      1\nName: 6107, dtype: object"
     },
     "execution_count": 23,
     "metadata": {},
     "output_type": "execute_result"
    }
   ],
   "source": [
    "per_item_quantity = df.groupby(['Date', 'Variants.Name'])['Variants.Quantity'].size().reset_index()\n",
    "per_item_quantity[per_item_quantity['Variants.Name']==\"Bra\"].iloc[-1]"
   ],
   "metadata": {
    "collapsed": false,
    "pycharm": {
     "name": "#%%\n"
    }
   }
  },
  {
   "cell_type": "code",
   "execution_count": 24,
   "outputs": [
    {
     "name": "stderr",
     "output_type": "stream",
     "text": [
      "<ipython-input-24-7dee197b4b1e>:2: FutureWarning: Indexing with multiple keys (implicitly converted to a tuple of keys) will be deprecated, use a list instead.\n",
      "  products = df.groupby(['Variants.Name'])['Variants.Cost', 'Gross', 'Variants.Quantity'].sum().reset_index()\n"
     ]
    },
    {
     "data": {
      "text/plain": "                Variants.Name  Variants.Cost     Gross  Variants.Quantity\n99                      Fagia            0.0   72505.0             1258.0\n257                     socks         4942.0  109788.0              804.0\n40   Chiffon Tops Long Sleeve        21731.0  125350.0              655.0\n206                 Stockings         2871.0   46840.0              570.0\n172                  Newborns         3944.0   53075.0              481.0\n..                        ...            ...       ...                ...\n135                LED HD  tv         2800.0    3000.0                1.0\n133             Kids Bike FMK         3200.0    2250.0                1.0\n213    Synix Smart TV 43 inch        26500.0   26000.0                1.0\n214         Toddler Shoes 650          320.0     400.0                1.0\n0       32 inch Synix Digital        10800.0   13000.0                1.0\n\n[260 rows x 4 columns]",
      "text/html": "<div>\n<style scoped>\n    .dataframe tbody tr th:only-of-type {\n        vertical-align: middle;\n    }\n\n    .dataframe tbody tr th {\n        vertical-align: top;\n    }\n\n    .dataframe thead th {\n        text-align: right;\n    }\n</style>\n<table border=\"1\" class=\"dataframe\">\n  <thead>\n    <tr style=\"text-align: right;\">\n      <th></th>\n      <th>Variants.Name</th>\n      <th>Variants.Cost</th>\n      <th>Gross</th>\n      <th>Variants.Quantity</th>\n    </tr>\n  </thead>\n  <tbody>\n    <tr>\n      <th>99</th>\n      <td>Fagia</td>\n      <td>0.0</td>\n      <td>72505.0</td>\n      <td>1258.0</td>\n    </tr>\n    <tr>\n      <th>257</th>\n      <td>socks</td>\n      <td>4942.0</td>\n      <td>109788.0</td>\n      <td>804.0</td>\n    </tr>\n    <tr>\n      <th>40</th>\n      <td>Chiffon Tops Long Sleeve</td>\n      <td>21731.0</td>\n      <td>125350.0</td>\n      <td>655.0</td>\n    </tr>\n    <tr>\n      <th>206</th>\n      <td>Stockings</td>\n      <td>2871.0</td>\n      <td>46840.0</td>\n      <td>570.0</td>\n    </tr>\n    <tr>\n      <th>172</th>\n      <td>Newborns</td>\n      <td>3944.0</td>\n      <td>53075.0</td>\n      <td>481.0</td>\n    </tr>\n    <tr>\n      <th>...</th>\n      <td>...</td>\n      <td>...</td>\n      <td>...</td>\n      <td>...</td>\n    </tr>\n    <tr>\n      <th>135</th>\n      <td>LED HD  tv</td>\n      <td>2800.0</td>\n      <td>3000.0</td>\n      <td>1.0</td>\n    </tr>\n    <tr>\n      <th>133</th>\n      <td>Kids Bike FMK</td>\n      <td>3200.0</td>\n      <td>2250.0</td>\n      <td>1.0</td>\n    </tr>\n    <tr>\n      <th>213</th>\n      <td>Synix Smart TV 43 inch</td>\n      <td>26500.0</td>\n      <td>26000.0</td>\n      <td>1.0</td>\n    </tr>\n    <tr>\n      <th>214</th>\n      <td>Toddler Shoes 650</td>\n      <td>320.0</td>\n      <td>400.0</td>\n      <td>1.0</td>\n    </tr>\n    <tr>\n      <th>0</th>\n      <td>32 inch Synix Digital</td>\n      <td>10800.0</td>\n      <td>13000.0</td>\n      <td>1.0</td>\n    </tr>\n  </tbody>\n</table>\n<p>260 rows × 4 columns</p>\n</div>"
     },
     "execution_count": 24,
     "metadata": {},
     "output_type": "execute_result"
    }
   ],
   "source": [
    "'''calculating some total metrics per product'''\n",
    "products = df.groupby(['Variants.Name'])['Variants.Cost', 'Gross', 'Variants.Quantity'].sum().reset_index()\n",
    "products.sort_values(['Variants.Quantity'], ascending=False, inplace=True)\n",
    "products"
   ],
   "metadata": {
    "collapsed": false,
    "pycharm": {
     "name": "#%%\n"
    }
   }
  },
  {
   "cell_type": "code",
   "execution_count": 27,
   "outputs": [
    {
     "data": {
      "text/plain": "0       1\n10      3\n22      2\n40      1\n53      2\n67      1\n81      1\n102     1\n114     1\n161     1\n180     5\n204     1\n224     7\n247     2\n262     1\n282     1\n424     2\n535     1\n585     3\n600     1\n661     1\n696     1\n1185    1\n1285    3\n1329    1\nName: Variants.Quantity, dtype: int64"
     },
     "execution_count": 27,
     "metadata": {},
     "output_type": "execute_result"
    }
   ],
   "source": [
    "'''product sales over the last x days'''\n",
    "product_daily_sales = df.groupby(['Date', 'Variants.Name'])['Variants.Quantity'].size().reset_index()\n",
    "product_daily_sales[product_daily_sales['Variants.Name']== 'Adult Hoodies Jumper']['Date'].tail(30)\n",
    "product_daily_sales[product_daily_sales['Variants.Name']== 'Adult Hoodies Jumper']['Variants.Quantity'].tail(30)\n"
   ],
   "metadata": {
    "collapsed": false,
    "pycharm": {
     "name": "#%%\n"
    }
   }
  },
  {
   "cell_type": "code",
   "execution_count": 20,
   "outputs": [],
   "source": [
    "# Creating product tags from the variant names\n",
    "\n",
    "df['Tag1'] = (np.where(df['Variants.Name'].str.contains(' '),\n",
    "                  df['Variants.Name'].str.split(' ').str[0],\n",
    "                  df['Variants.Name']))\n",
    "\n",
    "df['Tag2'] = (np.where(df['Variants.Name'].str.contains(' '),\n",
    "                  df['Variants.Name'].str.split(' ').str[1],\n",
    "                  df['Variants.Name']))\n",
    "\n",
    "df['Tag3'] = (np.where(df['Variants.Name'].str.contains(' '),\n",
    "                  df['Variants.Name'].str.split(' ').str[2],\n",
    "                  df['Variants.Name']))\n",
    "\n",
    "df['Tag4'] = (np.where(df['Variants.Name'].str.contains(' '),\n",
    "                  df['Variants.Name'].str.split(' ').str[3],\n",
    "                  df['Variants.Name']))\n",
    "\n",
    "# df['Tag1']= df['Variants.Name'].apply(lambda x: x.split(' ')[0] if x.find(' ')!=-1 else x )\n",
    "# df['Tag2']= df['Variants.Name'].apply(lambda x: x.split(' ')[1] if x.find(' ')!=-1 else x )"
   ],
   "metadata": {
    "collapsed": false,
    "pycharm": {
     "name": "#%%\n"
    }
   }
  },
  {
   "cell_type": "code",
   "execution_count": 21,
   "outputs": [],
   "source": [
    "df['Tag1'] = df['Tag1'].replace('Lady', 'Ladies')\n",
    "df['Tag1'] = df['Tag1'].replace('Women', 'Ladies')\n",
    "df['Tag1'] = df['Tag1'].replace('WOMEN', 'Ladies')\n",
    "df['Tag1'] = df['Tag1'].replace('MEN', 'Men')\n",
    "df['Tag1'] = df['Tag1'].replace('men', 'Men')\n",
    "\n",
    "df['Tag2'] = df['Tag2'].replace('Lady', 'Ladies')\n",
    "df['Tag2'] = df['Tag2'].replace('Women', 'Ladies')\n",
    "df['Tag2'] = df['Tag2'].replace('WOMEN', 'Ladies')\n",
    "df['Tag2'] = df['Tag2'].replace('MEN', 'Men')\n",
    "df['Tag2'] = df['Tag2'].replace('men', 'Men')\n",
    "\n",
    "df['Tag3'] = df['Tag3'].replace('Lady', 'Ladies')\n",
    "df['Tag3'] = df['Tag3'].replace('Women', 'Ladies')\n",
    "df['Tag3'] = df['Tag3'].replace('WOMEN', 'Ladies')\n",
    "df['Tag3'] = df['Tag3'].replace('MEN', 'Men')\n",
    "df['Tag3'] = df['Tag3'].replace('men', 'Men')\n",
    "\n",
    "df['Tag3'] = df['Tag3'].replace('Lady', 'Ladies')\n",
    "df['Tag3'] = df['Tag3'].replace('Women', 'Ladies')\n",
    "df['Tag3'] = df['Tag3'].replace('WOMEN', 'Ladies')\n",
    "df['Tag3'] = df['Tag3'].replace('MEN', 'Men')\n",
    "df['Tag3'] = df['Tag3'].replace('men', 'Men')\n",
    "\n",
    "df['Tag1']= df.Tag1.str.capitalize()\n",
    "df['Tag2']= df.Tag2.str.capitalize()\n",
    "df['Tag3']= df.Tag3.str.capitalize()\n",
    "df['Tag3']= df.Tag4.str.capitalize()\n",
    "\n",
    "tags1_list = df.Tag1.value_counts().reset_index()\n",
    "tags2_list = df.Tag2.value_counts().reset_index()\n",
    "tags3_list = df.Tag3.value_counts().reset_index()\n",
    "tags4_list = df.Tag4.value_counts().reset_index()\n"
   ],
   "metadata": {
    "collapsed": false,
    "pycharm": {
     "name": "#%%\n"
    }
   }
  },
  {
   "cell_type": "markdown",
   "source": [
    "## Best month for sales?"
   ],
   "metadata": {
    "collapsed": false
   }
  },
  {
   "cell_type": "code",
   "execution_count": 22,
   "outputs": [
    {
     "data": {
      "text/plain": "Text(0, 0.5, 'Revenue')"
     },
     "execution_count": 22,
     "metadata": {},
     "output_type": "execute_result"
    },
    {
     "data": {
      "text/plain": "<Figure size 1080x720 with 1 Axes>",
      "image/png": "[encoded data removed]"
     },
     "metadata": {
      "needs_background": "light"
     },
     "output_type": "display_data"
    }
   ],
   "source": [
    "df_revenue = df.groupby(['month', 'year'])['Gross'].sum().reset_index()\n",
    "\n",
    "plt.figure(figsize=(15,10))\n",
    "sns.barplot(x=\"month\", y=\"Gross\", hue=\"year\", data=df_revenue)\n",
    "plt.title('Monthly Revenue')\n",
    "plt.xlabel(\"Month\")\n",
    "plt.ylabel(\"Revenue\")\n"
   ],
   "metadata": {
    "collapsed": false,
    "pycharm": {
     "name": "#%%\n"
    }
   }
  },
  {
   "cell_type": "markdown",
   "source": [
    "## Best time of the day for sales"
   ],
   "metadata": {
    "collapsed": false
   }
  },
  {
   "cell_type": "code",
   "execution_count": 23,
   "outputs": [
    {
     "data": {
      "text/plain": "                  Created  index     Number                Date  Gross  \\\n0 2020-02-07 22:51:30.473      0  20.02.002 2020-02-07 17:51:00  200.0   \n1 2020-02-07 22:52:50.140      1  20.02.003 2020-02-07 17:52:00  400.0   \n2 2020-02-07 22:53:26.450      2  20.02.004 2020-02-07 17:53:00  100.0   \n3 2020-02-07 23:05:02.100      3  20.02.005 2020-02-07 18:05:00  380.0   \n4 2020-02-07 23:05:02.100      3  20.02.005 2020-02-07 18:05:00  380.0   \n\n                              InvoiceID  PointsEarned  Variants.NettPrice  \\\n0  a4f938d7-a234-49f9-9588-ea6dc1b547b2           0.0               200.0   \n1  89681b1f-21ab-4f0a-8780-3971de3f82b0           0.0               400.0   \n2  af594745-e964-4051-ae17-93b23b746743           0.0               100.0   \n3  a76090aa-9470-4ef5-8e38-59568d23bdae           0.0                80.0   \n4  a76090aa-9470-4ef5-8e38-59568d23bdae           0.0               300.0   \n\n   Variants.DiscountAmount  Variants.Discount  ...  day  dayOfWeek  \\\n0                      0.0                0.0  ...    7          4   \n1                      0.0                0.0  ...    7          4   \n2                      0.0                0.0  ...    7          4   \n3                      0.0                0.0  ...    7          4   \n4                      0.0                0.0  ...    7          4   \n\n   weekOfMonth  hour minute      Tag1      Tag2  Tag3  Tag4  Count  \n0            6    17     51    Ladies     Dress  2001  2001      1  \n1            6    17     52       Men  Trousers   NaN   NaN      1  \n2            6    17     53       Men   Tshirts   NaN   NaN      1  \n3            6    18      5  Children   Jackets  3003  3003      1  \n4            6    18      5    Ladies      Hand   NaN   NaN      1  \n\n[5 rows x 33 columns]",
      "text/html": "<div>\n<style scoped>\n    .dataframe tbody tr th:only-of-type {\n        vertical-align: middle;\n    }\n\n    .dataframe tbody tr th {\n        vertical-align: top;\n    }\n\n    .dataframe thead th {\n        text-align: right;\n    }\n</style>\n<table border=\"1\" class=\"dataframe\">\n  <thead>\n    <tr style=\"text-align: right;\">\n      <th></th>\n      <th>Created</th>\n      <th>index</th>\n      <th>Number</th>\n      <th>Date</th>\n      <th>Gross</th>\n      <th>InvoiceID</th>\n      <th>PointsEarned</th>\n      <th>Variants.NettPrice</th>\n      <th>Variants.DiscountAmount</th>\n      <th>Variants.Discount</th>\n      <th>...</th>\n      <th>day</th>\n      <th>dayOfWeek</th>\n      <th>weekOfMonth</th>\n      <th>hour</th>\n      <th>minute</th>\n      <th>Tag1</th>\n      <th>Tag2</th>\n      <th>Tag3</th>\n      <th>Tag4</th>\n      <th>Count</th>\n    </tr>\n  </thead>\n  <tbody>\n    <tr>\n      <th>0</th>\n      <td>2020-02-07 22:51:30.473</td>\n      <td>0</td>\n      <td>20.02.002</td>\n      <td>2020-02-07 17:51:00</td>\n      <td>200.0</td>\n      <td>a4f938d7-a234-49f9-9588-ea6dc1b547b2</td>\n      <td>0.0</td>\n      <td>200.0</td>\n      <td>0.0</td>\n      <td>0.0</td>\n      <td>...</td>\n      <td>7</td>\n      <td>4</td>\n      <td>6</td>\n      <td>17</td>\n      <td>51</td>\n      <td>Ladies</td>\n      <td>Dress</td>\n      <td>2001</td>\n      <td>2001</td>\n      <td>1</td>\n    </tr>\n    <tr>\n      <th>1</th>\n      <td>2020-02-07 22:52:50.140</td>\n      <td>1</td>\n      <td>20.02.003</td>\n      <td>2020-02-07 17:52:00</td>\n      <td>400.0</td>\n      <td>89681b1f-21ab-4f0a-8780-3971de3f82b0</td>\n      <td>0.0</td>\n      <td>400.0</td>\n      <td>0.0</td>\n      <td>0.0</td>\n      <td>...</td>\n      <td>7</td>\n      <td>4</td>\n      <td>6</td>\n      <td>17</td>\n      <td>52</td>\n      <td>Men</td>\n      <td>Trousers</td>\n      <td>NaN</td>\n      <td>NaN</td>\n      <td>1</td>\n    </tr>\n    <tr>\n      <th>2</th>\n      <td>2020-02-07 22:53:26.450</td>\n      <td>2</td>\n      <td>20.02.004</td>\n      <td>2020-02-07 17:53:00</td>\n      <td>100.0</td>\n      <td>af594745-e964-4051-ae17-93b23b746743</td>\n      <td>0.0</td>\n      <td>100.0</td>\n      <td>0.0</td>\n      <td>0.0</td>\n      <td>...</td>\n      <td>7</td>\n      <td>4</td>\n      <td>6</td>\n      <td>17</td>\n      <td>53</td>\n      <td>Men</td>\n      <td>Tshirts</td>\n      <td>NaN</td>\n      <td>NaN</td>\n      <td>1</td>\n    </tr>\n    <tr>\n      <th>3</th>\n      <td>2020-02-07 23:05:02.100</td>\n      <td>3</td>\n      <td>20.02.005</td>\n      <td>2020-02-07 18:05:00</td>\n      <td>380.0</td>\n      <td>a76090aa-9470-4ef5-8e38-59568d23bdae</td>\n      <td>0.0</td>\n      <td>80.0</td>\n      <td>0.0</td>\n      <td>0.0</td>\n      <td>...</td>\n      <td>7</td>\n      <td>4</td>\n      <td>6</td>\n      <td>18</td>\n      <td>5</td>\n      <td>Children</td>\n      <td>Jackets</td>\n      <td>3003</td>\n      <td>3003</td>\n      <td>1</td>\n    </tr>\n    <tr>\n      <th>4</th>\n      <td>2020-02-07 23:05:02.100</td>\n      <td>3</td>\n      <td>20.02.005</td>\n      <td>2020-02-07 18:05:00</td>\n      <td>380.0</td>\n      <td>a76090aa-9470-4ef5-8e38-59568d23bdae</td>\n      <td>0.0</td>\n      <td>300.0</td>\n      <td>0.0</td>\n      <td>0.0</td>\n      <td>...</td>\n      <td>7</td>\n      <td>4</td>\n      <td>6</td>\n      <td>18</td>\n      <td>5</td>\n      <td>Ladies</td>\n      <td>Hand</td>\n      <td>NaN</td>\n      <td>NaN</td>\n      <td>1</td>\n    </tr>\n  </tbody>\n</table>\n<p>5 rows × 33 columns</p>\n</div>"
     },
     "execution_count": 23,
     "metadata": {},
     "output_type": "execute_result"
    }
   ],
   "source": [
    "df['Count'] = 1\n",
    "df.head()"
   ],
   "metadata": {
    "collapsed": false,
    "pycharm": {
     "name": "#%%\n"
    }
   }
  },
  {
   "cell_type": "code",
   "execution_count": 24,
   "outputs": [
    {
     "data": {
      "text/plain": "hour\n-5      356\n-4        6\n 8        5\n 9      121\n 10     574\n 11    1020\n 12    1412\n 13    1553\n 14    1478\n 15    1524\n 16    1894\n 17    1875\n 18    1675\nName: Count, dtype: int64"
     },
     "execution_count": 24,
     "metadata": {},
     "output_type": "execute_result"
    }
   ],
   "source": [
    "df.groupby(['hour']).count()['Count']"
   ],
   "metadata": {
    "collapsed": false,
    "pycharm": {
     "name": "#%%\n"
    }
   }
  },
  {
   "cell_type": "code",
   "source": [
    "keys = [pair for pair, df in df.groupby(['hour'])]\n",
    "plt.figure(figsize=(15,8))\n",
    "plt.plot(keys, df.groupby(['hour']).count()['Count'])\n",
    "plt.xticks(keys)\n",
    "plt.grid()\n",
    "plt.show()"
   ],
   "metadata": {
    "collapsed": false,
    "pycharm": {
     "name": "#%%\n"
    }
   },
   "execution_count": 25,
   "outputs": [
    {
     "data": {
      "text/plain": "<Figure size 1080x576 with 1 Axes>",
      "image/png": "[encoded data removed]"
     },
     "metadata": {
      "needs_background": "light"
     },
     "output_type": "display_data"
    }
   ]
  },
  {
   "cell_type": "code",
   "execution_count": 26,
   "outputs": [
    {
     "data": {
      "text/plain": "                      Created  index     Number                Date  Gross  \\\n9     2020-02-08 00:05:05.727      7  20.02.009 2020-02-07 19:05:00  200.0   \n10    2020-02-08 00:05:05.727      7  20.02.009 2020-02-07 19:05:00  200.0   \n73    2020-02-10 00:02:45.490     46  20.02.048 2020-02-09 19:02:00  200.0   \n74    2020-02-10 00:06:12.123     47  20.02.049 2020-02-09 19:06:00  199.0   \n75    2020-02-10 00:07:45.593     48  20.02.050 2020-02-09 19:07:00  200.0   \n...                       ...    ...        ...                 ...    ...   \n13458 2021-01-24 00:11:55.060   2735  21.01.498 2021-01-23 19:11:00   90.0   \n13459 2021-01-24 00:24:48.170   2736  21.01.499 2021-01-23 19:24:00  420.0   \n13460 2021-01-24 00:24:48.170   2736  21.01.499 2021-01-23 19:24:00  420.0   \n13491 2021-01-26 00:04:36.673   2752  21.01.515 2021-01-25 19:04:00  190.0   \n13492 2021-01-26 00:04:36.673   2752  21.01.515 2021-01-25 19:04:00  190.0   \n\n                                  InvoiceID  PointsEarned  Variants.NettPrice  \\\n9      e0421c3e-7a48-4db1-80ee-d4f848e9839b           0.0               100.0   \n10     e0421c3e-7a48-4db1-80ee-d4f848e9839b           0.0               100.0   \n73     763ad848-131f-4bab-b8db-3d85aa3d469a           0.0               200.0   \n74     63adf81b-4109-48b6-b35f-d0b1f1011c11           0.0               199.0   \n75     228aa368-94a2-48a6-92f5-45a0789ae2e4           0.0               200.0   \n...                                     ...           ...                 ...   \n13458  1bd6f9f9-b829-4b98-bdaa-6c63a3844c2f           0.0                90.0   \n13459  81a07b7e-4427-4344-bd92-cc2e342168dc           0.0               200.0   \n13460  81a07b7e-4427-4344-bd92-cc2e342168dc           0.0               220.0   \n13491  5f82a83d-5547-4d20-9b5f-54f1d3b77493           0.0               110.0   \n13492  5f82a83d-5547-4d20-9b5f-54f1d3b77493           0.0                80.0   \n\n       Variants.DiscountAmount  Variants.Discount  ...  day  dayOfWeek  \\\n9                          0.0                0.0  ...    8          5   \n10                         0.0                0.0  ...    8          5   \n73                         0.0                0.0  ...   10          0   \n74                         0.0                0.0  ...   10          0   \n75                         0.0                0.0  ...   10          0   \n...                        ...                ...  ...  ...        ...   \n13458                      0.0                0.0  ...   24          6   \n13459                      0.0                0.0  ...   24          6   \n13460                      0.0                0.0  ...   24          6   \n13491                      0.0                0.0  ...   26          1   \n13492                      0.0                0.0  ...   26          1   \n\n       weekOfMonth  hour minute       Tag1      Tag2    Tag3    Tag4  Count  \n9                6    -5      5        Men   Tshirts     NaN     NaN      1  \n10               6    -5      5    Chiffon      Tops  Sleeve  Sleeve      1  \n73               7    -5      2     Ladies     Dress    2001    2001      1  \n74               7    -5      6        Men  Trousers     NaN     NaN      1  \n75               7    -5      7     Ladies    Ladies  Tights  tights      1  \n...            ...   ...    ...        ...       ...     ...     ...    ...  \n13458            3    -5     11     Medium  Children     NaN     NaN      1  \n13459            3    -5     24  Jumpsuits         3     NaN     NaN      1  \n13460            3    -5     24    Pallazo     Pants     NaN     NaN      1  \n13491            4    -5      4    Pallazo     Pants     NaN     NaN      1  \n13492            4    -5      4     Velvet         4     NaN     NaN      1  \n\n[362 rows x 33 columns]",
      "text/html": "<div>\n<style scoped>\n    .dataframe tbody tr th:only-of-type {\n        vertical-align: middle;\n    }\n\n    .dataframe tbody tr th {\n        vertical-align: top;\n    }\n\n    .dataframe thead th {\n        text-align: right;\n    }\n</style>\n<table border=\"1\" class=\"dataframe\">\n  <thead>\n    <tr style=\"text-align: right;\">\n      <th></th>\n      <th>Created</th>\n      <th>index</th>\n      <th>Number</th>\n      <th>Date</th>\n      <th>Gross</th>\n      <th>InvoiceID</th>\n      <th>PointsEarned</th>\n      <th>Variants.NettPrice</th>\n      <th>Variants.DiscountAmount</th>\n      <th>Variants.Discount</th>\n      <th>...</th>\n      <th>day</th>\n      <th>dayOfWeek</th>\n      <th>weekOfMonth</th>\n      <th>hour</th>\n      <th>minute</th>\n      <th>Tag1</th>\n      <th>Tag2</th>\n      <th>Tag3</th>\n      <th>Tag4</th>\n      <th>Count</th>\n    </tr>\n  </thead>\n  <tbody>\n    <tr>\n      <th>9</th>\n      <td>2020-02-08 00:05:05.727</td>\n      <td>7</td>\n      <td>20.02.009</td>\n      <td>2020-02-07 19:05:00</td>\n      <td>200.0</td>\n      <td>e0421c3e-7a48-4db1-80ee-d4f848e9839b</td>\n      <td>0.0</td>\n      <td>100.0</td>\n      <td>0.0</td>\n      <td>0.0</td>\n      <td>...</td>\n      <td>8</td>\n      <td>5</td>\n      <td>6</td>\n      <td>-5</td>\n      <td>5</td>\n      <td>Men</td>\n      <td>Tshirts</td>\n      <td>NaN</td>\n      <td>NaN</td>\n      <td>1</td>\n    </tr>\n    <tr>\n      <th>10</th>\n      <td>2020-02-08 00:05:05.727</td>\n      <td>7</td>\n      <td>20.02.009</td>\n      <td>2020-02-07 19:05:00</td>\n      <td>200.0</td>\n      <td>e0421c3e-7a48-4db1-80ee-d4f848e9839b</td>\n      <td>0.0</td>\n      <td>100.0</td>\n      <td>0.0</td>\n      <td>0.0</td>\n      <td>...</td>\n      <td>8</td>\n      <td>5</td>\n      <td>6</td>\n      <td>-5</td>\n      <td>5</td>\n      <td>Chiffon</td>\n      <td>Tops</td>\n      <td>Sleeve</td>\n      <td>Sleeve</td>\n      <td>1</td>\n    </tr>\n    <tr>\n      <th>73</th>\n      <td>2020-02-10 00:02:45.490</td>\n      <td>46</td>\n      <td>20.02.048</td>\n      <td>2020-02-09 19:02:00</td>\n      <td>200.0</td>\n      <td>763ad848-131f-4bab-b8db-3d85aa3d469a</td>\n      <td>0.0</td>\n      <td>200.0</td>\n      <td>0.0</td>\n      <td>0.0</td>\n      <td>...</td>\n      <td>10</td>\n      <td>0</td>\n      <td>7</td>\n      <td>-5</td>\n      <td>2</td>\n      <td>Ladies</td>\n      <td>Dress</td>\n      <td>2001</td>\n      <td>2001</td>\n      <td>1</td>\n    </tr>\n    <tr>\n      <th>74</th>\n      <td>2020-02-10 00:06:12.123</td>\n      <td>47</td>\n      <td>20.02.049</td>\n      <td>2020-02-09 19:06:00</td>\n      <td>199.0</td>\n      <td>63adf81b-4109-48b6-b35f-d0b1f1011c11</td>\n      <td>0.0</td>\n      <td>199.0</td>\n      <td>0.0</td>\n      <td>0.0</td>\n      <td>...</td>\n      <td>10</td>\n      <td>0</td>\n      <td>7</td>\n      <td>-5</td>\n      <td>6</td>\n      <td>Men</td>\n      <td>Trousers</td>\n      <td>NaN</td>\n      <td>NaN</td>\n      <td>1</td>\n    </tr>\n    <tr>\n      <th>75</th>\n      <td>2020-02-10 00:07:45.593</td>\n      <td>48</td>\n      <td>20.02.050</td>\n      <td>2020-02-09 19:07:00</td>\n      <td>200.0</td>\n      <td>228aa368-94a2-48a6-92f5-45a0789ae2e4</td>\n      <td>0.0</td>\n      <td>200.0</td>\n      <td>0.0</td>\n      <td>0.0</td>\n      <td>...</td>\n      <td>10</td>\n      <td>0</td>\n      <td>7</td>\n      <td>-5</td>\n      <td>7</td>\n      <td>Ladies</td>\n      <td>Ladies</td>\n      <td>Tights</td>\n      <td>tights</td>\n      <td>1</td>\n    </tr>\n    <tr>\n      <th>...</th>\n      <td>...</td>\n      <td>...</td>\n      <td>...</td>\n      <td>...</td>\n      <td>...</td>\n      <td>...</td>\n      <td>...</td>\n      <td>...</td>\n      <td>...</td>\n      <td>...</td>\n      <td>...</td>\n      <td>...</td>\n      <td>...</td>\n      <td>...</td>\n      <td>...</td>\n      <td>...</td>\n      <td>...</td>\n      <td>...</td>\n      <td>...</td>\n      <td>...</td>\n      <td>...</td>\n    </tr>\n    <tr>\n      <th>13458</th>\n      <td>2021-01-24 00:11:55.060</td>\n      <td>2735</td>\n      <td>21.01.498</td>\n      <td>2021-01-23 19:11:00</td>\n      <td>90.0</td>\n      <td>1bd6f9f9-b829-4b98-bdaa-6c63a3844c2f</td>\n      <td>0.0</td>\n      <td>90.0</td>\n      <td>0.0</td>\n      <td>0.0</td>\n      <td>...</td>\n      <td>24</td>\n      <td>6</td>\n      <td>3</td>\n      <td>-5</td>\n      <td>11</td>\n      <td>Medium</td>\n      <td>Children</td>\n      <td>NaN</td>\n      <td>NaN</td>\n      <td>1</td>\n    </tr>\n    <tr>\n      <th>13459</th>\n      <td>2021-01-24 00:24:48.170</td>\n      <td>2736</td>\n      <td>21.01.499</td>\n      <td>2021-01-23 19:24:00</td>\n      <td>420.0</td>\n      <td>81a07b7e-4427-4344-bd92-cc2e342168dc</td>\n      <td>0.0</td>\n      <td>200.0</td>\n      <td>0.0</td>\n      <td>0.0</td>\n      <td>...</td>\n      <td>24</td>\n      <td>6</td>\n      <td>3</td>\n      <td>-5</td>\n      <td>24</td>\n      <td>Jumpsuits</td>\n      <td>3</td>\n      <td>NaN</td>\n      <td>NaN</td>\n      <td>1</td>\n    </tr>\n    <tr>\n      <th>13460</th>\n      <td>2021-01-24 00:24:48.170</td>\n      <td>2736</td>\n      <td>21.01.499</td>\n      <td>2021-01-23 19:24:00</td>\n      <td>420.0</td>\n      <td>81a07b7e-4427-4344-bd92-cc2e342168dc</td>\n      <td>0.0</td>\n      <td>220.0</td>\n      <td>0.0</td>\n      <td>0.0</td>\n      <td>...</td>\n      <td>24</td>\n      <td>6</td>\n      <td>3</td>\n      <td>-5</td>\n      <td>24</td>\n      <td>Pallazo</td>\n      <td>Pants</td>\n      <td>NaN</td>\n      <td>NaN</td>\n      <td>1</td>\n    </tr>\n    <tr>\n      <th>13491</th>\n      <td>2021-01-26 00:04:36.673</td>\n      <td>2752</td>\n      <td>21.01.515</td>\n      <td>2021-01-25 19:04:00</td>\n      <td>190.0</td>\n      <td>5f82a83d-5547-4d20-9b5f-54f1d3b77493</td>\n      <td>0.0</td>\n      <td>110.0</td>\n      <td>0.0</td>\n      <td>0.0</td>\n      <td>...</td>\n      <td>26</td>\n      <td>1</td>\n      <td>4</td>\n      <td>-5</td>\n      <td>4</td>\n      <td>Pallazo</td>\n      <td>Pants</td>\n      <td>NaN</td>\n      <td>NaN</td>\n      <td>1</td>\n    </tr>\n    <tr>\n      <th>13492</th>\n      <td>2021-01-26 00:04:36.673</td>\n      <td>2752</td>\n      <td>21.01.515</td>\n      <td>2021-01-25 19:04:00</td>\n      <td>190.0</td>\n      <td>5f82a83d-5547-4d20-9b5f-54f1d3b77493</td>\n      <td>0.0</td>\n      <td>80.0</td>\n      <td>0.0</td>\n      <td>0.0</td>\n      <td>...</td>\n      <td>26</td>\n      <td>1</td>\n      <td>4</td>\n      <td>-5</td>\n      <td>4</td>\n      <td>Velvet</td>\n      <td>4</td>\n      <td>NaN</td>\n      <td>NaN</td>\n      <td>1</td>\n    </tr>\n  </tbody>\n</table>\n<p>362 rows × 33 columns</p>\n</div>"
     },
     "execution_count": 26,
     "metadata": {},
     "output_type": "execute_result"
    }
   ],
   "source": [
    "test = df.loc[(df['hour'] < 0)]\n",
    "test"
   ],
   "metadata": {
    "collapsed": false,
    "pycharm": {
     "name": "#%%\n"
    }
   }
  },
  {
   "cell_type": "markdown",
   "source": [
    "## Best-selling items"
   ],
   "metadata": {
    "collapsed": false,
    "pycharm": {
     "name": "#%% md\n"
    }
   }
  },
  {
   "cell_type": "code",
   "execution_count": null,
   "outputs": [],
   "source": [
    "product_group = df.groupby('Variants.Name')\n",
    "product_group.sum()"
   ],
   "metadata": {
    "collapsed": false,
    "pycharm": {
     "name": "#%%\n"
    }
   }
  },
  {
   "cell_type": "code",
   "execution_count": null,
   "outputs": [],
   "source": [
    "quantity_sold = product_group.sum().sort_values(by='Variants.Quantity', ascending=False)[['Variants.Quantity', 'Variants.NettPrice']]\n",
    "quantity_sold"
   ],
   "metadata": {
    "collapsed": false,
    "pycharm": {
     "name": "#%%\n"
    }
   }
  },
  {
   "cell_type": "code",
   "execution_count": null,
   "outputs": [],
   "source": [
    "quantity_sold['Avg.Item.Price'] = quantity_sold['Variants.NettPrice'] / quantity_sold['Variants.Quantity']\n",
    "quantity_sold['Avg.Item.Price'] = quantity_sold['Avg.Item.Price'].round()\n",
    "quantity_sold"
   ],
   "metadata": {
    "collapsed": false,
    "pycharm": {
     "name": "#%%\n"
    }
   }
  },
  {
   "cell_type": "code",
   "execution_count": null,
   "outputs": [],
   "source": [
    "products = [product for product, df in product_group]\n",
    "top_products = quantity_sold.index[:20]\n",
    "top_quantity = quantity_sold.iloc[:20]['Variants.Quantity']\n",
    "plt.bar(top_products, top_quantity)\n",
    "plt.xticks(top_products, rotation='vertical', size=8)\n",
    "plt.show"
   ],
   "metadata": {
    "collapsed": false,
    "pycharm": {
     "name": "#%%\n"
    }
   }
  },
  {
   "cell_type": "code",
   "execution_count": null,
   "outputs": [],
   "source": [
    "prices = df.groupby('Variants.Name').mean()['Variants.NettPrice'].iloc[0:20]\n",
    "prices"
   ],
   "metadata": {
    "collapsed": false,
    "pycharm": {
     "name": "#%%\n"
    }
   }
  },
  {
   "cell_type": "markdown",
   "source": [
    "This is a list of the top 20 most sold items at the store"
   ],
   "metadata": {
    "collapsed": false,
    "pycharm": {
     "name": "#%% md\n"
    }
   }
  },
  {
   "cell_type": "code",
   "execution_count": null,
   "outputs": [],
   "source": [
    "fig, ax1 = plt.subplots()\n",
    "ax2 = ax1.twinx()\n",
    "ax1.bar(top_products, top_quantity)\n",
    "ax2.plot(top_products, prices, color='b')\n",
    "\n",
    "ax1.set_xlabel('Product Name')\n",
    "ax1.set_ylabel('Quantity Ordered', color='g')\n",
    "ax2.set_ylabel('Price in KES', color='b')\n",
    "ax1.set_xticklabels(top_products, rotation='vertical', size=8)\n",
    "\n",
    "fig.show()"
   ],
   "metadata": {
    "collapsed": false,
    "pycharm": {
     "name": "#%%\n"
    }
   }
  },
  {
   "cell_type": "markdown",
   "source": [
    "## What items are sold together?"
   ],
   "metadata": {
    "collapsed": false
   }
  },
  {
   "cell_type": "code",
   "execution_count": null,
   "outputs": [],
   "source": [
    "df_dup = df[df['Number'].duplicated(keep=False)]\n",
    "df_dup.head()"
   ],
   "metadata": {
    "collapsed": false,
    "pycharm": {
     "name": "#%%\n"
    }
   }
  },
  {
   "cell_type": "code",
   "execution_count": null,
   "outputs": [],
   "source": [
    "df_dup['Items.Grouped'] = df_dup.groupby('Number')['Variants.Name'].transform(lambda x: ', '.join(x))\n",
    "df_dup.head()"
   ],
   "metadata": {
    "collapsed": false,
    "pycharm": {
     "name": "#%%\n"
    }
   }
  },
  {
   "cell_type": "code",
   "execution_count": null,
   "outputs": [],
   "source": [
    "df_dup = df_dup[['Number', 'Items.Grouped']].drop_duplicates()\n",
    "df_dup.head()"
   ],
   "metadata": {
    "collapsed": false,
    "pycharm": {
     "name": "#%%\n"
    }
   }
  },
  {
   "cell_type": "code",
   "execution_count": null,
   "outputs": [],
   "source": [
    "from itertools import combinations\n",
    "from collections import Counter\n",
    "\n",
    "count = Counter()\n",
    "\n",
    "for row in df_dup['Items.Grouped']:\n",
    "    row_list = row.split(',')\n",
    "    count.update(Counter(combinations(row_list, 2)))\n",
    "\n",
    "grp_count = count.most_common(10)"
   ],
   "metadata": {
    "collapsed": false,
    "pycharm": {
     "name": "#%%\n"
    }
   }
  },
  {
   "cell_type": "markdown",
   "source": [
    "This is a list of the most popular combination of items sold at the store"
   ],
   "metadata": {
    "collapsed": false,
    "pycharm": {
     "name": "#%% md\n"
    }
   }
  },
  {
   "cell_type": "code",
   "execution_count": null,
   "outputs": [],
   "source": [
    "df_grp = pd.DataFrame(grp_count)\n",
    "df_grp.columns = ['combination', 'count']\n",
    "df_grp"
   ],
   "metadata": {
    "collapsed": false,
    "pycharm": {
     "name": "#%%\n"
    }
   }
  },
  {
   "cell_type": "markdown",
   "source": [
    "## Monthly items sold overview"
   ],
   "metadata": {
    "collapsed": false,
    "pycharm": {
     "name": "#%% md\n"
    }
   }
  },
  {
   "cell_type": "code",
   "execution_count": null,
   "outputs": [],
   "source": [
    "df_quantity = df.groupby(['month', 'year'])['Variants.Quantity'].sum().reset_index()\n",
    "\n",
    "plt.figure(figsize=(15,10))\n",
    "sns.barplot(x=\"month\", y=\"Variants.Quantity\", hue=\"year\", data=df_quantity)\n",
    "plt.title('Monthly Items Sold')\n",
    "plt.xlabel(\"Month\")\n",
    "plt.ylabel(\"Quantity\")"
   ],
   "metadata": {
    "collapsed": false,
    "pycharm": {
     "name": "#%%\n"
    }
   }
  },
  {
   "cell_type": "markdown",
   "source": [
    "## Average Monthly Revenue"
   ],
   "metadata": {
    "collapsed": false
   }
  },
  {
   "cell_type": "code",
   "execution_count": null,
   "outputs": [],
   "source": [
    "df_revenue_avg = df.groupby(['month', 'year'])['Gross'].mean().reset_index()\n",
    "\n",
    "plt.figure(figsize=(15,10))\n",
    "sns.barplot(x=\"month\", y=\"Gross\", hue=\"year\", data=df_revenue_avg)\n",
    "plt.title('Monthly Average Revenue')\n",
    "plt.xlabel(\"Month\")\n",
    "plt.ylabel(\"Revenue\")"
   ],
   "metadata": {
    "collapsed": false,
    "pycharm": {
     "name": "#%%\n"
    }
   }
  },
  {
   "cell_type": "markdown",
   "source": [
    "## Frequently sold items"
   ],
   "metadata": {
    "collapsed": false,
    "pycharm": {
     "name": "#%% md\n"
    }
   }
  },
  {
   "cell_type": "markdown",
   "source": [
    "This is a calculation of the frequency of purchased items at the store."
   ],
   "metadata": {
    "collapsed": false,
    "pycharm": {
     "name": "#%% md\n"
    }
   }
  },
  {
   "cell_type": "code",
   "execution_count": null,
   "outputs": [],
   "source": [
    "df_last_purchased = df.groupby(['Variants.Name'])['Created'].max().reset_index()\n",
    "df_last_purchased.columns = [\"Product\", \"LastPurchaseDate\"]\n",
    "df_last_purchased['Recency'] = (df_last_purchased[\"LastPurchaseDate\"].max() - df_last_purchased['LastPurchaseDate']).dt.days\n",
    "df_last_purchased = df_last_purchased.sort_values(by=[\"Recency\"], ascending=True)\n",
    "df_last_purchased"
   ],
   "metadata": {
    "collapsed": false,
    "pycharm": {
     "name": "#%%\n"
    }
   }
  },
  {
   "cell_type": "code",
   "execution_count": null,
   "outputs": [],
   "source": [
    "df_hourly = df.resample('H', on='Created').agg({'Gross': 'sum', 'Variants.Quantity': 'sum', 'Variants.Name': 'nunique'})"
   ],
   "metadata": {
    "collapsed": false,
    "pycharm": {
     "name": "#%%\n"
    }
   }
  },
  {
   "cell_type": "code",
   "execution_count": null,
   "outputs": [],
   "source": [
    "hourly_sales = df.groupby([pd.Grouper(key='Created', freq='H'), 'Variants.Name']).agg(\n",
    "                                                                       total_quantity=('Variants.Quantity', 'sum'),\n",
    "                                                                       total_amount=('Variants.NettPrice', 'sum'))\n",
    "hourly_sales"
   ],
   "metadata": {
    "collapsed": false,
    "pycharm": {
     "name": "#%%\n"
    }
   }
  },
  {
   "cell_type": "code",
   "execution_count": null,
   "outputs": [],
   "source": [
    "daily_sales = df.groupby([pd.Grouper(key='Created', freq='d'), 'Variants.Name']).agg(\n",
    "                                                                       total_quantity=('Variants.Quantity', 'sum'),\n",
    "                                                                       total_amount=('Variants.NettPrice', 'sum'))\n",
    "daily_sales"
   ],
   "metadata": {
    "collapsed": false,
    "pycharm": {
     "name": "#%%\n"
    }
   }
  },
  {
   "cell_type": "code",
   "execution_count": null,
   "outputs": [],
   "source": [
    "weekly_sales = df.groupby([pd.Grouper(key='Created', freq='W'), 'Variants.Name']).agg(\n",
    "                                                                       total_quantity=('Variants.Quantity', 'sum'),\n",
    "                                                                       total_amount=('Variants.NettPrice', 'sum'))\n",
    "\n",
    "weekly_sales"
   ],
   "metadata": {
    "collapsed": false,
    "pycharm": {
     "name": "#%%\n"
    }
   }
  },
  {
   "cell_type": "code",
   "execution_count": null,
   "outputs": [],
   "source": [
    "# Frequency of items bought in terms of days\n",
    "df_daily = df.groupby(['Variants.Name'])['day'].count().reset_index()\n",
    "df_daily.columns = [\"Product\", \"Frequency\"]\n",
    "df_daily"
   ],
   "metadata": {
    "collapsed": false,
    "pycharm": {
     "name": "#%%\n"
    }
   }
  },
  {
   "cell_type": "code",
   "execution_count": null,
   "outputs": [],
   "source": [
    "df_last_purchased = pd.merge(df_last_purchased, df_daily, how=\"inner\", on=[\"Product\"])\n",
    "df_last_purchased"
   ],
   "metadata": {
    "collapsed": false,
    "pycharm": {
     "name": "#%%\n"
    }
   }
  },
  {
   "cell_type": "code",
   "execution_count": null,
   "outputs": [],
   "source": [
    "df_last_purchased['LastPurchaseDate'] = pd.to_datetime(df_last_purchased['LastPurchaseDate'])\n",
    "df_last_purchased = df_last_purchased.set_index('LastPurchaseDate')\n",
    "\n",
    "df_last_purchased['LastPurYear'] = df_last_purchased.index.year\n",
    "df_last_purchased['LastPurMonth'] = df_last_purchased.index.month\n",
    "df_last_purchased['LastPurDay'] = df_last_purchased.index.day\n",
    "df_last_purchased['weekDayOfLastPur'] = df_last_purchased.index.weekday\n",
    "df_last_purchased['yearWeekOfLastPur'] = df_last_purchased.index.week\n",
    "df_last_purchased['LastPurHour'] = df_last_purchased.index.hour\n",
    "df_last_purchased['LastPurMinute'] = df_last_purchased.index.minute\n",
    "df_last_purchased.head()"
   ],
   "metadata": {
    "collapsed": false,
    "pycharm": {
     "name": "#%%\n"
    }
   }
  },
  {
   "cell_type": "code",
   "execution_count": null,
   "outputs": [],
   "source": [
    "df_last_purchased = df_last_purchased.reset_index()\n",
    "df_last_purchased.rename(columns={\"Product\": \"Variants.Name\"}, inplace=True)\n",
    "df_last_purchased"
   ],
   "metadata": {
    "collapsed": false,
    "pycharm": {
     "name": "#%%\n"
    }
   }
  },
  {
   "cell_type": "code",
   "execution_count": null,
   "outputs": [],
   "source": [
    "df = pd.merge(df, df_last_purchased, how=\"inner\", on=[\"Variants.Name\"])\n",
    "df.sort_values(by=[\"Number\"], inplace=True)\n",
    "df.head()"
   ],
   "metadata": {
    "collapsed": false,
    "pycharm": {
     "name": "#%%\n"
    }
   }
  },
  {
   "cell_type": "code",
   "execution_count": null,
   "outputs": [],
   "source": [
    "plt.figure(figsize=(15,10))\n",
    "sns.distplot(df_last_purchased['Recency'])\n",
    "plt.title(\"Item Frequency Distribution\")\n",
    "plt.xlabel(\"Recency in days\")\n",
    "plt.ylabel(\"Item sale count\")"
   ],
   "metadata": {
    "collapsed": false,
    "pycharm": {
     "name": "#%%\n"
    }
   }
  },
  {
   "cell_type": "code",
   "execution_count": null,
   "outputs": [],
   "source": [
    "# finding the interval between item purchases in minutes\n",
    "\n",
    "df['ItemTimeDiff'] = df.loc[:,'Created'].diff().dt.total_seconds()\n",
    "df['ItemTimeDiff']"
   ],
   "metadata": {
    "collapsed": false,
    "pycharm": {
     "name": "#%%\n"
    }
   }
  },
  {
   "cell_type": "code",
   "execution_count": null,
   "outputs": [],
   "source": [
    "# finding the time interval between sale of a particular product in minutes. Please note that the interval is in minutes\n",
    "\n",
    "df['ProductTimeDiff'] = df.groupby(by=\"Variants.Name\")['Created'].diff().dt.total_seconds()\n",
    "df['ProductTimeDiff']"
   ],
   "metadata": {
    "collapsed": false,
    "pycharm": {
     "name": "#%%\n"
    }
   }
  },
  {
   "cell_type": "code",
   "execution_count": 21,
   "outputs": [
    {
     "data": {
      "text/plain": "                  Created  index     Number                 Date  Gross  \\\n0 2020-02-07 22:51:30.473      0  20.02.002  2020-02-07T00:00:00  200.0   \n1 2020-02-07 22:52:50.140      1  20.02.003  2020-02-07T00:00:00  400.0   \n2 2020-02-07 22:53:26.450      2  20.02.004  2020-02-07T00:00:00  100.0   \n3 2020-02-07 23:05:02.100      3  20.02.005  2020-02-07T00:00:00  380.0   \n4 2020-02-07 23:05:02.100      3  20.02.005  2020-02-07T00:00:00  380.0   \n\n                              InvoiceID  PointsEarned  Variants.NettPrice  \\\n0  a4f938d7-a234-49f9-9588-ea6dc1b547b2           0.0               200.0   \n1  89681b1f-21ab-4f0a-8780-3971de3f82b0           0.0               400.0   \n2  af594745-e964-4051-ae17-93b23b746743           0.0               100.0   \n3  a76090aa-9470-4ef5-8e38-59568d23bdae           0.0                80.0   \n4  a76090aa-9470-4ef5-8e38-59568d23bdae           0.0               300.0   \n\n   Variants.DiscountAmount  Variants.Discount  ...  minute      Tag1  \\\n0                      0.0                0.0  ...      51    Ladies   \n1                      0.0                0.0  ...      52       Men   \n2                      0.0                0.0  ...      53       Men   \n3                      0.0                0.0  ...       5  Children   \n4                      0.0                0.0  ...       5    Ladies   \n\n       Tag2  Tag3  Tag4 GrossMargin ProfitLoss MarginPerc MarginDeviation  \\\n0     Dress  2001  2001       200.0     Profit   1.000000        0.000000   \n1  Trousers   NaN   NaN        80.0     Profit   0.666667        0.333333   \n2   Tshirts   NaN   NaN        25.0     Profit   0.333333        0.666667   \n3   Jackets  3003  3003        80.0     Profit   1.000000        0.000000   \n4      Hand   NaN   NaN       117.0     Profit   0.639344        0.360656   \n\n   DeviationType  \n0       Negative  \n1       Negative  \n2       Negative  \n3       Negative  \n4       Negative  \n\n[5 rows x 37 columns]",
      "text/html": "<div>\n<style scoped>\n    .dataframe tbody tr th:only-of-type {\n        vertical-align: middle;\n    }\n\n    .dataframe tbody tr th {\n        vertical-align: top;\n    }\n\n    .dataframe thead th {\n        text-align: right;\n    }\n</style>\n<table border=\"1\" class=\"dataframe\">\n  <thead>\n    <tr style=\"text-align: right;\">\n      <th></th>\n      <th>Created</th>\n      <th>index</th>\n      <th>Number</th>\n      <th>Date</th>\n      <th>Gross</th>\n      <th>InvoiceID</th>\n      <th>PointsEarned</th>\n      <th>Variants.NettPrice</th>\n      <th>Variants.DiscountAmount</th>\n      <th>Variants.Discount</th>\n      <th>...</th>\n      <th>minute</th>\n      <th>Tag1</th>\n      <th>Tag2</th>\n      <th>Tag3</th>\n      <th>Tag4</th>\n      <th>GrossMargin</th>\n      <th>ProfitLoss</th>\n      <th>MarginPerc</th>\n      <th>MarginDeviation</th>\n      <th>DeviationType</th>\n    </tr>\n  </thead>\n  <tbody>\n    <tr>\n      <th>0</th>\n      <td>2020-02-07 22:51:30.473</td>\n      <td>0</td>\n      <td>20.02.002</td>\n      <td>2020-02-07T00:00:00</td>\n      <td>200.0</td>\n      <td>a4f938d7-a234-49f9-9588-ea6dc1b547b2</td>\n      <td>0.0</td>\n      <td>200.0</td>\n      <td>0.0</td>\n      <td>0.0</td>\n      <td>...</td>\n      <td>51</td>\n      <td>Ladies</td>\n      <td>Dress</td>\n      <td>2001</td>\n      <td>2001</td>\n      <td>200.0</td>\n      <td>Profit</td>\n      <td>1.000000</td>\n      <td>0.000000</td>\n      <td>Negative</td>\n    </tr>\n    <tr>\n      <th>1</th>\n      <td>2020-02-07 22:52:50.140</td>\n      <td>1</td>\n      <td>20.02.003</td>\n      <td>2020-02-07T00:00:00</td>\n      <td>400.0</td>\n      <td>89681b1f-21ab-4f0a-8780-3971de3f82b0</td>\n      <td>0.0</td>\n      <td>400.0</td>\n      <td>0.0</td>\n      <td>0.0</td>\n      <td>...</td>\n      <td>52</td>\n      <td>Men</td>\n      <td>Trousers</td>\n      <td>NaN</td>\n      <td>NaN</td>\n      <td>80.0</td>\n      <td>Profit</td>\n      <td>0.666667</td>\n      <td>0.333333</td>\n      <td>Negative</td>\n    </tr>\n    <tr>\n      <th>2</th>\n      <td>2020-02-07 22:53:26.450</td>\n      <td>2</td>\n      <td>20.02.004</td>\n      <td>2020-02-07T00:00:00</td>\n      <td>100.0</td>\n      <td>af594745-e964-4051-ae17-93b23b746743</td>\n      <td>0.0</td>\n      <td>100.0</td>\n      <td>0.0</td>\n      <td>0.0</td>\n      <td>...</td>\n      <td>53</td>\n      <td>Men</td>\n      <td>Tshirts</td>\n      <td>NaN</td>\n      <td>NaN</td>\n      <td>25.0</td>\n      <td>Profit</td>\n      <td>0.333333</td>\n      <td>0.666667</td>\n      <td>Negative</td>\n    </tr>\n    <tr>\n      <th>3</th>\n      <td>2020-02-07 23:05:02.100</td>\n      <td>3</td>\n      <td>20.02.005</td>\n      <td>2020-02-07T00:00:00</td>\n      <td>380.0</td>\n      <td>a76090aa-9470-4ef5-8e38-59568d23bdae</td>\n      <td>0.0</td>\n      <td>80.0</td>\n      <td>0.0</td>\n      <td>0.0</td>\n      <td>...</td>\n      <td>5</td>\n      <td>Children</td>\n      <td>Jackets</td>\n      <td>3003</td>\n      <td>3003</td>\n      <td>80.0</td>\n      <td>Profit</td>\n      <td>1.000000</td>\n      <td>0.000000</td>\n      <td>Negative</td>\n    </tr>\n    <tr>\n      <th>4</th>\n      <td>2020-02-07 23:05:02.100</td>\n      <td>3</td>\n      <td>20.02.005</td>\n      <td>2020-02-07T00:00:00</td>\n      <td>380.0</td>\n      <td>a76090aa-9470-4ef5-8e38-59568d23bdae</td>\n      <td>0.0</td>\n      <td>300.0</td>\n      <td>0.0</td>\n      <td>0.0</td>\n      <td>...</td>\n      <td>5</td>\n      <td>Ladies</td>\n      <td>Hand</td>\n      <td>NaN</td>\n      <td>NaN</td>\n      <td>117.0</td>\n      <td>Profit</td>\n      <td>0.639344</td>\n      <td>0.360656</td>\n      <td>Negative</td>\n    </tr>\n  </tbody>\n</table>\n<p>5 rows × 37 columns</p>\n</div>"
     },
     "execution_count": 21,
     "metadata": {},
     "output_type": "execute_result"
    }
   ],
   "source": [
    "'''Calculating profit/loss, margins and deviations from desired margin of 1'''\n",
    "\n",
    "df['GrossMargin'] = df['Variants.Price'] - df['Variants.Cost']\n",
    "df['ProfitLoss'] = np.where(df.GrossMargin<0, \"Loss\", \"Profit\")\n",
    "df['MarginPerc'] = df.GrossMargin / df[\"Variants.Cost\"]\n",
    "df.replace([np.inf, -np.inf], 1, inplace=True)\n",
    "df['MarginDeviation'] = 1 - df.MarginPerc\n",
    "df['DeviationType'] = np.where(df.MarginDeviation<0, \"Positive\", \"Negative\")\n",
    "df.head()"
   ],
   "metadata": {
    "collapsed": false,
    "pycharm": {
     "name": "#%%\n"
    }
   }
  },
  {
   "cell_type": "code",
   "execution_count": null,
   "outputs": [],
   "source": [
    "# create SQL table and insert pre-processed data. To be used in a different analysis\n",
    "\n",
    "engine = create_engine(conn_str, echo=True)\n",
    "\n",
    "try:\n",
    "    df.to_sql('eda', con=engine, if_exists='replace', index=False)\n",
    "except exc.IntegrityError:\n",
    "    pass\n",
    "e = engine.execute(\"SELECT * FROM eda\").fetchall()\n",
    "print(e)"
   ],
   "metadata": {
    "collapsed": false,
    "pycharm": {
     "name": "#%%\n"
    }
   }
  }
 ],
 "metadata": {
  "kernelspec": {
   "display_name": "Python 3",
   "language": "python",
   "name": "python3"
  },
  "language_info": {
   "codemirror_mode": {
    "name": "ipython",
    "version": 2
   },
   "file_extension": ".py",
   "mimetype": "text/x-python",
   "name": "python",
   "nbconvert_exporter": "python",
   "pygments_lexer": "ipython2",
   "version": "2.7.6"
  }
 },
 "nbformat": 4,
 "nbformat_minor": 0
}