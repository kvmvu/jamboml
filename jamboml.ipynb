{
 "cells": [
  {
   "cell_type": "markdown",
   "source": [
    "### Jambo Exploratory Analysis\n",
    "\n",
    "* Just looking for patterns here.\n",
    "* Data sourced from current POS system from opening date of the shop. Will try to update it regularly"
   ],
   "metadata": {
    "collapsed": false,
    "pycharm": {
     "name": "#%% md\n"
    }
   }
  },
  {
   "cell_type": "markdown",
   "source": [
    "An overview of the raw data"
   ],
   "metadata": {
    "collapsed": false,
    "pycharm": {
     "name": "#%% md\n"
    }
   }
  },
  {
   "cell_type": "code",
   "execution_count": 14,
   "metadata": {
    "collapsed": true
   },
   "outputs": [
    {
     "data": {
      "text/plain": "             Outlet     Number                 Date DueDate SalesType  \\\n9049  Kayole Branch  21.01.295  2021-01-13T00:00:00            Normal   \n9050  Kayole Branch  21.01.296  2021-01-14T00:00:00            Normal   \n9051  Kayole Branch  21.01.297  2021-01-14T00:00:00            Normal   \n9052  Kayole Branch  21.01.298  2021-01-14T00:00:00            Normal   \n9053  Kayole Branch  21.01.299  2021-01-14T00:00:00            Normal   \n\n     SalesPerson  Customer                             CreatorID  \\\n9049        None       NaN  71e6e3df-257e-4a56-90ad-f6214b267aee   \n9050        None       NaN  71e6e3df-257e-4a56-90ad-f6214b267aee   \n9051        None       NaN  71e6e3df-257e-4a56-90ad-f6214b267aee   \n9052        None       NaN  71e6e3df-257e-4a56-90ad-f6214b267aee   \n9053        None       NaN  71e6e3df-257e-4a56-90ad-f6214b267aee   \n\n                      Created  Discount1  ...  UnitQuantity   Cost  Price  \\\n9049  2021-01-14T00:20:20.937        0.0  ...           1.0  143.0  190.0   \n9050  2021-01-14T14:06:53.653        0.0  ...           1.0  150.0  150.0   \n9051  2021-01-14T14:39:34.813        0.0  ...           1.0  353.0  300.0   \n9052  2021-01-14T14:57:17.173        0.0  ...           1.0   74.0  250.0   \n9053    2021-01-14T16:30:43.8        0.0  ...           1.0  152.0   60.0   \n\n      PriceOriginal Discount  Taxable  LoyaltyPoint  Expense  NettPrice  \\\n9049          290.0      0.0     True          True      0.0      190.0   \n9050          300.0      0.0     True          True      0.0      150.0   \n9051          600.0      0.0     True          True      0.0      300.0   \n9052          300.0      0.0     True          True      0.0      250.0   \n9053          250.0      0.0     True          True      0.0       60.0   \n\n     PriceTypeID  \n9049           0  \n9050           0  \n9051           0  \n9052           0  \n9053           0  \n\n[5 rows x 46 columns]",
      "text/html": "<div>\n<style scoped>\n    .dataframe tbody tr th:only-of-type {\n        vertical-align: middle;\n    }\n\n    .dataframe tbody tr th {\n        vertical-align: top;\n    }\n\n    .dataframe thead th {\n        text-align: right;\n    }\n</style>\n<table border=\"1\" class=\"dataframe\">\n  <thead>\n    <tr style=\"text-align: right;\">\n      <th></th>\n      <th>Outlet</th>\n      <th>Number</th>\n      <th>Date</th>\n      <th>DueDate</th>\n      <th>SalesType</th>\n      <th>SalesPerson</th>\n      <th>Customer</th>\n      <th>CreatorID</th>\n      <th>Created</th>\n      <th>Discount1</th>\n      <th>...</th>\n      <th>UnitQuantity</th>\n      <th>Cost</th>\n      <th>Price</th>\n      <th>PriceOriginal</th>\n      <th>Discount</th>\n      <th>Taxable</th>\n      <th>LoyaltyPoint</th>\n      <th>Expense</th>\n      <th>NettPrice</th>\n      <th>PriceTypeID</th>\n    </tr>\n  </thead>\n  <tbody>\n    <tr>\n      <th>9049</th>\n      <td>Kayole Branch</td>\n      <td>21.01.295</td>\n      <td>2021-01-13T00:00:00</td>\n      <td></td>\n      <td>Normal</td>\n      <td>None</td>\n      <td>NaN</td>\n      <td>71e6e3df-257e-4a56-90ad-f6214b267aee</td>\n      <td>2021-01-14T00:20:20.937</td>\n      <td>0.0</td>\n      <td>...</td>\n      <td>1.0</td>\n      <td>143.0</td>\n      <td>190.0</td>\n      <td>290.0</td>\n      <td>0.0</td>\n      <td>True</td>\n      <td>True</td>\n      <td>0.0</td>\n      <td>190.0</td>\n      <td>0</td>\n    </tr>\n    <tr>\n      <th>9050</th>\n      <td>Kayole Branch</td>\n      <td>21.01.296</td>\n      <td>2021-01-14T00:00:00</td>\n      <td></td>\n      <td>Normal</td>\n      <td>None</td>\n      <td>NaN</td>\n      <td>71e6e3df-257e-4a56-90ad-f6214b267aee</td>\n      <td>2021-01-14T14:06:53.653</td>\n      <td>0.0</td>\n      <td>...</td>\n      <td>1.0</td>\n      <td>150.0</td>\n      <td>150.0</td>\n      <td>300.0</td>\n      <td>0.0</td>\n      <td>True</td>\n      <td>True</td>\n      <td>0.0</td>\n      <td>150.0</td>\n      <td>0</td>\n    </tr>\n    <tr>\n      <th>9051</th>\n      <td>Kayole Branch</td>\n      <td>21.01.297</td>\n      <td>2021-01-14T00:00:00</td>\n      <td></td>\n      <td>Normal</td>\n      <td>None</td>\n      <td>NaN</td>\n      <td>71e6e3df-257e-4a56-90ad-f6214b267aee</td>\n      <td>2021-01-14T14:39:34.813</td>\n      <td>0.0</td>\n      <td>...</td>\n      <td>1.0</td>\n      <td>353.0</td>\n      <td>300.0</td>\n      <td>600.0</td>\n      <td>0.0</td>\n      <td>True</td>\n      <td>True</td>\n      <td>0.0</td>\n      <td>300.0</td>\n      <td>0</td>\n    </tr>\n    <tr>\n      <th>9052</th>\n      <td>Kayole Branch</td>\n      <td>21.01.298</td>\n      <td>2021-01-14T00:00:00</td>\n      <td></td>\n      <td>Normal</td>\n      <td>None</td>\n      <td>NaN</td>\n      <td>71e6e3df-257e-4a56-90ad-f6214b267aee</td>\n      <td>2021-01-14T14:57:17.173</td>\n      <td>0.0</td>\n      <td>...</td>\n      <td>1.0</td>\n      <td>74.0</td>\n      <td>250.0</td>\n      <td>300.0</td>\n      <td>0.0</td>\n      <td>True</td>\n      <td>True</td>\n      <td>0.0</td>\n      <td>250.0</td>\n      <td>0</td>\n    </tr>\n    <tr>\n      <th>9053</th>\n      <td>Kayole Branch</td>\n      <td>21.01.299</td>\n      <td>2021-01-14T00:00:00</td>\n      <td></td>\n      <td>Normal</td>\n      <td>None</td>\n      <td>NaN</td>\n      <td>71e6e3df-257e-4a56-90ad-f6214b267aee</td>\n      <td>2021-01-14T16:30:43.8</td>\n      <td>0.0</td>\n      <td>...</td>\n      <td>1.0</td>\n      <td>152.0</td>\n      <td>60.0</td>\n      <td>250.0</td>\n      <td>0.0</td>\n      <td>True</td>\n      <td>True</td>\n      <td>0.0</td>\n      <td>60.0</td>\n      <td>0</td>\n    </tr>\n  </tbody>\n</table>\n<p>5 rows × 46 columns</p>\n</div>"
     },
     "execution_count": 14,
     "metadata": {},
     "output_type": "execute_result"
    }
   ],
   "source": [
    "import pandas as pd\n",
    "\n",
    "from keys import conn_str\n",
    "\n",
    "df = pd.read_sql_table('raw_sales', conn_str)\n",
    "df.tail()"
   ]
  },
  {
   "cell_type": "code",
   "execution_count": 15,
   "outputs": [
    {
     "name": "stdout",
     "output_type": "stream",
     "text": [
      "<class 'pandas.core.frame.DataFrame'>\n",
      "RangeIndex: 9054 entries, 0 to 9053\n",
      "Data columns (total 46 columns):\n",
      " #   Column           Non-Null Count  Dtype  \n",
      "---  ------           --------------  -----  \n",
      " 0   Outlet           9054 non-null   object \n",
      " 1   Number           9054 non-null   object \n",
      " 2   Date             9054 non-null   object \n",
      " 3   DueDate          9054 non-null   object \n",
      " 4   SalesType        9054 non-null   object \n",
      " 5   SalesPerson      0 non-null      object \n",
      " 6   Customer         0 non-null      float64\n",
      " 7   CreatorID        9054 non-null   object \n",
      " 8   Created          9054 non-null   object \n",
      " 9   Discount1        9054 non-null   float64\n",
      " 10  Discount2        9054 non-null   float64\n",
      " 11  DiscountAmount   9054 non-null   float64\n",
      " 12  Gross            9054 non-null   float64\n",
      " 13  DiscountTotal    9054 non-null   float64\n",
      " 14  TaxType          9054 non-null   object \n",
      " 15  Tax              9054 non-null   float64\n",
      " 16  Surcharge        9054 non-null   float64\n",
      " 17  Sales            9054 non-null   float64\n",
      " 18  SalesNTax        9054 non-null   float64\n",
      " 19  Coupon           0 non-null      object \n",
      " 20  Note             1 non-null      object \n",
      " 21  InvoiceID        9054 non-null   object \n",
      " 22  PointUsed        9054 non-null   float64\n",
      " 23  PointsEarned     9054 non-null   float64\n",
      " 24  Delivery         9054 non-null   object \n",
      " 25  Void             9054 non-null   object \n",
      " 26  Customer.Name    51 non-null     object \n",
      " 27  Customer.Email   0 non-null      float64\n",
      " 28  Customer.Phone   4 non-null      object \n",
      " 29  Customer.Mobile  47 non-null     object \n",
      " 30  Customer.Code    37 non-null     object \n",
      " 31  Amount           9054 non-null   float64\n",
      " 32  Method           9054 non-null   object \n",
      " 33  Code             248 non-null    object \n",
      " 34  Name             9054 non-null   object \n",
      " 35  Quantity         9054 non-null   float64\n",
      " 36  UnitQuantity     9054 non-null   float64\n",
      " 37  Cost             9054 non-null   float64\n",
      " 38  Price            9054 non-null   float64\n",
      " 39  PriceOriginal    9054 non-null   float64\n",
      " 40  Discount         9054 non-null   float64\n",
      " 41  Taxable          9054 non-null   bool   \n",
      " 42  LoyaltyPoint     9054 non-null   bool   \n",
      " 43  Expense          9054 non-null   float64\n",
      " 44  NettPrice        9054 non-null   float64\n",
      " 45  PriceTypeID      9054 non-null   int64  \n",
      "dtypes: bool(2), float64(22), int64(1), object(21)\n",
      "memory usage: 3.1+ MB\n"
     ]
    }
   ],
   "source": [
    "df.info()"
   ],
   "metadata": {
    "collapsed": false,
    "pycharm": {
     "name": "#%%\n"
    }
   }
  },
  {
   "cell_type": "markdown",
   "source": [
    "Converting the 'Created' column to datetime and sorting the entries from oldest to newest.\n",
    "Will be useful in the future"
   ],
   "metadata": {
    "collapsed": false,
    "pycharm": {
     "name": "#%% md\n"
    }
   }
  },
  {
   "cell_type": "code",
   "execution_count": 16,
   "outputs": [
    {
     "data": {
      "text/plain": "0   2020-02-07 22:52:00\n1   2020-02-07 22:53:00\n2   2020-02-07 22:53:00\n3   2020-02-07 23:05:00\n4   2020-02-07 23:21:00\nName: Created, dtype: datetime64[ns]"
     },
     "execution_count": 16,
     "metadata": {},
     "output_type": "execute_result"
    }
   ],
   "source": [
    "df['Created'] = pd.to_datetime(df['Created'], errors='coerce')\n",
    "df['Created'] = df.Created.dt.round('T')\n",
    "df.sort_values(by=['Created'], inplace=True, ascending=True, ignore_index=True)\n",
    "df.Created.head()"
   ],
   "metadata": {
    "collapsed": false,
    "pycharm": {
     "name": "#%%\n"
    }
   }
  },
  {
   "cell_type": "markdown",
   "source": [
    "Checking for the unique values per column. This will determine which columns to drop as we clean up the data"
   ],
   "metadata": {
    "collapsed": false,
    "pycharm": {
     "name": "#%% md\n"
    }
   }
  },
  {
   "cell_type": "code",
   "execution_count": 17,
   "outputs": [
    {
     "data": {
      "text/plain": "Outlet                1\nNumber             9054\nDate                298\nDueDate               1\nSalesType             1\nSalesPerson           0\nCustomer              0\nCreatorID             1\nCreated            8603\nDiscount1             3\nDiscount2             3\nDiscountAmount        7\nGross               394\nDiscountTotal        71\nTaxType               1\nTax                   1\nSurcharge             1\nSales               419\nSalesNTax           419\nCoupon                0\nNote                  1\nInvoiceID          9054\nPointUsed             1\nPointsEarned         32\nDelivery              2\nVoid                  1\nCustomer.Name        51\nCustomer.Email        0\nCustomer.Phone        4\nCustomer.Mobile      47\nCustomer.Code        37\nAmount              419\nMethod                2\nCode                  8\nName                242\nQuantity             30\nUnitQuantity          1\nCost                153\nPrice               111\nPriceOriginal        81\nDiscount              5\nTaxable               1\nLoyaltyPoint          1\nExpense               1\nNettPrice           213\nPriceTypeID           1\ndtype: int64"
     },
     "execution_count": 17,
     "metadata": {},
     "output_type": "execute_result"
    }
   ],
   "source": [
    "df.nunique()"
   ],
   "metadata": {
    "collapsed": false,
    "pycharm": {
     "name": "#%%\n"
    }
   }
  },
  {
   "cell_type": "markdown",
   "source": [
    "Dropping the columns with only one unique value in them. These won't help us in the analysis as they are consistent"
   ],
   "metadata": {
    "collapsed": false,
    "pycharm": {
     "name": "#%% md\n"
    }
   }
  },
  {
   "cell_type": "code",
   "execution_count": 18,
   "outputs": [],
   "source": [
    "df = df.drop(['DueDate', 'Date', 'SalesType', 'SalesPerson', 'CreatorID', 'Discount1', 'Discount2',\n",
    "              'DiscountAmount', 'DiscountTotal', 'TaxType', 'Tax', 'Surcharge', 'Sales', 'Coupon', 'Note',\n",
    "              'Delivery', 'Void', 'UnitQuantity', 'Discount', 'Taxable', 'LoyaltyPoint',\n",
    "              'Expense', 'PriceTypeID', 'SalesNTax', 'PointUsed'], axis=1)"
   ],
   "metadata": {
    "collapsed": false,
    "pycharm": {
     "name": "#%%\n"
    }
   }
  },
  {
   "cell_type": "markdown",
   "source": [
    "Checking for columns with Nan Values and dropping them"
   ],
   "metadata": {
    "collapsed": false,
    "pycharm": {
     "name": "#%% md\n"
    }
   }
  },
  {
   "cell_type": "code",
   "execution_count": 19,
   "outputs": [
    {
     "data": {
      "text/plain": "      Outlet  Number  Customer  Created  Gross  InvoiceID  PointsEarned  \\\n0      False   False      True    False  False      False         False   \n1      False   False      True    False  False      False         False   \n2      False   False      True    False  False      False         False   \n3      False   False      True    False  False      False         False   \n4      False   False      True    False  False      False         False   \n...      ...     ...       ...      ...    ...        ...           ...   \n9049   False   False      True    False  False      False         False   \n9050   False   False      True    False  False      False         False   \n9051   False   False      True    False  False      False         False   \n9052   False   False      True    False  False      False         False   \n9053   False   False      True    False  False      False         False   \n\n      Customer.Name  Customer.Email  Customer.Phone  ...  Customer.Code  \\\n0              True            True            True  ...           True   \n1              True            True            True  ...           True   \n2              True            True            True  ...           True   \n3              True            True            True  ...           True   \n4              True            True            True  ...           True   \n...             ...             ...             ...  ...            ...   \n9049           True            True            True  ...           True   \n9050           True            True            True  ...           True   \n9051           True            True            True  ...           True   \n9052           True            True            True  ...           True   \n9053           True            True            True  ...           True   \n\n      Amount  Method   Code   Name  Quantity   Cost  Price  PriceOriginal  \\\n0      False   False  False  False     False  False  False          False   \n1      False   False   True  False     False  False  False          False   \n2      False   False   True  False     False  False  False          False   \n3      False   False  False  False     False  False  False          False   \n4      False   False   True  False     False  False  False          False   \n...      ...     ...    ...    ...       ...    ...    ...            ...   \n9049   False   False   True  False     False  False  False          False   \n9050   False   False   True  False     False  False  False          False   \n9051   False   False   True  False     False  False  False          False   \n9052   False   False   True  False     False  False  False          False   \n9053   False   False   True  False     False  False  False          False   \n\n      NettPrice  \n0         False  \n1         False  \n2         False  \n3         False  \n4         False  \n...         ...  \n9049      False  \n9050      False  \n9051      False  \n9052      False  \n9053      False  \n\n[9054 rows x 21 columns]",
      "text/html": "<div>\n<style scoped>\n    .dataframe tbody tr th:only-of-type {\n        vertical-align: middle;\n    }\n\n    .dataframe tbody tr th {\n        vertical-align: top;\n    }\n\n    .dataframe thead th {\n        text-align: right;\n    }\n</style>\n<table border=\"1\" class=\"dataframe\">\n  <thead>\n    <tr style=\"text-align: right;\">\n      <th></th>\n      <th>Outlet</th>\n      <th>Number</th>\n      <th>Customer</th>\n      <th>Created</th>\n      <th>Gross</th>\n      <th>InvoiceID</th>\n      <th>PointsEarned</th>\n      <th>Customer.Name</th>\n      <th>Customer.Email</th>\n      <th>Customer.Phone</th>\n      <th>...</th>\n      <th>Customer.Code</th>\n      <th>Amount</th>\n      <th>Method</th>\n      <th>Code</th>\n      <th>Name</th>\n      <th>Quantity</th>\n      <th>Cost</th>\n      <th>Price</th>\n      <th>PriceOriginal</th>\n      <th>NettPrice</th>\n    </tr>\n  </thead>\n  <tbody>\n    <tr>\n      <th>0</th>\n      <td>False</td>\n      <td>False</td>\n      <td>True</td>\n      <td>False</td>\n      <td>False</td>\n      <td>False</td>\n      <td>False</td>\n      <td>True</td>\n      <td>True</td>\n      <td>True</td>\n      <td>...</td>\n      <td>True</td>\n      <td>False</td>\n      <td>False</td>\n      <td>False</td>\n      <td>False</td>\n      <td>False</td>\n      <td>False</td>\n      <td>False</td>\n      <td>False</td>\n      <td>False</td>\n    </tr>\n    <tr>\n      <th>1</th>\n      <td>False</td>\n      <td>False</td>\n      <td>True</td>\n      <td>False</td>\n      <td>False</td>\n      <td>False</td>\n      <td>False</td>\n      <td>True</td>\n      <td>True</td>\n      <td>True</td>\n      <td>...</td>\n      <td>True</td>\n      <td>False</td>\n      <td>False</td>\n      <td>True</td>\n      <td>False</td>\n      <td>False</td>\n      <td>False</td>\n      <td>False</td>\n      <td>False</td>\n      <td>False</td>\n    </tr>\n    <tr>\n      <th>2</th>\n      <td>False</td>\n      <td>False</td>\n      <td>True</td>\n      <td>False</td>\n      <td>False</td>\n      <td>False</td>\n      <td>False</td>\n      <td>True</td>\n      <td>True</td>\n      <td>True</td>\n      <td>...</td>\n      <td>True</td>\n      <td>False</td>\n      <td>False</td>\n      <td>True</td>\n      <td>False</td>\n      <td>False</td>\n      <td>False</td>\n      <td>False</td>\n      <td>False</td>\n      <td>False</td>\n    </tr>\n    <tr>\n      <th>3</th>\n      <td>False</td>\n      <td>False</td>\n      <td>True</td>\n      <td>False</td>\n      <td>False</td>\n      <td>False</td>\n      <td>False</td>\n      <td>True</td>\n      <td>True</td>\n      <td>True</td>\n      <td>...</td>\n      <td>True</td>\n      <td>False</td>\n      <td>False</td>\n      <td>False</td>\n      <td>False</td>\n      <td>False</td>\n      <td>False</td>\n      <td>False</td>\n      <td>False</td>\n      <td>False</td>\n    </tr>\n    <tr>\n      <th>4</th>\n      <td>False</td>\n      <td>False</td>\n      <td>True</td>\n      <td>False</td>\n      <td>False</td>\n      <td>False</td>\n      <td>False</td>\n      <td>True</td>\n      <td>True</td>\n      <td>True</td>\n      <td>...</td>\n      <td>True</td>\n      <td>False</td>\n      <td>False</td>\n      <td>True</td>\n      <td>False</td>\n      <td>False</td>\n      <td>False</td>\n      <td>False</td>\n      <td>False</td>\n      <td>False</td>\n    </tr>\n    <tr>\n      <th>...</th>\n      <td>...</td>\n      <td>...</td>\n      <td>...</td>\n      <td>...</td>\n      <td>...</td>\n      <td>...</td>\n      <td>...</td>\n      <td>...</td>\n      <td>...</td>\n      <td>...</td>\n      <td>...</td>\n      <td>...</td>\n      <td>...</td>\n      <td>...</td>\n      <td>...</td>\n      <td>...</td>\n      <td>...</td>\n      <td>...</td>\n      <td>...</td>\n      <td>...</td>\n      <td>...</td>\n    </tr>\n    <tr>\n      <th>9049</th>\n      <td>False</td>\n      <td>False</td>\n      <td>True</td>\n      <td>False</td>\n      <td>False</td>\n      <td>False</td>\n      <td>False</td>\n      <td>True</td>\n      <td>True</td>\n      <td>True</td>\n      <td>...</td>\n      <td>True</td>\n      <td>False</td>\n      <td>False</td>\n      <td>True</td>\n      <td>False</td>\n      <td>False</td>\n      <td>False</td>\n      <td>False</td>\n      <td>False</td>\n      <td>False</td>\n    </tr>\n    <tr>\n      <th>9050</th>\n      <td>False</td>\n      <td>False</td>\n      <td>True</td>\n      <td>False</td>\n      <td>False</td>\n      <td>False</td>\n      <td>False</td>\n      <td>True</td>\n      <td>True</td>\n      <td>True</td>\n      <td>...</td>\n      <td>True</td>\n      <td>False</td>\n      <td>False</td>\n      <td>True</td>\n      <td>False</td>\n      <td>False</td>\n      <td>False</td>\n      <td>False</td>\n      <td>False</td>\n      <td>False</td>\n    </tr>\n    <tr>\n      <th>9051</th>\n      <td>False</td>\n      <td>False</td>\n      <td>True</td>\n      <td>False</td>\n      <td>False</td>\n      <td>False</td>\n      <td>False</td>\n      <td>True</td>\n      <td>True</td>\n      <td>True</td>\n      <td>...</td>\n      <td>True</td>\n      <td>False</td>\n      <td>False</td>\n      <td>True</td>\n      <td>False</td>\n      <td>False</td>\n      <td>False</td>\n      <td>False</td>\n      <td>False</td>\n      <td>False</td>\n    </tr>\n    <tr>\n      <th>9052</th>\n      <td>False</td>\n      <td>False</td>\n      <td>True</td>\n      <td>False</td>\n      <td>False</td>\n      <td>False</td>\n      <td>False</td>\n      <td>True</td>\n      <td>True</td>\n      <td>True</td>\n      <td>...</td>\n      <td>True</td>\n      <td>False</td>\n      <td>False</td>\n      <td>True</td>\n      <td>False</td>\n      <td>False</td>\n      <td>False</td>\n      <td>False</td>\n      <td>False</td>\n      <td>False</td>\n    </tr>\n    <tr>\n      <th>9053</th>\n      <td>False</td>\n      <td>False</td>\n      <td>True</td>\n      <td>False</td>\n      <td>False</td>\n      <td>False</td>\n      <td>False</td>\n      <td>True</td>\n      <td>True</td>\n      <td>True</td>\n      <td>...</td>\n      <td>True</td>\n      <td>False</td>\n      <td>False</td>\n      <td>True</td>\n      <td>False</td>\n      <td>False</td>\n      <td>False</td>\n      <td>False</td>\n      <td>False</td>\n      <td>False</td>\n    </tr>\n  </tbody>\n</table>\n<p>9054 rows × 21 columns</p>\n</div>"
     },
     "execution_count": 19,
     "metadata": {},
     "output_type": "execute_result"
    }
   ],
   "source": [
    "df.isna()\n"
   ],
   "metadata": {
    "collapsed": false,
    "pycharm": {
     "name": "#%%\n"
    }
   }
  },
  {
   "cell_type": "code",
   "execution_count": 20,
   "outputs": [
    {
     "data": {
      "text/plain": "          Outlet     Number             Created  Gross  \\\n0  Kayole Branch  20.02.002 2020-02-07 22:52:00  200.0   \n1  Kayole Branch  20.02.003 2020-02-07 22:53:00  400.0   \n2  Kayole Branch  20.02.004 2020-02-07 22:53:00  100.0   \n3  Kayole Branch  20.02.005 2020-02-07 23:05:00  380.0   \n4  Kayole Branch  20.02.006 2020-02-07 23:21:00  200.0   \n\n                              InvoiceID  PointsEarned Customer.Name  \\\n0  a4f938d7-a234-49f9-9588-ea6dc1b547b2           0.0          None   \n1  89681b1f-21ab-4f0a-8780-3971de3f82b0           0.0          None   \n2  af594745-e964-4051-ae17-93b23b746743           0.0          None   \n3  a76090aa-9470-4ef5-8e38-59568d23bdae           0.0          None   \n4  aeed56ac-83f8-46bf-a557-a1b39ca58b36           0.0          None   \n\n  Customer.Phone Customer.Mobile Customer.Code  Amount Method  Code  \\\n0           None            None          None   200.0   Cash  2001   \n1           None            None          None   400.0   Cash  None   \n2           None            None          None   100.0   Cash  None   \n3           None            None          None   380.0   Cash  3003   \n4           None            None          None   200.0   Cash  None   \n\n                          Name  Quantity   Cost  Price  PriceOriginal  \\\n0     Ladies Dress 200bob 2001       1.0    0.0  200.0            0.0   \n1                 Men Trousers       2.0  120.0  200.0            0.0   \n2                  Men tshirts       1.0   75.0  100.0            0.0   \n3  Children Jackets 80bob 3003       1.0    0.0   80.0            0.0   \n4         Adult Hoodies Jumper       1.0  148.0  200.0            0.0   \n\n   NettPrice  \n0      200.0  \n1      400.0  \n2      100.0  \n3       80.0  \n4      200.0  ",
      "text/html": "<div>\n<style scoped>\n    .dataframe tbody tr th:only-of-type {\n        vertical-align: middle;\n    }\n\n    .dataframe tbody tr th {\n        vertical-align: top;\n    }\n\n    .dataframe thead th {\n        text-align: right;\n    }\n</style>\n<table border=\"1\" class=\"dataframe\">\n  <thead>\n    <tr style=\"text-align: right;\">\n      <th></th>\n      <th>Outlet</th>\n      <th>Number</th>\n      <th>Created</th>\n      <th>Gross</th>\n      <th>InvoiceID</th>\n      <th>PointsEarned</th>\n      <th>Customer.Name</th>\n      <th>Customer.Phone</th>\n      <th>Customer.Mobile</th>\n      <th>Customer.Code</th>\n      <th>Amount</th>\n      <th>Method</th>\n      <th>Code</th>\n      <th>Name</th>\n      <th>Quantity</th>\n      <th>Cost</th>\n      <th>Price</th>\n      <th>PriceOriginal</th>\n      <th>NettPrice</th>\n    </tr>\n  </thead>\n  <tbody>\n    <tr>\n      <th>0</th>\n      <td>Kayole Branch</td>\n      <td>20.02.002</td>\n      <td>2020-02-07 22:52:00</td>\n      <td>200.0</td>\n      <td>a4f938d7-a234-49f9-9588-ea6dc1b547b2</td>\n      <td>0.0</td>\n      <td>None</td>\n      <td>None</td>\n      <td>None</td>\n      <td>None</td>\n      <td>200.0</td>\n      <td>Cash</td>\n      <td>2001</td>\n      <td>Ladies Dress 200bob 2001</td>\n      <td>1.0</td>\n      <td>0.0</td>\n      <td>200.0</td>\n      <td>0.0</td>\n      <td>200.0</td>\n    </tr>\n    <tr>\n      <th>1</th>\n      <td>Kayole Branch</td>\n      <td>20.02.003</td>\n      <td>2020-02-07 22:53:00</td>\n      <td>400.0</td>\n      <td>89681b1f-21ab-4f0a-8780-3971de3f82b0</td>\n      <td>0.0</td>\n      <td>None</td>\n      <td>None</td>\n      <td>None</td>\n      <td>None</td>\n      <td>400.0</td>\n      <td>Cash</td>\n      <td>None</td>\n      <td>Men Trousers</td>\n      <td>2.0</td>\n      <td>120.0</td>\n      <td>200.0</td>\n      <td>0.0</td>\n      <td>400.0</td>\n    </tr>\n    <tr>\n      <th>2</th>\n      <td>Kayole Branch</td>\n      <td>20.02.004</td>\n      <td>2020-02-07 22:53:00</td>\n      <td>100.0</td>\n      <td>af594745-e964-4051-ae17-93b23b746743</td>\n      <td>0.0</td>\n      <td>None</td>\n      <td>None</td>\n      <td>None</td>\n      <td>None</td>\n      <td>100.0</td>\n      <td>Cash</td>\n      <td>None</td>\n      <td>Men tshirts</td>\n      <td>1.0</td>\n      <td>75.0</td>\n      <td>100.0</td>\n      <td>0.0</td>\n      <td>100.0</td>\n    </tr>\n    <tr>\n      <th>3</th>\n      <td>Kayole Branch</td>\n      <td>20.02.005</td>\n      <td>2020-02-07 23:05:00</td>\n      <td>380.0</td>\n      <td>a76090aa-9470-4ef5-8e38-59568d23bdae</td>\n      <td>0.0</td>\n      <td>None</td>\n      <td>None</td>\n      <td>None</td>\n      <td>None</td>\n      <td>380.0</td>\n      <td>Cash</td>\n      <td>3003</td>\n      <td>Children Jackets 80bob 3003</td>\n      <td>1.0</td>\n      <td>0.0</td>\n      <td>80.0</td>\n      <td>0.0</td>\n      <td>80.0</td>\n    </tr>\n    <tr>\n      <th>4</th>\n      <td>Kayole Branch</td>\n      <td>20.02.006</td>\n      <td>2020-02-07 23:21:00</td>\n      <td>200.0</td>\n      <td>aeed56ac-83f8-46bf-a557-a1b39ca58b36</td>\n      <td>0.0</td>\n      <td>None</td>\n      <td>None</td>\n      <td>None</td>\n      <td>None</td>\n      <td>200.0</td>\n      <td>Cash</td>\n      <td>None</td>\n      <td>Adult Hoodies Jumper</td>\n      <td>1.0</td>\n      <td>148.0</td>\n      <td>200.0</td>\n      <td>0.0</td>\n      <td>200.0</td>\n    </tr>\n  </tbody>\n</table>\n</div>"
     },
     "execution_count": 20,
     "metadata": {},
     "output_type": "execute_result"
    }
   ],
   "source": [
    "df.dropna(inplace=True, axis=1, how='all')\n",
    "df.head()\n",
    "\n"
   ],
   "metadata": {
    "collapsed": false,
    "pycharm": {
     "name": "#%%\n"
    }
   }
  }
 ],
 "metadata": {
  "kernelspec": {
   "display_name": "Python 3",
   "language": "python",
   "name": "python3"
  },
  "language_info": {
   "codemirror_mode": {
    "name": "ipython",
    "version": 2
   },
   "file_extension": ".py",
   "mimetype": "text/x-python",
   "name": "python",
   "nbconvert_exporter": "python",
   "pygments_lexer": "ipython2",
   "version": "2.7.6"
  }
 },
 "nbformat": 4,
 "nbformat_minor": 0
}