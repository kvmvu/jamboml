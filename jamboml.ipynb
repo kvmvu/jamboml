{
 "cells": [
  {
   "cell_type": "markdown",
   "source": [
    "### Jambo Exploratory Analysis\n",
    "\n",
    "* Just looking for patterns here.\n",
    "* Data sourced from current POS system from opening date of the shop. Will try to update it regularly"
   ],
   "metadata": {
    "collapsed": false,
    "pycharm": {
     "name": "#%% md\n"
    }
   }
  },
  {
   "cell_type": "markdown",
   "source": [
    "An overview of the raw data"
   ],
   "metadata": {
    "collapsed": false,
    "pycharm": {
     "name": "#%% md\n"
    }
   }
  },
  {
   "cell_type": "code",
   "execution_count": 1,
   "metadata": {
    "collapsed": true
   },
   "outputs": [
    {
     "data": {
      "text/plain": "       index         Outlet     Number                 Date DueDate SalesType  \\\n13488   2750  Kayole Branch  21.01.513  2021-01-25T00:00:00            Normal   \n13489   2750  Kayole Branch  21.01.513  2021-01-25T00:00:00            Normal   \n13490   2751  Kayole Branch  21.01.514  2021-01-25T00:00:00            Normal   \n13491   2752  Kayole Branch  21.01.515  2021-01-25T00:00:00            Normal   \n13492   2752  Kayole Branch  21.01.515  2021-01-25T00:00:00            Normal   \n\n      SalesPerson  Customer                             CreatorID  \\\n13488        None       NaN  71e6e3df-257e-4a56-90ad-f6214b267aee   \n13489        None       NaN  71e6e3df-257e-4a56-90ad-f6214b267aee   \n13490        None       NaN  71e6e3df-257e-4a56-90ad-f6214b267aee   \n13491        None       NaN  71e6e3df-257e-4a56-90ad-f6214b267aee   \n13492        None       NaN  71e6e3df-257e-4a56-90ad-f6214b267aee   \n\n                       Created  ...  Variants.Cost  Variants.UnitQuantity  \\\n13488  2021-01-25T22:22:41.243  ...          104.0                    1.0   \n13489  2021-01-25T22:22:41.243  ...           17.0                    1.0   \n13490  2021-01-25T22:33:50.673  ...          150.0                    1.0   \n13491  2021-01-26T00:04:36.673  ...          150.0                    1.0   \n13492  2021-01-26T00:04:36.673  ...          104.0                    1.0   \n\n       Variants.Quantity  Variants.Code    Variants.Name Payments.Note  \\\n13488                1.0           None         Velvet 4          None   \n13489                1.0           None      Cotton Tops          None   \n13490                1.0           None  pallazo pants 5          None   \n13491                1.0           None  pallazo pants 5          None   \n13492                1.0           None         Velvet 4          None   \n\n       Payments.Code  Payments.Method  Payments.Amount        Payments.Date  \n13488           None             Cash            130.0  2021-01-25T00:00:00  \n13489           None             Cash            130.0  2021-01-25T00:00:00  \n13490           None             Cash            100.0  2021-01-25T00:00:00  \n13491           None             Cash            190.0  2021-01-25T00:00:00  \n13492           None             Cash            190.0  2021-01-25T00:00:00  \n\n[5 rows x 51 columns]",
      "text/html": "<div>\n<style scoped>\n    .dataframe tbody tr th:only-of-type {\n        vertical-align: middle;\n    }\n\n    .dataframe tbody tr th {\n        vertical-align: top;\n    }\n\n    .dataframe thead th {\n        text-align: right;\n    }\n</style>\n<table border=\"1\" class=\"dataframe\">\n  <thead>\n    <tr style=\"text-align: right;\">\n      <th></th>\n      <th>index</th>\n      <th>Outlet</th>\n      <th>Number</th>\n      <th>Date</th>\n      <th>DueDate</th>\n      <th>SalesType</th>\n      <th>SalesPerson</th>\n      <th>Customer</th>\n      <th>CreatorID</th>\n      <th>Created</th>\n      <th>...</th>\n      <th>Variants.Cost</th>\n      <th>Variants.UnitQuantity</th>\n      <th>Variants.Quantity</th>\n      <th>Variants.Code</th>\n      <th>Variants.Name</th>\n      <th>Payments.Note</th>\n      <th>Payments.Code</th>\n      <th>Payments.Method</th>\n      <th>Payments.Amount</th>\n      <th>Payments.Date</th>\n    </tr>\n  </thead>\n  <tbody>\n    <tr>\n      <th>13488</th>\n      <td>2750</td>\n      <td>Kayole Branch</td>\n      <td>21.01.513</td>\n      <td>2021-01-25T00:00:00</td>\n      <td></td>\n      <td>Normal</td>\n      <td>None</td>\n      <td>NaN</td>\n      <td>71e6e3df-257e-4a56-90ad-f6214b267aee</td>\n      <td>2021-01-25T22:22:41.243</td>\n      <td>...</td>\n      <td>104.0</td>\n      <td>1.0</td>\n      <td>1.0</td>\n      <td>None</td>\n      <td>Velvet 4</td>\n      <td>None</td>\n      <td>None</td>\n      <td>Cash</td>\n      <td>130.0</td>\n      <td>2021-01-25T00:00:00</td>\n    </tr>\n    <tr>\n      <th>13489</th>\n      <td>2750</td>\n      <td>Kayole Branch</td>\n      <td>21.01.513</td>\n      <td>2021-01-25T00:00:00</td>\n      <td></td>\n      <td>Normal</td>\n      <td>None</td>\n      <td>NaN</td>\n      <td>71e6e3df-257e-4a56-90ad-f6214b267aee</td>\n      <td>2021-01-25T22:22:41.243</td>\n      <td>...</td>\n      <td>17.0</td>\n      <td>1.0</td>\n      <td>1.0</td>\n      <td>None</td>\n      <td>Cotton Tops</td>\n      <td>None</td>\n      <td>None</td>\n      <td>Cash</td>\n      <td>130.0</td>\n      <td>2021-01-25T00:00:00</td>\n    </tr>\n    <tr>\n      <th>13490</th>\n      <td>2751</td>\n      <td>Kayole Branch</td>\n      <td>21.01.514</td>\n      <td>2021-01-25T00:00:00</td>\n      <td></td>\n      <td>Normal</td>\n      <td>None</td>\n      <td>NaN</td>\n      <td>71e6e3df-257e-4a56-90ad-f6214b267aee</td>\n      <td>2021-01-25T22:33:50.673</td>\n      <td>...</td>\n      <td>150.0</td>\n      <td>1.0</td>\n      <td>1.0</td>\n      <td>None</td>\n      <td>pallazo pants 5</td>\n      <td>None</td>\n      <td>None</td>\n      <td>Cash</td>\n      <td>100.0</td>\n      <td>2021-01-25T00:00:00</td>\n    </tr>\n    <tr>\n      <th>13491</th>\n      <td>2752</td>\n      <td>Kayole Branch</td>\n      <td>21.01.515</td>\n      <td>2021-01-25T00:00:00</td>\n      <td></td>\n      <td>Normal</td>\n      <td>None</td>\n      <td>NaN</td>\n      <td>71e6e3df-257e-4a56-90ad-f6214b267aee</td>\n      <td>2021-01-26T00:04:36.673</td>\n      <td>...</td>\n      <td>150.0</td>\n      <td>1.0</td>\n      <td>1.0</td>\n      <td>None</td>\n      <td>pallazo pants 5</td>\n      <td>None</td>\n      <td>None</td>\n      <td>Cash</td>\n      <td>190.0</td>\n      <td>2021-01-25T00:00:00</td>\n    </tr>\n    <tr>\n      <th>13492</th>\n      <td>2752</td>\n      <td>Kayole Branch</td>\n      <td>21.01.515</td>\n      <td>2021-01-25T00:00:00</td>\n      <td></td>\n      <td>Normal</td>\n      <td>None</td>\n      <td>NaN</td>\n      <td>71e6e3df-257e-4a56-90ad-f6214b267aee</td>\n      <td>2021-01-26T00:04:36.673</td>\n      <td>...</td>\n      <td>104.0</td>\n      <td>1.0</td>\n      <td>1.0</td>\n      <td>None</td>\n      <td>Velvet 4</td>\n      <td>None</td>\n      <td>None</td>\n      <td>Cash</td>\n      <td>190.0</td>\n      <td>2021-01-25T00:00:00</td>\n    </tr>\n  </tbody>\n</table>\n<p>5 rows × 51 columns</p>\n</div>"
     },
     "execution_count": 1,
     "metadata": {},
     "output_type": "execute_result"
    }
   ],
   "source": [
    "import json\n",
    "\n",
    "import matplotlib.pyplot as plt\n",
    "import numpy as np\n",
    "import pandas as pd\n",
    "\n",
    "from keys import conn_str\n",
    "\n",
    "df = pd.read_sql_table('raw_sales', conn_str)\n",
    "df.tail()"
   ]
  },
  {
   "cell_type": "code",
   "execution_count": 2,
   "outputs": [
    {
     "name": "stdout",
     "output_type": "stream",
     "text": [
      "<class 'pandas.core.frame.DataFrame'>\n",
      "RangeIndex: 13493 entries, 0 to 13492\n",
      "Data columns (total 51 columns):\n",
      " #   Column                   Non-Null Count  Dtype  \n",
      "---  ------                   --------------  -----  \n",
      " 0   index                    13493 non-null  int64  \n",
      " 1   Outlet                   13493 non-null  object \n",
      " 2   Number                   13493 non-null  object \n",
      " 3   Date                     13493 non-null  object \n",
      " 4   DueDate                  13493 non-null  object \n",
      " 5   SalesType                13493 non-null  object \n",
      " 6   SalesPerson              0 non-null      object \n",
      " 7   Customer                 0 non-null      float64\n",
      " 8   CreatorID                13493 non-null  object \n",
      " 9   Created                  13493 non-null  object \n",
      " 10  Discount1                13493 non-null  float64\n",
      " 11  Discount2                13493 non-null  float64\n",
      " 12  DiscountAmount           13493 non-null  float64\n",
      " 13  Gross                    13493 non-null  float64\n",
      " 14  DiscountTotal            13493 non-null  float64\n",
      " 15  TaxType                  13493 non-null  object \n",
      " 16  Tax                      13493 non-null  float64\n",
      " 17  Surcharge                13493 non-null  float64\n",
      " 18  Sales                    13493 non-null  float64\n",
      " 19  SalesNTax                13493 non-null  float64\n",
      " 20  Coupon                   0 non-null      object \n",
      " 21  Note                     23 non-null     object \n",
      " 22  InvoiceID                13493 non-null  object \n",
      " 23  PointUsed                13493 non-null  float64\n",
      " 24  PointsEarned             13493 non-null  float64\n",
      " 25  Delivery                 13493 non-null  object \n",
      " 26  Void                     13493 non-null  object \n",
      " 27  Customer.Name            85 non-null     object \n",
      " 28  Customer.Email           0 non-null      float64\n",
      " 29  Customer.Mobile          74 non-null     object \n",
      " 30  Customer.Code            63 non-null     object \n",
      " 31  Variants.Note            3 non-null      object \n",
      " 32  Variants.PriceTypeID     13493 non-null  int64  \n",
      " 33  Variants.NettPrice       13493 non-null  float64\n",
      " 34  Variants.Expense         13493 non-null  float64\n",
      " 35  Variants.LoyaltyPoint    13493 non-null  bool   \n",
      " 36  Variants.Taxable         13493 non-null  bool   \n",
      " 37  Variants.DiscountAmount  13493 non-null  float64\n",
      " 38  Variants.Discount        13493 non-null  float64\n",
      " 39  Variants.PriceOriginal   13493 non-null  float64\n",
      " 40  Variants.Price           13493 non-null  float64\n",
      " 41  Variants.Cost            13493 non-null  float64\n",
      " 42  Variants.UnitQuantity    13493 non-null  float64\n",
      " 43  Variants.Quantity        13493 non-null  float64\n",
      " 44  Variants.Code            332 non-null    object \n",
      " 45  Variants.Name            13493 non-null  object \n",
      " 46  Payments.Note            543 non-null    object \n",
      " 47  Payments.Code            53 non-null     object \n",
      " 48  Payments.Method          13493 non-null  object \n",
      " 49  Payments.Amount          13493 non-null  float64\n",
      " 50  Payments.Date            13493 non-null  object \n",
      "dtypes: bool(2), float64(23), int64(2), object(24)\n",
      "memory usage: 5.1+ MB\n"
     ]
    }
   ],
   "source": [
    "df.info()"
   ],
   "metadata": {
    "collapsed": false,
    "pycharm": {
     "name": "#%%\n"
    }
   }
  },
  {
   "cell_type": "code",
   "execution_count": 3,
   "outputs": [
    {
     "data": {
      "text/plain": "index                      2759\nOutlet                        1\nNumber                     9267\nDate                        306\nDueDate                       1\nSalesType                     1\nSalesPerson                   0\nCustomer                      0\nCreatorID                     1\nCreated                    9264\nDiscount1                     3\nDiscount2                     3\nDiscountAmount               21\nGross                       394\nDiscountTotal                73\nTaxType                       1\nTax                           1\nSurcharge                     1\nSales                       420\nSalesNTax                   420\nCoupon                        0\nNote                         14\nInvoiceID                  9267\nPointUsed                     1\nPointsEarned                 32\nDelivery                      2\nVoid                          1\nCustomer.Name                51\nCustomer.Email                0\nCustomer.Mobile              47\nCustomer.Code                37\nVariants.Note                 3\nVariants.PriceTypeID          1\nVariants.NettPrice          249\nVariants.Expense              1\nVariants.LoyaltyPoint         1\nVariants.Taxable              1\nVariants.DiscountAmount       7\nVariants.Discount             5\nVariants.PriceOriginal       85\nVariants.Price              115\nVariants.Cost               157\nVariants.UnitQuantity         1\nVariants.Quantity            31\nVariants.Code                 8\nVariants.Name               260\nPayments.Note               299\nPayments.Code                30\nPayments.Method               2\nPayments.Amount             420\nPayments.Date               307\ndtype: int64"
     },
     "execution_count": 3,
     "metadata": {},
     "output_type": "execute_result"
    }
   ],
   "source": [
    "df.nunique()"
   ],
   "metadata": {
    "collapsed": false,
    "pycharm": {
     "name": "#%%\n"
    }
   }
  },
  {
   "cell_type": "markdown",
   "source": [
    "Converting the 'Created' column to datetime and sorting the entries from oldest to newest.\n",
    "Will be useful in the future"
   ],
   "metadata": {
    "collapsed": false,
    "pycharm": {
     "name": "#%% md\n"
    }
   }
  },
  {
   "cell_type": "code",
   "execution_count": 4,
   "outputs": [
    {
     "data": {
      "text/plain": "   index         Outlet     Number                 Date DueDate SalesType  \\\n0      0  Kayole Branch  20.02.002  2020-02-07T00:00:00            Normal   \n1      1  Kayole Branch  20.02.003  2020-02-07T00:00:00            Normal   \n2      2  Kayole Branch  20.02.004  2020-02-07T00:00:00            Normal   \n3      3  Kayole Branch  20.02.005  2020-02-07T00:00:00            Normal   \n4      3  Kayole Branch  20.02.005  2020-02-07T00:00:00            Normal   \n\n  SalesPerson  Customer                             CreatorID  \\\n0        None       NaN  71e6e3df-257e-4a56-90ad-f6214b267aee   \n1        None       NaN  71e6e3df-257e-4a56-90ad-f6214b267aee   \n2        None       NaN  71e6e3df-257e-4a56-90ad-f6214b267aee   \n3        None       NaN  71e6e3df-257e-4a56-90ad-f6214b267aee   \n4        None       NaN  71e6e3df-257e-4a56-90ad-f6214b267aee   \n\n                   Created  ...  Variants.Quantity  Variants.Code  \\\n0  2020-02-07T22:51:30.473  ...                1.0           2001   \n1   2020-02-07T22:52:50.14  ...                2.0           None   \n2   2020-02-07T22:53:26.45  ...                1.0           None   \n3    2020-02-07T23:05:02.1  ...                1.0           3003   \n4    2020-02-07T23:05:02.1  ...                1.0           None   \n\n                 Variants.Name  Payments.Note  Payments.Code Payments.Method  \\\n0     Ladies Dress 200bob 2001           None           None            Cash   \n1                 Men Trousers           None           None            Cash   \n2                  Men tshirts           None           None            Cash   \n3  Children Jackets 80bob 3003           None           None            Cash   \n4                Lady Hand bag           None           None            Cash   \n\n   Payments.Amount        Payments.Date        date          time  \n0            200.0  2020-02-07T00:00:00  2020-02-07  22:51:30.473  \n1            400.0  2020-02-07T00:00:00  2020-02-07   22:52:50.14  \n2            100.0  2020-02-07T00:00:00  2020-02-07   22:53:26.45  \n3            380.0  2020-02-07T00:00:00  2020-02-07    23:05:02.1  \n4            380.0  2020-02-07T00:00:00  2020-02-07    23:05:02.1  \n\n[5 rows x 53 columns]",
      "text/html": "<div>\n<style scoped>\n    .dataframe tbody tr th:only-of-type {\n        vertical-align: middle;\n    }\n\n    .dataframe tbody tr th {\n        vertical-align: top;\n    }\n\n    .dataframe thead th {\n        text-align: right;\n    }\n</style>\n<table border=\"1\" class=\"dataframe\">\n  <thead>\n    <tr style=\"text-align: right;\">\n      <th></th>\n      <th>index</th>\n      <th>Outlet</th>\n      <th>Number</th>\n      <th>Date</th>\n      <th>DueDate</th>\n      <th>SalesType</th>\n      <th>SalesPerson</th>\n      <th>Customer</th>\n      <th>CreatorID</th>\n      <th>Created</th>\n      <th>...</th>\n      <th>Variants.Quantity</th>\n      <th>Variants.Code</th>\n      <th>Variants.Name</th>\n      <th>Payments.Note</th>\n      <th>Payments.Code</th>\n      <th>Payments.Method</th>\n      <th>Payments.Amount</th>\n      <th>Payments.Date</th>\n      <th>date</th>\n      <th>time</th>\n    </tr>\n  </thead>\n  <tbody>\n    <tr>\n      <th>0</th>\n      <td>0</td>\n      <td>Kayole Branch</td>\n      <td>20.02.002</td>\n      <td>2020-02-07T00:00:00</td>\n      <td></td>\n      <td>Normal</td>\n      <td>None</td>\n      <td>NaN</td>\n      <td>71e6e3df-257e-4a56-90ad-f6214b267aee</td>\n      <td>2020-02-07T22:51:30.473</td>\n      <td>...</td>\n      <td>1.0</td>\n      <td>2001</td>\n      <td>Ladies Dress 200bob 2001</td>\n      <td>None</td>\n      <td>None</td>\n      <td>Cash</td>\n      <td>200.0</td>\n      <td>2020-02-07T00:00:00</td>\n      <td>2020-02-07</td>\n      <td>22:51:30.473</td>\n    </tr>\n    <tr>\n      <th>1</th>\n      <td>1</td>\n      <td>Kayole Branch</td>\n      <td>20.02.003</td>\n      <td>2020-02-07T00:00:00</td>\n      <td></td>\n      <td>Normal</td>\n      <td>None</td>\n      <td>NaN</td>\n      <td>71e6e3df-257e-4a56-90ad-f6214b267aee</td>\n      <td>2020-02-07T22:52:50.14</td>\n      <td>...</td>\n      <td>2.0</td>\n      <td>None</td>\n      <td>Men Trousers</td>\n      <td>None</td>\n      <td>None</td>\n      <td>Cash</td>\n      <td>400.0</td>\n      <td>2020-02-07T00:00:00</td>\n      <td>2020-02-07</td>\n      <td>22:52:50.14</td>\n    </tr>\n    <tr>\n      <th>2</th>\n      <td>2</td>\n      <td>Kayole Branch</td>\n      <td>20.02.004</td>\n      <td>2020-02-07T00:00:00</td>\n      <td></td>\n      <td>Normal</td>\n      <td>None</td>\n      <td>NaN</td>\n      <td>71e6e3df-257e-4a56-90ad-f6214b267aee</td>\n      <td>2020-02-07T22:53:26.45</td>\n      <td>...</td>\n      <td>1.0</td>\n      <td>None</td>\n      <td>Men tshirts</td>\n      <td>None</td>\n      <td>None</td>\n      <td>Cash</td>\n      <td>100.0</td>\n      <td>2020-02-07T00:00:00</td>\n      <td>2020-02-07</td>\n      <td>22:53:26.45</td>\n    </tr>\n    <tr>\n      <th>3</th>\n      <td>3</td>\n      <td>Kayole Branch</td>\n      <td>20.02.005</td>\n      <td>2020-02-07T00:00:00</td>\n      <td></td>\n      <td>Normal</td>\n      <td>None</td>\n      <td>NaN</td>\n      <td>71e6e3df-257e-4a56-90ad-f6214b267aee</td>\n      <td>2020-02-07T23:05:02.1</td>\n      <td>...</td>\n      <td>1.0</td>\n      <td>3003</td>\n      <td>Children Jackets 80bob 3003</td>\n      <td>None</td>\n      <td>None</td>\n      <td>Cash</td>\n      <td>380.0</td>\n      <td>2020-02-07T00:00:00</td>\n      <td>2020-02-07</td>\n      <td>23:05:02.1</td>\n    </tr>\n    <tr>\n      <th>4</th>\n      <td>3</td>\n      <td>Kayole Branch</td>\n      <td>20.02.005</td>\n      <td>2020-02-07T00:00:00</td>\n      <td></td>\n      <td>Normal</td>\n      <td>None</td>\n      <td>NaN</td>\n      <td>71e6e3df-257e-4a56-90ad-f6214b267aee</td>\n      <td>2020-02-07T23:05:02.1</td>\n      <td>...</td>\n      <td>1.0</td>\n      <td>None</td>\n      <td>Lady Hand bag</td>\n      <td>None</td>\n      <td>None</td>\n      <td>Cash</td>\n      <td>380.0</td>\n      <td>2020-02-07T00:00:00</td>\n      <td>2020-02-07</td>\n      <td>23:05:02.1</td>\n    </tr>\n  </tbody>\n</table>\n<p>5 rows × 53 columns</p>\n</div>"
     },
     "execution_count": 4,
     "metadata": {},
     "output_type": "execute_result"
    }
   ],
   "source": [
    "df[['date', 'time']] = df.Created.str.split(\"T\", expand=True)\n",
    "df.head()"
   ],
   "metadata": {
    "collapsed": false,
    "pycharm": {
     "name": "#%%\n"
    }
   }
  },
  {
   "cell_type": "code",
   "execution_count": 5,
   "outputs": [
    {
     "name": "stdout",
     "output_type": "stream",
     "text": [
      "<class 'pandas.core.frame.DataFrame'>\n",
      "RangeIndex: 13493 entries, 0 to 13492\n",
      "Data columns (total 55 columns):\n",
      " #   Column                   Non-Null Count  Dtype  \n",
      "---  ------                   --------------  -----  \n",
      " 0   index                    13493 non-null  int64  \n",
      " 1   Outlet                   13493 non-null  object \n",
      " 2   Number                   13493 non-null  object \n",
      " 3   Date                     13493 non-null  object \n",
      " 4   DueDate                  13493 non-null  object \n",
      " 5   SalesType                13493 non-null  object \n",
      " 6   SalesPerson              0 non-null      object \n",
      " 7   Customer                 0 non-null      float64\n",
      " 8   CreatorID                13493 non-null  object \n",
      " 9   Created                  13493 non-null  object \n",
      " 10  Discount1                13493 non-null  float64\n",
      " 11  Discount2                13493 non-null  float64\n",
      " 12  DiscountAmount           13493 non-null  float64\n",
      " 13  Gross                    13493 non-null  float64\n",
      " 14  DiscountTotal            13493 non-null  float64\n",
      " 15  TaxType                  13493 non-null  object \n",
      " 16  Tax                      13493 non-null  float64\n",
      " 17  Surcharge                13493 non-null  float64\n",
      " 18  Sales                    13493 non-null  float64\n",
      " 19  SalesNTax                13493 non-null  float64\n",
      " 20  Coupon                   0 non-null      object \n",
      " 21  Note                     23 non-null     object \n",
      " 22  InvoiceID                13493 non-null  object \n",
      " 23  PointUsed                13493 non-null  float64\n",
      " 24  PointsEarned             13493 non-null  float64\n",
      " 25  Delivery                 13493 non-null  object \n",
      " 26  Void                     13493 non-null  object \n",
      " 27  Customer.Name            85 non-null     object \n",
      " 28  Customer.Email           0 non-null      float64\n",
      " 29  Customer.Mobile          74 non-null     object \n",
      " 30  Customer.Code            63 non-null     object \n",
      " 31  Variants.Note            3 non-null      object \n",
      " 32  Variants.PriceTypeID     13493 non-null  int64  \n",
      " 33  Variants.NettPrice       13493 non-null  float64\n",
      " 34  Variants.Expense         13493 non-null  float64\n",
      " 35  Variants.LoyaltyPoint    13493 non-null  bool   \n",
      " 36  Variants.Taxable         13493 non-null  bool   \n",
      " 37  Variants.DiscountAmount  13493 non-null  float64\n",
      " 38  Variants.Discount        13493 non-null  float64\n",
      " 39  Variants.PriceOriginal   13493 non-null  float64\n",
      " 40  Variants.Price           13493 non-null  float64\n",
      " 41  Variants.Cost            13493 non-null  float64\n",
      " 42  Variants.UnitQuantity    13493 non-null  float64\n",
      " 43  Variants.Quantity        13493 non-null  float64\n",
      " 44  Variants.Code            332 non-null    object \n",
      " 45  Variants.Name            13493 non-null  object \n",
      " 46  Payments.Note            543 non-null    object \n",
      " 47  Payments.Code            53 non-null     object \n",
      " 48  Payments.Method          13493 non-null  object \n",
      " 49  Payments.Amount          13493 non-null  float64\n",
      " 50  Payments.Date            13493 non-null  object \n",
      " 51  date                     13493 non-null  object \n",
      " 52  time                     13493 non-null  object \n",
      " 53  hour                     13493 non-null  object \n",
      " 54  minute                   13493 non-null  object \n",
      "dtypes: bool(2), float64(23), int64(2), object(28)\n",
      "memory usage: 5.5+ MB\n"
     ]
    }
   ],
   "source": [
    "df[['hour', 'minute', 'second']] = df['time'].str.split(':', expand=True)\n",
    "df.drop(columns='second', inplace=True)\n",
    "df.info()"
   ],
   "metadata": {
    "collapsed": false,
    "pycharm": {
     "name": "#%%\n"
    }
   }
  },
  {
   "cell_type": "code",
   "execution_count": 6,
   "outputs": [
    {
     "data": {
      "text/plain": "   index         Outlet     Number                 Date DueDate SalesType  \\\n0      0  Kayole Branch  20.02.002  2020-02-07T00:00:00            Normal   \n1      1  Kayole Branch  20.02.003  2020-02-07T00:00:00            Normal   \n2      2  Kayole Branch  20.02.004  2020-02-07T00:00:00            Normal   \n3      3  Kayole Branch  20.02.005  2020-02-07T00:00:00            Normal   \n4      3  Kayole Branch  20.02.005  2020-02-07T00:00:00            Normal   \n\n  SalesPerson  Customer                             CreatorID  \\\n0        None       NaN  71e6e3df-257e-4a56-90ad-f6214b267aee   \n1        None       NaN  71e6e3df-257e-4a56-90ad-f6214b267aee   \n2        None       NaN  71e6e3df-257e-4a56-90ad-f6214b267aee   \n3        None       NaN  71e6e3df-257e-4a56-90ad-f6214b267aee   \n4        None       NaN  71e6e3df-257e-4a56-90ad-f6214b267aee   \n\n                   Created  ...  Payments.Method  Payments.Amount  \\\n0  2020-02-07T22:51:30.473  ...             Cash            200.0   \n1   2020-02-07T22:52:50.14  ...             Cash            400.0   \n2   2020-02-07T22:53:26.45  ...             Cash            100.0   \n3    2020-02-07T23:05:02.1  ...             Cash            380.0   \n4    2020-02-07T23:05:02.1  ...             Cash            380.0   \n\n         Payments.Date        date          time hour  minute  year  month  \\\n0  2020-02-07T00:00:00  2020-02-07  22:51:30.473   22      51  2020     02   \n1  2020-02-07T00:00:00  2020-02-07   22:52:50.14   22      52  2020     02   \n2  2020-02-07T00:00:00  2020-02-07   22:53:26.45   22      53  2020     02   \n3  2020-02-07T00:00:00  2020-02-07    23:05:02.1   23      05  2020     02   \n4  2020-02-07T00:00:00  2020-02-07    23:05:02.1   23      05  2020     02   \n\n   day  \n0   07  \n1   07  \n2   07  \n3   07  \n4   07  \n\n[5 rows x 58 columns]",
      "text/html": "<div>\n<style scoped>\n    .dataframe tbody tr th:only-of-type {\n        vertical-align: middle;\n    }\n\n    .dataframe tbody tr th {\n        vertical-align: top;\n    }\n\n    .dataframe thead th {\n        text-align: right;\n    }\n</style>\n<table border=\"1\" class=\"dataframe\">\n  <thead>\n    <tr style=\"text-align: right;\">\n      <th></th>\n      <th>index</th>\n      <th>Outlet</th>\n      <th>Number</th>\n      <th>Date</th>\n      <th>DueDate</th>\n      <th>SalesType</th>\n      <th>SalesPerson</th>\n      <th>Customer</th>\n      <th>CreatorID</th>\n      <th>Created</th>\n      <th>...</th>\n      <th>Payments.Method</th>\n      <th>Payments.Amount</th>\n      <th>Payments.Date</th>\n      <th>date</th>\n      <th>time</th>\n      <th>hour</th>\n      <th>minute</th>\n      <th>year</th>\n      <th>month</th>\n      <th>day</th>\n    </tr>\n  </thead>\n  <tbody>\n    <tr>\n      <th>0</th>\n      <td>0</td>\n      <td>Kayole Branch</td>\n      <td>20.02.002</td>\n      <td>2020-02-07T00:00:00</td>\n      <td></td>\n      <td>Normal</td>\n      <td>None</td>\n      <td>NaN</td>\n      <td>71e6e3df-257e-4a56-90ad-f6214b267aee</td>\n      <td>2020-02-07T22:51:30.473</td>\n      <td>...</td>\n      <td>Cash</td>\n      <td>200.0</td>\n      <td>2020-02-07T00:00:00</td>\n      <td>2020-02-07</td>\n      <td>22:51:30.473</td>\n      <td>22</td>\n      <td>51</td>\n      <td>2020</td>\n      <td>02</td>\n      <td>07</td>\n    </tr>\n    <tr>\n      <th>1</th>\n      <td>1</td>\n      <td>Kayole Branch</td>\n      <td>20.02.003</td>\n      <td>2020-02-07T00:00:00</td>\n      <td></td>\n      <td>Normal</td>\n      <td>None</td>\n      <td>NaN</td>\n      <td>71e6e3df-257e-4a56-90ad-f6214b267aee</td>\n      <td>2020-02-07T22:52:50.14</td>\n      <td>...</td>\n      <td>Cash</td>\n      <td>400.0</td>\n      <td>2020-02-07T00:00:00</td>\n      <td>2020-02-07</td>\n      <td>22:52:50.14</td>\n      <td>22</td>\n      <td>52</td>\n      <td>2020</td>\n      <td>02</td>\n      <td>07</td>\n    </tr>\n    <tr>\n      <th>2</th>\n      <td>2</td>\n      <td>Kayole Branch</td>\n      <td>20.02.004</td>\n      <td>2020-02-07T00:00:00</td>\n      <td></td>\n      <td>Normal</td>\n      <td>None</td>\n      <td>NaN</td>\n      <td>71e6e3df-257e-4a56-90ad-f6214b267aee</td>\n      <td>2020-02-07T22:53:26.45</td>\n      <td>...</td>\n      <td>Cash</td>\n      <td>100.0</td>\n      <td>2020-02-07T00:00:00</td>\n      <td>2020-02-07</td>\n      <td>22:53:26.45</td>\n      <td>22</td>\n      <td>53</td>\n      <td>2020</td>\n      <td>02</td>\n      <td>07</td>\n    </tr>\n    <tr>\n      <th>3</th>\n      <td>3</td>\n      <td>Kayole Branch</td>\n      <td>20.02.005</td>\n      <td>2020-02-07T00:00:00</td>\n      <td></td>\n      <td>Normal</td>\n      <td>None</td>\n      <td>NaN</td>\n      <td>71e6e3df-257e-4a56-90ad-f6214b267aee</td>\n      <td>2020-02-07T23:05:02.1</td>\n      <td>...</td>\n      <td>Cash</td>\n      <td>380.0</td>\n      <td>2020-02-07T00:00:00</td>\n      <td>2020-02-07</td>\n      <td>23:05:02.1</td>\n      <td>23</td>\n      <td>05</td>\n      <td>2020</td>\n      <td>02</td>\n      <td>07</td>\n    </tr>\n    <tr>\n      <th>4</th>\n      <td>3</td>\n      <td>Kayole Branch</td>\n      <td>20.02.005</td>\n      <td>2020-02-07T00:00:00</td>\n      <td></td>\n      <td>Normal</td>\n      <td>None</td>\n      <td>NaN</td>\n      <td>71e6e3df-257e-4a56-90ad-f6214b267aee</td>\n      <td>2020-02-07T23:05:02.1</td>\n      <td>...</td>\n      <td>Cash</td>\n      <td>380.0</td>\n      <td>2020-02-07T00:00:00</td>\n      <td>2020-02-07</td>\n      <td>23:05:02.1</td>\n      <td>23</td>\n      <td>05</td>\n      <td>2020</td>\n      <td>02</td>\n      <td>07</td>\n    </tr>\n  </tbody>\n</table>\n<p>5 rows × 58 columns</p>\n</div>"
     },
     "execution_count": 6,
     "metadata": {},
     "output_type": "execute_result"
    }
   ],
   "source": [
    "df[['year', 'month', 'day']] = df.date.str.split('-', expand=True)\n",
    "df.head()"
   ],
   "metadata": {
    "collapsed": false,
    "pycharm": {
     "name": "#%%\n"
    }
   }
  },
  {
   "cell_type": "code",
   "execution_count": 7,
   "outputs": [
    {
     "data": {
      "text/plain": "0   2020-02-07 22:52:00\n1   2020-02-07 22:53:00\n2   2020-02-07 22:53:00\n3   2020-02-07 23:05:00\n4   2020-02-07 23:05:00\nName: Created, dtype: datetime64[ns]"
     },
     "execution_count": 7,
     "metadata": {},
     "output_type": "execute_result"
    }
   ],
   "source": [
    "df['Created'] = pd.to_datetime(df['Created'], errors='coerce')\n",
    "df['Created'] = df.Created.dt.round('T')\n",
    "df.sort_values(by=['Created'], inplace=True, ascending=True, ignore_index=True)\n",
    "df.Created.head()"
   ],
   "metadata": {
    "collapsed": false,
    "pycharm": {
     "name": "#%%\n"
    }
   }
  },
  {
   "cell_type": "markdown",
   "source": [
    "Checking for the unique values per column. This will determine which columns to drop as we clean up the data"
   ],
   "metadata": {
    "collapsed": false,
    "pycharm": {
     "name": "#%% md\n"
    }
   }
  },
  {
   "cell_type": "code",
   "execution_count": 8,
   "outputs": [
    {
     "data": {
      "text/plain": "index                      2759\nOutlet                        1\nNumber                     9267\nDate                        306\nDueDate                       1\nSalesType                     1\nSalesPerson                   0\nCustomer                      0\nCreatorID                     1\nCreated                    8810\nDiscount1                     3\nDiscount2                     3\nDiscountAmount               21\nGross                       394\nDiscountTotal                73\nTaxType                       1\nTax                           1\nSurcharge                     1\nSales                       420\nSalesNTax                   420\nCoupon                        0\nNote                         14\nInvoiceID                  9267\nPointUsed                     1\nPointsEarned                 32\nDelivery                      2\nVoid                          1\nCustomer.Name                51\nCustomer.Email                0\nCustomer.Mobile              47\nCustomer.Code                37\nVariants.Note                 3\nVariants.PriceTypeID          1\nVariants.NettPrice          249\nVariants.Expense              1\nVariants.LoyaltyPoint         1\nVariants.Taxable              1\nVariants.DiscountAmount       7\nVariants.Discount             5\nVariants.PriceOriginal       85\nVariants.Price              115\nVariants.Cost               157\nVariants.UnitQuantity         1\nVariants.Quantity            31\nVariants.Code                 8\nVariants.Name               260\nPayments.Note               299\nPayments.Code                30\nPayments.Method               2\nPayments.Amount             420\nPayments.Date               307\ndate                        320\ntime                       9257\nhour                         13\nminute                       60\nyear                          2\nmonth                        12\nday                          31\ndtype: int64"
     },
     "execution_count": 8,
     "metadata": {},
     "output_type": "execute_result"
    }
   ],
   "source": [
    "df.nunique()"
   ],
   "metadata": {
    "collapsed": false,
    "pycharm": {
     "name": "#%%\n"
    }
   }
  },
  {
   "cell_type": "markdown",
   "source": [
    "Dropping the columns with only one unique value in them. These won't help us in the analysis as they are consistent"
   ],
   "metadata": {
    "collapsed": false,
    "pycharm": {
     "name": "#%% md\n"
    }
   }
  },
  {
   "cell_type": "code",
   "execution_count": 9,
   "outputs": [],
   "source": [
    "df = df.drop(['Outlet', 'DueDate', 'SalesType', 'SalesPerson', 'CreatorID', 'Discount1', 'Discount2',\n",
    "              'DiscountAmount', 'DiscountTotal', 'TaxType', 'Tax', 'Surcharge', 'Sales', 'Coupon', 'Note',\n",
    "              'Delivery', 'Void', 'date', 'time', 'SalesNTax', 'PointUsed', 'Outlet', 'Customer.Name', 'Customer.Mobile',\n",
    "              'Customer.Code', 'Variants.Note', 'Variants.PriceTypeID', 'Variants.Expense', 'Variants.LoyaltyPoint',\n",
    "              'Variants.Taxable', 'Variants.UnitQuantity', 'Customer', 'Customer.Email'], axis=1)"
   ],
   "metadata": {
    "collapsed": false,
    "pycharm": {
     "name": "#%%\n"
    }
   }
  },
  {
   "cell_type": "markdown",
   "source": [
    "Checking for columns with Nan Values and dropping them"
   ],
   "metadata": {
    "collapsed": false,
    "pycharm": {
     "name": "#%% md\n"
    }
   }
  },
  {
   "cell_type": "code",
   "execution_count": 10,
   "outputs": [
    {
     "data": {
      "text/plain": "       index  Number   Date  Created  Gross  InvoiceID  PointsEarned  \\\n0      False   False  False    False  False      False         False   \n1      False   False  False    False  False      False         False   \n2      False   False  False    False  False      False         False   \n3      False   False  False    False  False      False         False   \n4      False   False  False    False  False      False         False   \n...      ...     ...    ...      ...    ...        ...           ...   \n13488  False   False  False    False  False      False         False   \n13489  False   False  False    False  False      False         False   \n13490  False   False  False    False  False      False         False   \n13491  False   False  False    False  False      False         False   \n13492  False   False  False    False  False      False         False   \n\n       Variants.NettPrice  Variants.DiscountAmount  Variants.Discount  ...  \\\n0                   False                    False              False  ...   \n1                   False                    False              False  ...   \n2                   False                    False              False  ...   \n3                   False                    False              False  ...   \n4                   False                    False              False  ...   \n...                   ...                      ...                ...  ...   \n13488               False                    False              False  ...   \n13489               False                    False              False  ...   \n13490               False                    False              False  ...   \n13491               False                    False              False  ...   \n13492               False                    False              False  ...   \n\n       Payments.Note  Payments.Code  Payments.Method  Payments.Amount  \\\n0               True           True            False            False   \n1               True           True            False            False   \n2               True           True            False            False   \n3               True           True            False            False   \n4               True           True            False            False   \n...              ...            ...              ...              ...   \n13488           True           True            False            False   \n13489           True           True            False            False   \n13490           True           True            False            False   \n13491           True           True            False            False   \n13492           True           True            False            False   \n\n       Payments.Date   hour  minute   year  month    day  \n0              False  False   False  False  False  False  \n1              False  False   False  False  False  False  \n2              False  False   False  False  False  False  \n3              False  False   False  False  False  False  \n4              False  False   False  False  False  False  \n...              ...    ...     ...    ...    ...    ...  \n13488          False  False   False  False  False  False  \n13489          False  False   False  False  False  False  \n13490          False  False   False  False  False  False  \n13491          False  False   False  False  False  False  \n13492          False  False   False  False  False  False  \n\n[13493 rows x 26 columns]",
      "text/html": "<div>\n<style scoped>\n    .dataframe tbody tr th:only-of-type {\n        vertical-align: middle;\n    }\n\n    .dataframe tbody tr th {\n        vertical-align: top;\n    }\n\n    .dataframe thead th {\n        text-align: right;\n    }\n</style>\n<table border=\"1\" class=\"dataframe\">\n  <thead>\n    <tr style=\"text-align: right;\">\n      <th></th>\n      <th>index</th>\n      <th>Number</th>\n      <th>Date</th>\n      <th>Created</th>\n      <th>Gross</th>\n      <th>InvoiceID</th>\n      <th>PointsEarned</th>\n      <th>Variants.NettPrice</th>\n      <th>Variants.DiscountAmount</th>\n      <th>Variants.Discount</th>\n      <th>...</th>\n      <th>Payments.Note</th>\n      <th>Payments.Code</th>\n      <th>Payments.Method</th>\n      <th>Payments.Amount</th>\n      <th>Payments.Date</th>\n      <th>hour</th>\n      <th>minute</th>\n      <th>year</th>\n      <th>month</th>\n      <th>day</th>\n    </tr>\n  </thead>\n  <tbody>\n    <tr>\n      <th>0</th>\n      <td>False</td>\n      <td>False</td>\n      <td>False</td>\n      <td>False</td>\n      <td>False</td>\n      <td>False</td>\n      <td>False</td>\n      <td>False</td>\n      <td>False</td>\n      <td>False</td>\n      <td>...</td>\n      <td>True</td>\n      <td>True</td>\n      <td>False</td>\n      <td>False</td>\n      <td>False</td>\n      <td>False</td>\n      <td>False</td>\n      <td>False</td>\n      <td>False</td>\n      <td>False</td>\n    </tr>\n    <tr>\n      <th>1</th>\n      <td>False</td>\n      <td>False</td>\n      <td>False</td>\n      <td>False</td>\n      <td>False</td>\n      <td>False</td>\n      <td>False</td>\n      <td>False</td>\n      <td>False</td>\n      <td>False</td>\n      <td>...</td>\n      <td>True</td>\n      <td>True</td>\n      <td>False</td>\n      <td>False</td>\n      <td>False</td>\n      <td>False</td>\n      <td>False</td>\n      <td>False</td>\n      <td>False</td>\n      <td>False</td>\n    </tr>\n    <tr>\n      <th>2</th>\n      <td>False</td>\n      <td>False</td>\n      <td>False</td>\n      <td>False</td>\n      <td>False</td>\n      <td>False</td>\n      <td>False</td>\n      <td>False</td>\n      <td>False</td>\n      <td>False</td>\n      <td>...</td>\n      <td>True</td>\n      <td>True</td>\n      <td>False</td>\n      <td>False</td>\n      <td>False</td>\n      <td>False</td>\n      <td>False</td>\n      <td>False</td>\n      <td>False</td>\n      <td>False</td>\n    </tr>\n    <tr>\n      <th>3</th>\n      <td>False</td>\n      <td>False</td>\n      <td>False</td>\n      <td>False</td>\n      <td>False</td>\n      <td>False</td>\n      <td>False</td>\n      <td>False</td>\n      <td>False</td>\n      <td>False</td>\n      <td>...</td>\n      <td>True</td>\n      <td>True</td>\n      <td>False</td>\n      <td>False</td>\n      <td>False</td>\n      <td>False</td>\n      <td>False</td>\n      <td>False</td>\n      <td>False</td>\n      <td>False</td>\n    </tr>\n    <tr>\n      <th>4</th>\n      <td>False</td>\n      <td>False</td>\n      <td>False</td>\n      <td>False</td>\n      <td>False</td>\n      <td>False</td>\n      <td>False</td>\n      <td>False</td>\n      <td>False</td>\n      <td>False</td>\n      <td>...</td>\n      <td>True</td>\n      <td>True</td>\n      <td>False</td>\n      <td>False</td>\n      <td>False</td>\n      <td>False</td>\n      <td>False</td>\n      <td>False</td>\n      <td>False</td>\n      <td>False</td>\n    </tr>\n    <tr>\n      <th>...</th>\n      <td>...</td>\n      <td>...</td>\n      <td>...</td>\n      <td>...</td>\n      <td>...</td>\n      <td>...</td>\n      <td>...</td>\n      <td>...</td>\n      <td>...</td>\n      <td>...</td>\n      <td>...</td>\n      <td>...</td>\n      <td>...</td>\n      <td>...</td>\n      <td>...</td>\n      <td>...</td>\n      <td>...</td>\n      <td>...</td>\n      <td>...</td>\n      <td>...</td>\n      <td>...</td>\n    </tr>\n    <tr>\n      <th>13488</th>\n      <td>False</td>\n      <td>False</td>\n      <td>False</td>\n      <td>False</td>\n      <td>False</td>\n      <td>False</td>\n      <td>False</td>\n      <td>False</td>\n      <td>False</td>\n      <td>False</td>\n      <td>...</td>\n      <td>True</td>\n      <td>True</td>\n      <td>False</td>\n      <td>False</td>\n      <td>False</td>\n      <td>False</td>\n      <td>False</td>\n      <td>False</td>\n      <td>False</td>\n      <td>False</td>\n    </tr>\n    <tr>\n      <th>13489</th>\n      <td>False</td>\n      <td>False</td>\n      <td>False</td>\n      <td>False</td>\n      <td>False</td>\n      <td>False</td>\n      <td>False</td>\n      <td>False</td>\n      <td>False</td>\n      <td>False</td>\n      <td>...</td>\n      <td>True</td>\n      <td>True</td>\n      <td>False</td>\n      <td>False</td>\n      <td>False</td>\n      <td>False</td>\n      <td>False</td>\n      <td>False</td>\n      <td>False</td>\n      <td>False</td>\n    </tr>\n    <tr>\n      <th>13490</th>\n      <td>False</td>\n      <td>False</td>\n      <td>False</td>\n      <td>False</td>\n      <td>False</td>\n      <td>False</td>\n      <td>False</td>\n      <td>False</td>\n      <td>False</td>\n      <td>False</td>\n      <td>...</td>\n      <td>True</td>\n      <td>True</td>\n      <td>False</td>\n      <td>False</td>\n      <td>False</td>\n      <td>False</td>\n      <td>False</td>\n      <td>False</td>\n      <td>False</td>\n      <td>False</td>\n    </tr>\n    <tr>\n      <th>13491</th>\n      <td>False</td>\n      <td>False</td>\n      <td>False</td>\n      <td>False</td>\n      <td>False</td>\n      <td>False</td>\n      <td>False</td>\n      <td>False</td>\n      <td>False</td>\n      <td>False</td>\n      <td>...</td>\n      <td>True</td>\n      <td>True</td>\n      <td>False</td>\n      <td>False</td>\n      <td>False</td>\n      <td>False</td>\n      <td>False</td>\n      <td>False</td>\n      <td>False</td>\n      <td>False</td>\n    </tr>\n    <tr>\n      <th>13492</th>\n      <td>False</td>\n      <td>False</td>\n      <td>False</td>\n      <td>False</td>\n      <td>False</td>\n      <td>False</td>\n      <td>False</td>\n      <td>False</td>\n      <td>False</td>\n      <td>False</td>\n      <td>...</td>\n      <td>True</td>\n      <td>True</td>\n      <td>False</td>\n      <td>False</td>\n      <td>False</td>\n      <td>False</td>\n      <td>False</td>\n      <td>False</td>\n      <td>False</td>\n      <td>False</td>\n    </tr>\n  </tbody>\n</table>\n<p>13493 rows × 26 columns</p>\n</div>"
     },
     "execution_count": 10,
     "metadata": {},
     "output_type": "execute_result"
    }
   ],
   "source": [
    "df.isna()\n"
   ],
   "metadata": {
    "collapsed": false,
    "pycharm": {
     "name": "#%%\n"
    }
   }
  },
  {
   "cell_type": "code",
   "execution_count": 11,
   "outputs": [
    {
     "data": {
      "text/plain": "   index     Number                 Date             Created  Gross  \\\n0      0  20.02.002  2020-02-07T00:00:00 2020-02-07 22:52:00  200.0   \n1      1  20.02.003  2020-02-07T00:00:00 2020-02-07 22:53:00  400.0   \n2      2  20.02.004  2020-02-07T00:00:00 2020-02-07 22:53:00  100.0   \n3      3  20.02.005  2020-02-07T00:00:00 2020-02-07 23:05:00  380.0   \n4      3  20.02.005  2020-02-07T00:00:00 2020-02-07 23:05:00  380.0   \n\n                              InvoiceID  PointsEarned  Variants.NettPrice  \\\n0  a4f938d7-a234-49f9-9588-ea6dc1b547b2           0.0               200.0   \n1  89681b1f-21ab-4f0a-8780-3971de3f82b0           0.0               400.0   \n2  af594745-e964-4051-ae17-93b23b746743           0.0               100.0   \n3  a76090aa-9470-4ef5-8e38-59568d23bdae           0.0                80.0   \n4  a76090aa-9470-4ef5-8e38-59568d23bdae           0.0               300.0   \n\n   Variants.DiscountAmount  Variants.Discount  ...  Payments.Note  \\\n0                      0.0                0.0  ...           None   \n1                      0.0                0.0  ...           None   \n2                      0.0                0.0  ...           None   \n3                      0.0                0.0  ...           None   \n4                      0.0                0.0  ...           None   \n\n   Payments.Code  Payments.Method  Payments.Amount        Payments.Date hour  \\\n0           None             Cash            200.0  2020-02-07T00:00:00   22   \n1           None             Cash            400.0  2020-02-07T00:00:00   22   \n2           None             Cash            100.0  2020-02-07T00:00:00   22   \n3           None             Cash            380.0  2020-02-07T00:00:00   23   \n4           None             Cash            380.0  2020-02-07T00:00:00   23   \n\n  minute  year month  day  \n0     51  2020    02   07  \n1     52  2020    02   07  \n2     53  2020    02   07  \n3     05  2020    02   07  \n4     05  2020    02   07  \n\n[5 rows x 26 columns]",
      "text/html": "<div>\n<style scoped>\n    .dataframe tbody tr th:only-of-type {\n        vertical-align: middle;\n    }\n\n    .dataframe tbody tr th {\n        vertical-align: top;\n    }\n\n    .dataframe thead th {\n        text-align: right;\n    }\n</style>\n<table border=\"1\" class=\"dataframe\">\n  <thead>\n    <tr style=\"text-align: right;\">\n      <th></th>\n      <th>index</th>\n      <th>Number</th>\n      <th>Date</th>\n      <th>Created</th>\n      <th>Gross</th>\n      <th>InvoiceID</th>\n      <th>PointsEarned</th>\n      <th>Variants.NettPrice</th>\n      <th>Variants.DiscountAmount</th>\n      <th>Variants.Discount</th>\n      <th>...</th>\n      <th>Payments.Note</th>\n      <th>Payments.Code</th>\n      <th>Payments.Method</th>\n      <th>Payments.Amount</th>\n      <th>Payments.Date</th>\n      <th>hour</th>\n      <th>minute</th>\n      <th>year</th>\n      <th>month</th>\n      <th>day</th>\n    </tr>\n  </thead>\n  <tbody>\n    <tr>\n      <th>0</th>\n      <td>0</td>\n      <td>20.02.002</td>\n      <td>2020-02-07T00:00:00</td>\n      <td>2020-02-07 22:52:00</td>\n      <td>200.0</td>\n      <td>a4f938d7-a234-49f9-9588-ea6dc1b547b2</td>\n      <td>0.0</td>\n      <td>200.0</td>\n      <td>0.0</td>\n      <td>0.0</td>\n      <td>...</td>\n      <td>None</td>\n      <td>None</td>\n      <td>Cash</td>\n      <td>200.0</td>\n      <td>2020-02-07T00:00:00</td>\n      <td>22</td>\n      <td>51</td>\n      <td>2020</td>\n      <td>02</td>\n      <td>07</td>\n    </tr>\n    <tr>\n      <th>1</th>\n      <td>1</td>\n      <td>20.02.003</td>\n      <td>2020-02-07T00:00:00</td>\n      <td>2020-02-07 22:53:00</td>\n      <td>400.0</td>\n      <td>89681b1f-21ab-4f0a-8780-3971de3f82b0</td>\n      <td>0.0</td>\n      <td>400.0</td>\n      <td>0.0</td>\n      <td>0.0</td>\n      <td>...</td>\n      <td>None</td>\n      <td>None</td>\n      <td>Cash</td>\n      <td>400.0</td>\n      <td>2020-02-07T00:00:00</td>\n      <td>22</td>\n      <td>52</td>\n      <td>2020</td>\n      <td>02</td>\n      <td>07</td>\n    </tr>\n    <tr>\n      <th>2</th>\n      <td>2</td>\n      <td>20.02.004</td>\n      <td>2020-02-07T00:00:00</td>\n      <td>2020-02-07 22:53:00</td>\n      <td>100.0</td>\n      <td>af594745-e964-4051-ae17-93b23b746743</td>\n      <td>0.0</td>\n      <td>100.0</td>\n      <td>0.0</td>\n      <td>0.0</td>\n      <td>...</td>\n      <td>None</td>\n      <td>None</td>\n      <td>Cash</td>\n      <td>100.0</td>\n      <td>2020-02-07T00:00:00</td>\n      <td>22</td>\n      <td>53</td>\n      <td>2020</td>\n      <td>02</td>\n      <td>07</td>\n    </tr>\n    <tr>\n      <th>3</th>\n      <td>3</td>\n      <td>20.02.005</td>\n      <td>2020-02-07T00:00:00</td>\n      <td>2020-02-07 23:05:00</td>\n      <td>380.0</td>\n      <td>a76090aa-9470-4ef5-8e38-59568d23bdae</td>\n      <td>0.0</td>\n      <td>80.0</td>\n      <td>0.0</td>\n      <td>0.0</td>\n      <td>...</td>\n      <td>None</td>\n      <td>None</td>\n      <td>Cash</td>\n      <td>380.0</td>\n      <td>2020-02-07T00:00:00</td>\n      <td>23</td>\n      <td>05</td>\n      <td>2020</td>\n      <td>02</td>\n      <td>07</td>\n    </tr>\n    <tr>\n      <th>4</th>\n      <td>3</td>\n      <td>20.02.005</td>\n      <td>2020-02-07T00:00:00</td>\n      <td>2020-02-07 23:05:00</td>\n      <td>380.0</td>\n      <td>a76090aa-9470-4ef5-8e38-59568d23bdae</td>\n      <td>0.0</td>\n      <td>300.0</td>\n      <td>0.0</td>\n      <td>0.0</td>\n      <td>...</td>\n      <td>None</td>\n      <td>None</td>\n      <td>Cash</td>\n      <td>380.0</td>\n      <td>2020-02-07T00:00:00</td>\n      <td>23</td>\n      <td>05</td>\n      <td>2020</td>\n      <td>02</td>\n      <td>07</td>\n    </tr>\n  </tbody>\n</table>\n<p>5 rows × 26 columns</p>\n</div>"
     },
     "execution_count": 11,
     "metadata": {},
     "output_type": "execute_result"
    }
   ],
   "source": [
    "df.dropna(inplace=True, axis=1, how='all')\n",
    "df.head()\n"
   ],
   "metadata": {
    "collapsed": false,
    "pycharm": {
     "name": "#%%\n"
    }
   }
  },
  {
   "cell_type": "code",
   "execution_count": 12,
   "outputs": [
    {
     "data": {
      "text/plain": "index                      2759\nNumber                     9267\nDate                        306\nCreated                    8810\nGross                       394\nInvoiceID                  9267\nPointsEarned                 32\nVariants.NettPrice          249\nVariants.DiscountAmount       7\nVariants.Discount             5\nVariants.PriceOriginal       85\nVariants.Price              115\nVariants.Cost               157\nVariants.Quantity            31\nVariants.Code                 8\nVariants.Name               260\nPayments.Note               299\nPayments.Code                30\nPayments.Method               2\nPayments.Amount             420\nPayments.Date               307\nhour                         13\nminute                       60\nyear                          2\nmonth                        12\nday                          31\ndtype: int64"
     },
     "execution_count": 12,
     "metadata": {},
     "output_type": "execute_result"
    }
   ],
   "source": [
    "df.nunique()"
   ],
   "metadata": {
    "collapsed": false,
    "pycharm": {
     "name": "#%%\n"
    }
   }
  },
  {
   "cell_type": "code",
   "execution_count": 13,
   "outputs": [
    {
     "name": "stdout",
     "output_type": "stream",
     "text": [
      "<class 'pandas.core.frame.DataFrame'>\n",
      "RangeIndex: 13493 entries, 0 to 13492\n",
      "Data columns (total 26 columns):\n",
      " #   Column                   Non-Null Count  Dtype         \n",
      "---  ------                   --------------  -----         \n",
      " 0   index                    13493 non-null  int64         \n",
      " 1   Number                   13493 non-null  object        \n",
      " 2   Date                     13493 non-null  object        \n",
      " 3   Created                  13493 non-null  datetime64[ns]\n",
      " 4   Gross                    13493 non-null  float64       \n",
      " 5   InvoiceID                13493 non-null  object        \n",
      " 6   PointsEarned             13493 non-null  float64       \n",
      " 7   Variants.NettPrice       13493 non-null  float64       \n",
      " 8   Variants.DiscountAmount  13493 non-null  float64       \n",
      " 9   Variants.Discount        13493 non-null  float64       \n",
      " 10  Variants.PriceOriginal   13493 non-null  float64       \n",
      " 11  Variants.Price           13493 non-null  float64       \n",
      " 12  Variants.Cost            13493 non-null  float64       \n",
      " 13  Variants.Quantity        13493 non-null  float64       \n",
      " 14  Variants.Code            332 non-null    object        \n",
      " 15  Variants.Name            13493 non-null  object        \n",
      " 16  Payments.Note            543 non-null    object        \n",
      " 17  Payments.Code            53 non-null     object        \n",
      " 18  Payments.Method          13493 non-null  object        \n",
      " 19  Payments.Amount          13493 non-null  float64       \n",
      " 20  Payments.Date            13493 non-null  object        \n",
      " 21  hour                     13493 non-null  object        \n",
      " 22  minute                   13493 non-null  object        \n",
      " 23  year                     13493 non-null  object        \n",
      " 24  month                    13493 non-null  object        \n",
      " 25  day                      13493 non-null  object        \n",
      "dtypes: datetime64[ns](1), float64(10), int64(1), object(14)\n",
      "memory usage: 2.7+ MB\n"
     ]
    }
   ],
   "source": [
    "df.info()"
   ],
   "metadata": {
    "collapsed": false,
    "pycharm": {
     "name": "#%%\n"
    }
   }
  },
  {
   "cell_type": "markdown",
   "source": [
    "## Best month for sales?"
   ],
   "metadata": {
    "collapsed": false
   }
  },
  {
   "cell_type": "code",
   "execution_count": 14,
   "outputs": [],
   "source": [
    "df_2020 = df.loc[(df['year']=='2020')]\n",
    "monthly_sales_2020 = df_2020.groupby('month').sum()"
   ],
   "metadata": {
    "collapsed": false,
    "pycharm": {
     "name": "#%%\n"
    }
   }
  },
  {
   "cell_type": "code",
   "execution_count": 15,
   "outputs": [
    {
     "name": "stdout",
     "output_type": "stream",
     "text": [
      "<class 'pandas.core.frame.DataFrame'>\n",
      "Index: 11 entries, 02 to 12\n",
      "Data columns (total 11 columns):\n",
      " #   Column                   Non-Null Count  Dtype  \n",
      "---  ------                   --------------  -----  \n",
      " 0   index                    11 non-null     int64  \n",
      " 1   Gross                    11 non-null     float64\n",
      " 2   PointsEarned             11 non-null     float64\n",
      " 3   Variants.NettPrice       11 non-null     float64\n",
      " 4   Variants.DiscountAmount  11 non-null     float64\n",
      " 5   Variants.Discount        11 non-null     float64\n",
      " 6   Variants.PriceOriginal   11 non-null     float64\n",
      " 7   Variants.Price           11 non-null     float64\n",
      " 8   Variants.Cost            11 non-null     float64\n",
      " 9   Variants.Quantity        11 non-null     float64\n",
      " 10  Payments.Amount          11 non-null     float64\n",
      "dtypes: float64(10), int64(1)\n",
      "memory usage: 1.0+ KB\n"
     ]
    }
   ],
   "source": [
    "monthly_sales_2020.info()"
   ],
   "metadata": {
    "collapsed": false,
    "pycharm": {
     "name": "#%%\n"
    }
   }
  },
  {
   "cell_type": "code",
   "execution_count": 16,
   "outputs": [
    {
     "data": {
      "text/plain": "<Figure size 432x288 with 1 Axes>",
      "image/png": "[encoded data removed]"
     },
     "metadata": {
      "needs_background": "light"
     },
     "output_type": "display_data"
    }
   ],
   "source": [
    "months = range(2,13)\n",
    "plt.bar(months, monthly_sales_2020['Gross'])\n",
    "plt.xticks(months)\n",
    "plt.ylabel('sales in kes')\n",
    "plt.xlabel('month number')\n",
    "plt.show()"
   ],
   "metadata": {
    "collapsed": false,
    "pycharm": {
     "name": "#%%\n"
    }
   }
  },
  {
   "cell_type": "markdown",
   "source": [
    "## Best time of the day for sales"
   ],
   "metadata": {
    "collapsed": false
   }
  },
  {
   "cell_type": "code",
   "execution_count": 17,
   "outputs": [
    {
     "data": {
      "text/plain": "   index     Number                 Date             Created  Gross  \\\n0      0  20.02.002  2020-02-07T00:00:00 2020-02-07 22:52:00  200.0   \n1      1  20.02.003  2020-02-07T00:00:00 2020-02-07 22:53:00  400.0   \n2      2  20.02.004  2020-02-07T00:00:00 2020-02-07 22:53:00  100.0   \n3      3  20.02.005  2020-02-07T00:00:00 2020-02-07 23:05:00  380.0   \n4      3  20.02.005  2020-02-07T00:00:00 2020-02-07 23:05:00  380.0   \n\n                              InvoiceID  PointsEarned  Variants.NettPrice  \\\n0  a4f938d7-a234-49f9-9588-ea6dc1b547b2           0.0               200.0   \n1  89681b1f-21ab-4f0a-8780-3971de3f82b0           0.0               400.0   \n2  af594745-e964-4051-ae17-93b23b746743           0.0               100.0   \n3  a76090aa-9470-4ef5-8e38-59568d23bdae           0.0                80.0   \n4  a76090aa-9470-4ef5-8e38-59568d23bdae           0.0               300.0   \n\n   Variants.DiscountAmount  Variants.Discount  ...  Payments.Code  \\\n0                      0.0                0.0  ...           None   \n1                      0.0                0.0  ...           None   \n2                      0.0                0.0  ...           None   \n3                      0.0                0.0  ...           None   \n4                      0.0                0.0  ...           None   \n\n   Payments.Method  Payments.Amount        Payments.Date hour minute  year  \\\n0             Cash            200.0  2020-02-07T00:00:00   22     51  2020   \n1             Cash            400.0  2020-02-07T00:00:00   22     52  2020   \n2             Cash            100.0  2020-02-07T00:00:00   22     53  2020   \n3             Cash            380.0  2020-02-07T00:00:00   23     05  2020   \n4             Cash            380.0  2020-02-07T00:00:00   23     05  2020   \n\n  month day  Count  \n0    02  07      1  \n1    02  07      1  \n2    02  07      1  \n3    02  07      1  \n4    02  07      1  \n\n[5 rows x 27 columns]",
      "text/html": "<div>\n<style scoped>\n    .dataframe tbody tr th:only-of-type {\n        vertical-align: middle;\n    }\n\n    .dataframe tbody tr th {\n        vertical-align: top;\n    }\n\n    .dataframe thead th {\n        text-align: right;\n    }\n</style>\n<table border=\"1\" class=\"dataframe\">\n  <thead>\n    <tr style=\"text-align: right;\">\n      <th></th>\n      <th>index</th>\n      <th>Number</th>\n      <th>Date</th>\n      <th>Created</th>\n      <th>Gross</th>\n      <th>InvoiceID</th>\n      <th>PointsEarned</th>\n      <th>Variants.NettPrice</th>\n      <th>Variants.DiscountAmount</th>\n      <th>Variants.Discount</th>\n      <th>...</th>\n      <th>Payments.Code</th>\n      <th>Payments.Method</th>\n      <th>Payments.Amount</th>\n      <th>Payments.Date</th>\n      <th>hour</th>\n      <th>minute</th>\n      <th>year</th>\n      <th>month</th>\n      <th>day</th>\n      <th>Count</th>\n    </tr>\n  </thead>\n  <tbody>\n    <tr>\n      <th>0</th>\n      <td>0</td>\n      <td>20.02.002</td>\n      <td>2020-02-07T00:00:00</td>\n      <td>2020-02-07 22:52:00</td>\n      <td>200.0</td>\n      <td>a4f938d7-a234-49f9-9588-ea6dc1b547b2</td>\n      <td>0.0</td>\n      <td>200.0</td>\n      <td>0.0</td>\n      <td>0.0</td>\n      <td>...</td>\n      <td>None</td>\n      <td>Cash</td>\n      <td>200.0</td>\n      <td>2020-02-07T00:00:00</td>\n      <td>22</td>\n      <td>51</td>\n      <td>2020</td>\n      <td>02</td>\n      <td>07</td>\n      <td>1</td>\n    </tr>\n    <tr>\n      <th>1</th>\n      <td>1</td>\n      <td>20.02.003</td>\n      <td>2020-02-07T00:00:00</td>\n      <td>2020-02-07 22:53:00</td>\n      <td>400.0</td>\n      <td>89681b1f-21ab-4f0a-8780-3971de3f82b0</td>\n      <td>0.0</td>\n      <td>400.0</td>\n      <td>0.0</td>\n      <td>0.0</td>\n      <td>...</td>\n      <td>None</td>\n      <td>Cash</td>\n      <td>400.0</td>\n      <td>2020-02-07T00:00:00</td>\n      <td>22</td>\n      <td>52</td>\n      <td>2020</td>\n      <td>02</td>\n      <td>07</td>\n      <td>1</td>\n    </tr>\n    <tr>\n      <th>2</th>\n      <td>2</td>\n      <td>20.02.004</td>\n      <td>2020-02-07T00:00:00</td>\n      <td>2020-02-07 22:53:00</td>\n      <td>100.0</td>\n      <td>af594745-e964-4051-ae17-93b23b746743</td>\n      <td>0.0</td>\n      <td>100.0</td>\n      <td>0.0</td>\n      <td>0.0</td>\n      <td>...</td>\n      <td>None</td>\n      <td>Cash</td>\n      <td>100.0</td>\n      <td>2020-02-07T00:00:00</td>\n      <td>22</td>\n      <td>53</td>\n      <td>2020</td>\n      <td>02</td>\n      <td>07</td>\n      <td>1</td>\n    </tr>\n    <tr>\n      <th>3</th>\n      <td>3</td>\n      <td>20.02.005</td>\n      <td>2020-02-07T00:00:00</td>\n      <td>2020-02-07 23:05:00</td>\n      <td>380.0</td>\n      <td>a76090aa-9470-4ef5-8e38-59568d23bdae</td>\n      <td>0.0</td>\n      <td>80.0</td>\n      <td>0.0</td>\n      <td>0.0</td>\n      <td>...</td>\n      <td>None</td>\n      <td>Cash</td>\n      <td>380.0</td>\n      <td>2020-02-07T00:00:00</td>\n      <td>23</td>\n      <td>05</td>\n      <td>2020</td>\n      <td>02</td>\n      <td>07</td>\n      <td>1</td>\n    </tr>\n    <tr>\n      <th>4</th>\n      <td>3</td>\n      <td>20.02.005</td>\n      <td>2020-02-07T00:00:00</td>\n      <td>2020-02-07 23:05:00</td>\n      <td>380.0</td>\n      <td>a76090aa-9470-4ef5-8e38-59568d23bdae</td>\n      <td>0.0</td>\n      <td>300.0</td>\n      <td>0.0</td>\n      <td>0.0</td>\n      <td>...</td>\n      <td>None</td>\n      <td>Cash</td>\n      <td>380.0</td>\n      <td>2020-02-07T00:00:00</td>\n      <td>23</td>\n      <td>05</td>\n      <td>2020</td>\n      <td>02</td>\n      <td>07</td>\n      <td>1</td>\n    </tr>\n  </tbody>\n</table>\n<p>5 rows × 27 columns</p>\n</div>"
     },
     "execution_count": 17,
     "metadata": {},
     "output_type": "execute_result"
    }
   ],
   "source": [
    "df['Count'] = 1\n",
    "df.head()"
   ],
   "metadata": {
    "collapsed": false,
    "pycharm": {
     "name": "#%%\n"
    }
   }
  },
  {
   "cell_type": "code",
   "execution_count": 18,
   "outputs": [
    {
     "data": {
      "text/plain": "hour\n00     356\n01       6\n13       5\n14     121\n15     574\n16    1020\n17    1412\n18    1553\n19    1478\n20    1524\n21    1894\n22    1875\n23    1675\nName: Count, dtype: int64"
     },
     "execution_count": 18,
     "metadata": {},
     "output_type": "execute_result"
    }
   ],
   "source": [
    "df.groupby(['hour']).count()['Count']"
   ],
   "metadata": {
    "collapsed": false,
    "pycharm": {
     "name": "#%%\n"
    }
   }
  },
  {
   "cell_type": "code",
   "source": [
    "keys = [pair for pair, df in df.groupby(['hour'])]\n",
    "plt.figure(figsize=(15,8))\n",
    "plt.plot(keys, df.groupby(['hour']).count()['Count'])\n",
    "plt.xticks(keys)\n",
    "plt.grid()\n",
    "plt.show()"
   ],
   "metadata": {
    "collapsed": false,
    "pycharm": {
     "name": "#%%\n"
    }
   },
   "execution_count": 19,
   "outputs": [
    {
     "data": {
      "text/plain": "<Figure size 1080x576 with 1 Axes>",
      "image/png": "[encoded data removed]"
     },
     "metadata": {
      "needs_background": "light"
     },
     "output_type": "display_data"
    }
   ]
  },
  {
   "cell_type": "markdown",
   "source": [
    "## Best-selling items"
   ],
   "metadata": {
    "collapsed": false,
    "pycharm": {
     "name": "#%% md\n"
    }
   }
  },
  {
   "cell_type": "code",
   "execution_count": 20,
   "outputs": [
    {
     "data": {
      "text/plain": "                                    index     Gross  PointsEarned  \\\nVariants.Name                                                       \n32 inch Synix Digital                 317   13000.0           0.0   \n32 inch Synix SMART                   937   16700.0           0.0   \n79519 Black Official Shoes LIAO      6087    9639.0           0.0   \n963 LIAO shoes Official Men shoes    7748    7149.0           0.0   \nAMAYA truael Charger                  486     250.0           0.0   \n...                                   ...       ...           ...   \nschool shoes n.5,6,7 950             1952     950.0           0.0   \nskinny jeans                        31686   21430.0           0.0   \nsocks                              433401  109788.0          18.0   \nvans                                41251   29210.0           0.0   \nvelvet wear                         59014   24320.0           0.0   \n\n                                   Variants.NettPrice  \\\nVariants.Name                                           \n32 inch Synix Digital                         13000.0   \n32 inch Synix SMART                           16700.0   \n79519 Black Official Shoes LIAO                7941.0   \n963 LIAO shoes Official Men shoes              6699.0   \nAMAYA truael Charger                            150.0   \n...                                               ...   \nschool shoes n.5,6,7 950                        950.0   \nskinny jeans                                  16470.0   \nsocks                                         22840.0   \nvans                                          23080.0   \nvelvet wear                                   11362.0   \n\n                                   Variants.DiscountAmount  Variants.Discount  \\\nVariants.Name                                                                   \n32 inch Synix Digital                                  0.0                0.0   \n32 inch Synix SMART                                    0.0                0.0   \n79519 Black Official Shoes LIAO                        0.0                0.0   \n963 LIAO shoes Official Men shoes                      0.0                0.0   \nAMAYA truael Charger                                   0.0                0.0   \n...                                                    ...                ...   \nschool shoes n.5,6,7 950                               0.0                0.0   \nskinny jeans                                           0.0                0.0   \nsocks                                                  0.0                0.0   \nvans                                                   0.0               20.0   \nvelvet wear                                            0.0               20.0   \n\n                                   Variants.PriceOriginal  Variants.Price  \\\nVariants.Name                                                               \n32 inch Synix Digital                             13800.0         13000.0   \n32 inch Synix SMART                               16700.0         16700.0   \n79519 Black Official Shoes LIAO                    2300.0          6941.0   \n963 LIAO shoes Official Men shoes                  7140.0          6699.0   \nAMAYA truael Charger                                200.0           150.0   \n...                                                   ...             ...   \nschool shoes n.5,6,7 950                            950.0           950.0   \nskinny jeans                                      13650.0          9650.0   \nsocks                                             10590.0          9840.0   \nvans                                              17000.0         20500.0   \nvelvet wear                                        6120.0          5050.0   \n\n                                   Variants.Cost  Variants.Quantity  \\\nVariants.Name                                                         \n32 inch Synix Digital                    10800.0                1.0   \n32 inch Synix SMART                      13700.0                1.0   \n79519 Black Official Shoes LIAO           6300.0                8.0   \n963 LIAO shoes Official Men shoes         6300.0                7.0   \nAMAYA truael Charger                       100.0                1.0   \n...                                          ...                ...   \nschool shoes n.5,6,7 950                   760.0                1.0   \nskinny jeans                              6825.0               64.0   \nsocks                                     4942.0              804.0   \nvans                                     13600.0               38.0   \nvelvet wear                               2040.0               74.0   \n\n                                   Payments.Amount  Count  \nVariants.Name                                              \n32 inch Synix Digital                      13000.0      1  \n32 inch Synix SMART                        14700.0      1  \n79519 Black Official Shoes LIAO             9639.0      7  \n963 LIAO shoes Official Men shoes           7149.0      7  \nAMAYA truael Charger                         250.0      1  \n...                                            ...    ...  \nschool shoes n.5,6,7 950                     950.0      1  \nskinny jeans                               21370.0     39  \nsocks                                     108628.0    353  \nvans                                       29070.0     34  \nvelvet wear                                23828.0     34  \n\n[260 rows x 12 columns]",
      "text/html": "<div>\n<style scoped>\n    .dataframe tbody tr th:only-of-type {\n        vertical-align: middle;\n    }\n\n    .dataframe tbody tr th {\n        vertical-align: top;\n    }\n\n    .dataframe thead th {\n        text-align: right;\n    }\n</style>\n<table border=\"1\" class=\"dataframe\">\n  <thead>\n    <tr style=\"text-align: right;\">\n      <th></th>\n      <th>index</th>\n      <th>Gross</th>\n      <th>PointsEarned</th>\n      <th>Variants.NettPrice</th>\n      <th>Variants.DiscountAmount</th>\n      <th>Variants.Discount</th>\n      <th>Variants.PriceOriginal</th>\n      <th>Variants.Price</th>\n      <th>Variants.Cost</th>\n      <th>Variants.Quantity</th>\n      <th>Payments.Amount</th>\n      <th>Count</th>\n    </tr>\n    <tr>\n      <th>Variants.Name</th>\n      <th></th>\n      <th></th>\n      <th></th>\n      <th></th>\n      <th></th>\n      <th></th>\n      <th></th>\n      <th></th>\n      <th></th>\n      <th></th>\n      <th></th>\n      <th></th>\n    </tr>\n  </thead>\n  <tbody>\n    <tr>\n      <th>32 inch Synix Digital</th>\n      <td>317</td>\n      <td>13000.0</td>\n      <td>0.0</td>\n      <td>13000.0</td>\n      <td>0.0</td>\n      <td>0.0</td>\n      <td>13800.0</td>\n      <td>13000.0</td>\n      <td>10800.0</td>\n      <td>1.0</td>\n      <td>13000.0</td>\n      <td>1</td>\n    </tr>\n    <tr>\n      <th>32 inch Synix SMART</th>\n      <td>937</td>\n      <td>16700.0</td>\n      <td>0.0</td>\n      <td>16700.0</td>\n      <td>0.0</td>\n      <td>0.0</td>\n      <td>16700.0</td>\n      <td>16700.0</td>\n      <td>13700.0</td>\n      <td>1.0</td>\n      <td>14700.0</td>\n      <td>1</td>\n    </tr>\n    <tr>\n      <th>79519 Black Official Shoes LIAO</th>\n      <td>6087</td>\n      <td>9639.0</td>\n      <td>0.0</td>\n      <td>7941.0</td>\n      <td>0.0</td>\n      <td>0.0</td>\n      <td>2300.0</td>\n      <td>6941.0</td>\n      <td>6300.0</td>\n      <td>8.0</td>\n      <td>9639.0</td>\n      <td>7</td>\n    </tr>\n    <tr>\n      <th>963 LIAO shoes Official Men shoes</th>\n      <td>7748</td>\n      <td>7149.0</td>\n      <td>0.0</td>\n      <td>6699.0</td>\n      <td>0.0</td>\n      <td>0.0</td>\n      <td>7140.0</td>\n      <td>6699.0</td>\n      <td>6300.0</td>\n      <td>7.0</td>\n      <td>7149.0</td>\n      <td>7</td>\n    </tr>\n    <tr>\n      <th>AMAYA truael Charger</th>\n      <td>486</td>\n      <td>250.0</td>\n      <td>0.0</td>\n      <td>150.0</td>\n      <td>0.0</td>\n      <td>0.0</td>\n      <td>200.0</td>\n      <td>150.0</td>\n      <td>100.0</td>\n      <td>1.0</td>\n      <td>250.0</td>\n      <td>1</td>\n    </tr>\n    <tr>\n      <th>...</th>\n      <td>...</td>\n      <td>...</td>\n      <td>...</td>\n      <td>...</td>\n      <td>...</td>\n      <td>...</td>\n      <td>...</td>\n      <td>...</td>\n      <td>...</td>\n      <td>...</td>\n      <td>...</td>\n      <td>...</td>\n    </tr>\n    <tr>\n      <th>school shoes n.5,6,7 950</th>\n      <td>1952</td>\n      <td>950.0</td>\n      <td>0.0</td>\n      <td>950.0</td>\n      <td>0.0</td>\n      <td>0.0</td>\n      <td>950.0</td>\n      <td>950.0</td>\n      <td>760.0</td>\n      <td>1.0</td>\n      <td>950.0</td>\n      <td>1</td>\n    </tr>\n    <tr>\n      <th>skinny jeans</th>\n      <td>31686</td>\n      <td>21430.0</td>\n      <td>0.0</td>\n      <td>16470.0</td>\n      <td>0.0</td>\n      <td>0.0</td>\n      <td>13650.0</td>\n      <td>9650.0</td>\n      <td>6825.0</td>\n      <td>64.0</td>\n      <td>21370.0</td>\n      <td>39</td>\n    </tr>\n    <tr>\n      <th>socks</th>\n      <td>433401</td>\n      <td>109788.0</td>\n      <td>18.0</td>\n      <td>22840.0</td>\n      <td>0.0</td>\n      <td>0.0</td>\n      <td>10590.0</td>\n      <td>9840.0</td>\n      <td>4942.0</td>\n      <td>804.0</td>\n      <td>108628.0</td>\n      <td>353</td>\n    </tr>\n    <tr>\n      <th>vans</th>\n      <td>41251</td>\n      <td>29210.0</td>\n      <td>0.0</td>\n      <td>23080.0</td>\n      <td>0.0</td>\n      <td>20.0</td>\n      <td>17000.0</td>\n      <td>20500.0</td>\n      <td>13600.0</td>\n      <td>38.0</td>\n      <td>29070.0</td>\n      <td>34</td>\n    </tr>\n    <tr>\n      <th>velvet wear</th>\n      <td>59014</td>\n      <td>24320.0</td>\n      <td>0.0</td>\n      <td>11362.0</td>\n      <td>0.0</td>\n      <td>20.0</td>\n      <td>6120.0</td>\n      <td>5050.0</td>\n      <td>2040.0</td>\n      <td>74.0</td>\n      <td>23828.0</td>\n      <td>34</td>\n    </tr>\n  </tbody>\n</table>\n<p>260 rows × 12 columns</p>\n</div>"
     },
     "execution_count": 20,
     "metadata": {},
     "output_type": "execute_result"
    }
   ],
   "source": [
    "product_group = df.groupby('Variants.Name')\n",
    "product_group.sum()"
   ],
   "metadata": {
    "collapsed": false,
    "pycharm": {
     "name": "#%%\n"
    }
   }
  },
  {
   "cell_type": "code",
   "execution_count": 21,
   "outputs": [
    {
     "data": {
      "text/plain": "                          Variants.Quantity  Variants.NettPrice\nVariants.Name                                                  \nFagia                                1258.0             24880.0\nsocks                                 804.0             22840.0\nChiffon Tops Long Sleeve              655.0             46151.0\nStockings                             570.0             16200.0\nNewborns                              481.0             27990.0\n...                                     ...                 ...\nLED HD  tv                              1.0              3000.0\nKids Bike FMK                           1.0              2200.0\nSynix Smart TV 43 inch                  1.0             26000.0\nToddler Shoes 650                       1.0               400.0\n32 inch Synix Digital                   1.0             13000.0\n\n[260 rows x 2 columns]",
      "text/html": "<div>\n<style scoped>\n    .dataframe tbody tr th:only-of-type {\n        vertical-align: middle;\n    }\n\n    .dataframe tbody tr th {\n        vertical-align: top;\n    }\n\n    .dataframe thead th {\n        text-align: right;\n    }\n</style>\n<table border=\"1\" class=\"dataframe\">\n  <thead>\n    <tr style=\"text-align: right;\">\n      <th></th>\n      <th>Variants.Quantity</th>\n      <th>Variants.NettPrice</th>\n    </tr>\n    <tr>\n      <th>Variants.Name</th>\n      <th></th>\n      <th></th>\n    </tr>\n  </thead>\n  <tbody>\n    <tr>\n      <th>Fagia</th>\n      <td>1258.0</td>\n      <td>24880.0</td>\n    </tr>\n    <tr>\n      <th>socks</th>\n      <td>804.0</td>\n      <td>22840.0</td>\n    </tr>\n    <tr>\n      <th>Chiffon Tops Long Sleeve</th>\n      <td>655.0</td>\n      <td>46151.0</td>\n    </tr>\n    <tr>\n      <th>Stockings</th>\n      <td>570.0</td>\n      <td>16200.0</td>\n    </tr>\n    <tr>\n      <th>Newborns</th>\n      <td>481.0</td>\n      <td>27990.0</td>\n    </tr>\n    <tr>\n      <th>...</th>\n      <td>...</td>\n      <td>...</td>\n    </tr>\n    <tr>\n      <th>LED HD  tv</th>\n      <td>1.0</td>\n      <td>3000.0</td>\n    </tr>\n    <tr>\n      <th>Kids Bike FMK</th>\n      <td>1.0</td>\n      <td>2200.0</td>\n    </tr>\n    <tr>\n      <th>Synix Smart TV 43 inch</th>\n      <td>1.0</td>\n      <td>26000.0</td>\n    </tr>\n    <tr>\n      <th>Toddler Shoes 650</th>\n      <td>1.0</td>\n      <td>400.0</td>\n    </tr>\n    <tr>\n      <th>32 inch Synix Digital</th>\n      <td>1.0</td>\n      <td>13000.0</td>\n    </tr>\n  </tbody>\n</table>\n<p>260 rows × 2 columns</p>\n</div>"
     },
     "execution_count": 21,
     "metadata": {},
     "output_type": "execute_result"
    }
   ],
   "source": [
    "quantity_sold = product_group.sum().sort_values(by='Variants.Quantity', ascending=False)[['Variants.Quantity', 'Variants.NettPrice']]\n",
    "quantity_sold"
   ],
   "metadata": {
    "collapsed": false,
    "pycharm": {
     "name": "#%%\n"
    }
   }
  },
  {
   "cell_type": "code",
   "execution_count": 22,
   "outputs": [
    {
     "data": {
      "text/plain": "                          Variants.Quantity  Variants.NettPrice    Item.Price\nVariants.Name                                                                \nFagia                                1258.0             24880.0     19.777424\nsocks                                 804.0             22840.0     28.407960\nChiffon Tops Long Sleeve              655.0             46151.0     70.459542\nStockings                             570.0             16200.0     28.421053\nNewborns                              481.0             27990.0     58.191268\n...                                     ...                 ...           ...\nLED HD  tv                              1.0              3000.0   3000.000000\nKids Bike FMK                           1.0              2200.0   2200.000000\nSynix Smart TV 43 inch                  1.0             26000.0  26000.000000\nToddler Shoes 650                       1.0               400.0    400.000000\n32 inch Synix Digital                   1.0             13000.0  13000.000000\n\n[260 rows x 3 columns]",
      "text/html": "<div>\n<style scoped>\n    .dataframe tbody tr th:only-of-type {\n        vertical-align: middle;\n    }\n\n    .dataframe tbody tr th {\n        vertical-align: top;\n    }\n\n    .dataframe thead th {\n        text-align: right;\n    }\n</style>\n<table border=\"1\" class=\"dataframe\">\n  <thead>\n    <tr style=\"text-align: right;\">\n      <th></th>\n      <th>Variants.Quantity</th>\n      <th>Variants.NettPrice</th>\n      <th>Item.Price</th>\n    </tr>\n    <tr>\n      <th>Variants.Name</th>\n      <th></th>\n      <th></th>\n      <th></th>\n    </tr>\n  </thead>\n  <tbody>\n    <tr>\n      <th>Fagia</th>\n      <td>1258.0</td>\n      <td>24880.0</td>\n      <td>19.777424</td>\n    </tr>\n    <tr>\n      <th>socks</th>\n      <td>804.0</td>\n      <td>22840.0</td>\n      <td>28.407960</td>\n    </tr>\n    <tr>\n      <th>Chiffon Tops Long Sleeve</th>\n      <td>655.0</td>\n      <td>46151.0</td>\n      <td>70.459542</td>\n    </tr>\n    <tr>\n      <th>Stockings</th>\n      <td>570.0</td>\n      <td>16200.0</td>\n      <td>28.421053</td>\n    </tr>\n    <tr>\n      <th>Newborns</th>\n      <td>481.0</td>\n      <td>27990.0</td>\n      <td>58.191268</td>\n    </tr>\n    <tr>\n      <th>...</th>\n      <td>...</td>\n      <td>...</td>\n      <td>...</td>\n    </tr>\n    <tr>\n      <th>LED HD  tv</th>\n      <td>1.0</td>\n      <td>3000.0</td>\n      <td>3000.000000</td>\n    </tr>\n    <tr>\n      <th>Kids Bike FMK</th>\n      <td>1.0</td>\n      <td>2200.0</td>\n      <td>2200.000000</td>\n    </tr>\n    <tr>\n      <th>Synix Smart TV 43 inch</th>\n      <td>1.0</td>\n      <td>26000.0</td>\n      <td>26000.000000</td>\n    </tr>\n    <tr>\n      <th>Toddler Shoes 650</th>\n      <td>1.0</td>\n      <td>400.0</td>\n      <td>400.000000</td>\n    </tr>\n    <tr>\n      <th>32 inch Synix Digital</th>\n      <td>1.0</td>\n      <td>13000.0</td>\n      <td>13000.000000</td>\n    </tr>\n  </tbody>\n</table>\n<p>260 rows × 3 columns</p>\n</div>"
     },
     "execution_count": 22,
     "metadata": {},
     "output_type": "execute_result"
    }
   ],
   "source": [
    "quantity_sold['Item.Price'] = quantity_sold['Variants.NettPrice'] / quantity_sold['Variants.Quantity']\n",
    "\n",
    "quantity_sold"
   ],
   "metadata": {
    "collapsed": false,
    "pycharm": {
     "name": "#%%\n"
    }
   }
  },
  {
   "cell_type": "code",
   "execution_count": 23,
   "outputs": [
    {
     "data": {
      "text/plain": "<function matplotlib.pyplot.show(close=None, block=None)>"
     },
     "execution_count": 23,
     "metadata": {},
     "output_type": "execute_result"
    },
    {
     "data": {
      "text/plain": "<Figure size 432x288 with 1 Axes>",
      "image/png": "[encoded data removed]"
     },
     "metadata": {
      "needs_background": "light"
     },
     "output_type": "display_data"
    }
   ],
   "source": [
    "products = [product for product, df in product_group]\n",
    "top_products = quantity_sold.index[:20]\n",
    "top_quantity = quantity_sold.iloc[:20]['Variants.Quantity']\n",
    "plt.bar(top_products, top_quantity)\n",
    "plt.xticks(top_products, rotation='vertical', size=8)\n",
    "plt.show"
   ],
   "metadata": {
    "collapsed": false,
    "pycharm": {
     "name": "#%%\n"
    }
   }
  },
  {
   "cell_type": "code",
   "execution_count": 24,
   "outputs": [
    {
     "data": {
      "text/plain": "Variants.Name\n32 inch Synix Digital                13000.000000\n32 inch Synix SMART                  16700.000000\n79519 Black Official Shoes LIAO       1134.428571\n963 LIAO shoes Official Men shoes      957.000000\nAMAYA truael Charger                   150.000000\nAdult Hoodies Jumper                   153.600000\nAir Fornce                             430.000000\nAmaya USB Data Cable                   133.333333\nArmy Platdon Metal Model              1600.000000\nBaby Carrier                          1000.000000\nBaby Fleece Blankets                   650.000000\nBaby Jacket Lisa                       162.500000\nBaby Shawl Heavy                       800.000000\nBaby Shawl Heavy NN 1000               810.000000\nBaby Shawl Light                       350.000000\nBaby Sheets 200                        375.000000\nBaby Skipping Rope                      50.000000\nBaby Socks                             137.500000\nBaby Toy Jigglers Advanced              38.333333\nBaby Toy Jigglers(guitar,insect)        30.000000\nName: Variants.NettPrice, dtype: float64"
     },
     "execution_count": 24,
     "metadata": {},
     "output_type": "execute_result"
    }
   ],
   "source": [
    "prices = df.groupby('Variants.Name').mean()['Variants.NettPrice'].iloc[0:20]\n",
    "prices"
   ],
   "metadata": {
    "collapsed": false,
    "pycharm": {
     "name": "#%%\n"
    }
   }
  },
  {
   "cell_type": "markdown",
   "source": [
    "This is a list of the top 20 most sold items at the store"
   ],
   "metadata": {
    "collapsed": false,
    "pycharm": {
     "name": "#%% md\n"
    }
   }
  },
  {
   "cell_type": "code",
   "execution_count": 25,
   "outputs": [
    {
     "name": "stderr",
     "output_type": "stream",
     "text": [
      "<ipython-input-25-f9e4a28ec98f>:9: UserWarning: FixedFormatter should only be used together with FixedLocator\n",
      "  ax1.set_xticklabels(top_products, rotation='vertical', size=8)\n",
      "<ipython-input-25-f9e4a28ec98f>:11: UserWarning: Matplotlib is currently using module://ipykernel.pylab.backend_inline, which is a non-GUI backend, so cannot show the figure.\n",
      "  fig.show()\n"
     ]
    },
    {
     "data": {
      "text/plain": "<Figure size 432x288 with 2 Axes>",
      "image/png": "[encoded data removed]"
     },
     "metadata": {
      "needs_background": "light"
     },
     "output_type": "display_data"
    }
   ],
   "source": [
    "fig, ax1 = plt.subplots()\n",
    "ax2 = ax1.twinx()\n",
    "ax1.bar(top_products, top_quantity)\n",
    "ax2.plot(top_products, prices, color='b')\n",
    "\n",
    "ax1.set_xlabel('Product Name')\n",
    "ax1.set_ylabel('Quantity Ordered', color='g')\n",
    "ax2.set_ylabel('Price in KES', color='b')\n",
    "ax1.set_xticklabels(top_products, rotation='vertical', size=8)\n",
    "\n",
    "fig.show()"
   ],
   "metadata": {
    "collapsed": false,
    "pycharm": {
     "name": "#%%\n"
    }
   }
  },
  {
   "cell_type": "markdown",
   "source": [
    "## What items are sold together?"
   ],
   "metadata": {
    "collapsed": false
   }
  },
  {
   "cell_type": "code",
   "execution_count": 26,
   "outputs": [
    {
     "data": {
      "text/plain": "   index     Number                 Date             Created  Gross  \\\n3      3  20.02.005  2020-02-07T00:00:00 2020-02-07 23:05:00  380.0   \n4      3  20.02.005  2020-02-07T00:00:00 2020-02-07 23:05:00  380.0   \n6      5  20.02.007  2020-02-07T00:00:00 2020-02-07 23:44:00  300.0   \n7      5  20.02.007  2020-02-07T00:00:00 2020-02-07 23:44:00  300.0   \n9      7  20.02.009  2020-02-07T00:00:00 2020-02-08 00:05:00  200.0   \n\n                              InvoiceID  PointsEarned  Variants.NettPrice  \\\n3  a76090aa-9470-4ef5-8e38-59568d23bdae           0.0                80.0   \n4  a76090aa-9470-4ef5-8e38-59568d23bdae           0.0               300.0   \n6  221f4b98-a733-477d-900c-82ea73a0d45e           0.0               100.0   \n7  221f4b98-a733-477d-900c-82ea73a0d45e           0.0               200.0   \n9  e0421c3e-7a48-4db1-80ee-d4f848e9839b           0.0               100.0   \n\n   Variants.DiscountAmount  Variants.Discount  ...  Payments.Code  \\\n3                      0.0                0.0  ...           None   \n4                      0.0                0.0  ...           None   \n6                      0.0                0.0  ...           None   \n7                      0.0                0.0  ...           None   \n9                      0.0                0.0  ...           None   \n\n   Payments.Method  Payments.Amount        Payments.Date hour minute  year  \\\n3             Cash            380.0  2020-02-07T00:00:00   23     05  2020   \n4             Cash            380.0  2020-02-07T00:00:00   23     05  2020   \n6             Cash            300.0  2020-02-07T00:00:00   23     44  2020   \n7             Cash            300.0  2020-02-07T00:00:00   23     44  2020   \n9             Cash            200.0  2020-02-07T00:00:00   00     05  2020   \n\n  month day  Count  \n3    02  07      1  \n4    02  07      1  \n6    02  07      1  \n7    02  07      1  \n9    02  08      1  \n\n[5 rows x 27 columns]",
      "text/html": "<div>\n<style scoped>\n    .dataframe tbody tr th:only-of-type {\n        vertical-align: middle;\n    }\n\n    .dataframe tbody tr th {\n        vertical-align: top;\n    }\n\n    .dataframe thead th {\n        text-align: right;\n    }\n</style>\n<table border=\"1\" class=\"dataframe\">\n  <thead>\n    <tr style=\"text-align: right;\">\n      <th></th>\n      <th>index</th>\n      <th>Number</th>\n      <th>Date</th>\n      <th>Created</th>\n      <th>Gross</th>\n      <th>InvoiceID</th>\n      <th>PointsEarned</th>\n      <th>Variants.NettPrice</th>\n      <th>Variants.DiscountAmount</th>\n      <th>Variants.Discount</th>\n      <th>...</th>\n      <th>Payments.Code</th>\n      <th>Payments.Method</th>\n      <th>Payments.Amount</th>\n      <th>Payments.Date</th>\n      <th>hour</th>\n      <th>minute</th>\n      <th>year</th>\n      <th>month</th>\n      <th>day</th>\n      <th>Count</th>\n    </tr>\n  </thead>\n  <tbody>\n    <tr>\n      <th>3</th>\n      <td>3</td>\n      <td>20.02.005</td>\n      <td>2020-02-07T00:00:00</td>\n      <td>2020-02-07 23:05:00</td>\n      <td>380.0</td>\n      <td>a76090aa-9470-4ef5-8e38-59568d23bdae</td>\n      <td>0.0</td>\n      <td>80.0</td>\n      <td>0.0</td>\n      <td>0.0</td>\n      <td>...</td>\n      <td>None</td>\n      <td>Cash</td>\n      <td>380.0</td>\n      <td>2020-02-07T00:00:00</td>\n      <td>23</td>\n      <td>05</td>\n      <td>2020</td>\n      <td>02</td>\n      <td>07</td>\n      <td>1</td>\n    </tr>\n    <tr>\n      <th>4</th>\n      <td>3</td>\n      <td>20.02.005</td>\n      <td>2020-02-07T00:00:00</td>\n      <td>2020-02-07 23:05:00</td>\n      <td>380.0</td>\n      <td>a76090aa-9470-4ef5-8e38-59568d23bdae</td>\n      <td>0.0</td>\n      <td>300.0</td>\n      <td>0.0</td>\n      <td>0.0</td>\n      <td>...</td>\n      <td>None</td>\n      <td>Cash</td>\n      <td>380.0</td>\n      <td>2020-02-07T00:00:00</td>\n      <td>23</td>\n      <td>05</td>\n      <td>2020</td>\n      <td>02</td>\n      <td>07</td>\n      <td>1</td>\n    </tr>\n    <tr>\n      <th>6</th>\n      <td>5</td>\n      <td>20.02.007</td>\n      <td>2020-02-07T00:00:00</td>\n      <td>2020-02-07 23:44:00</td>\n      <td>300.0</td>\n      <td>221f4b98-a733-477d-900c-82ea73a0d45e</td>\n      <td>0.0</td>\n      <td>100.0</td>\n      <td>0.0</td>\n      <td>0.0</td>\n      <td>...</td>\n      <td>None</td>\n      <td>Cash</td>\n      <td>300.0</td>\n      <td>2020-02-07T00:00:00</td>\n      <td>23</td>\n      <td>44</td>\n      <td>2020</td>\n      <td>02</td>\n      <td>07</td>\n      <td>1</td>\n    </tr>\n    <tr>\n      <th>7</th>\n      <td>5</td>\n      <td>20.02.007</td>\n      <td>2020-02-07T00:00:00</td>\n      <td>2020-02-07 23:44:00</td>\n      <td>300.0</td>\n      <td>221f4b98-a733-477d-900c-82ea73a0d45e</td>\n      <td>0.0</td>\n      <td>200.0</td>\n      <td>0.0</td>\n      <td>0.0</td>\n      <td>...</td>\n      <td>None</td>\n      <td>Cash</td>\n      <td>300.0</td>\n      <td>2020-02-07T00:00:00</td>\n      <td>23</td>\n      <td>44</td>\n      <td>2020</td>\n      <td>02</td>\n      <td>07</td>\n      <td>1</td>\n    </tr>\n    <tr>\n      <th>9</th>\n      <td>7</td>\n      <td>20.02.009</td>\n      <td>2020-02-07T00:00:00</td>\n      <td>2020-02-08 00:05:00</td>\n      <td>200.0</td>\n      <td>e0421c3e-7a48-4db1-80ee-d4f848e9839b</td>\n      <td>0.0</td>\n      <td>100.0</td>\n      <td>0.0</td>\n      <td>0.0</td>\n      <td>...</td>\n      <td>None</td>\n      <td>Cash</td>\n      <td>200.0</td>\n      <td>2020-02-07T00:00:00</td>\n      <td>00</td>\n      <td>05</td>\n      <td>2020</td>\n      <td>02</td>\n      <td>08</td>\n      <td>1</td>\n    </tr>\n  </tbody>\n</table>\n<p>5 rows × 27 columns</p>\n</div>"
     },
     "execution_count": 26,
     "metadata": {},
     "output_type": "execute_result"
    }
   ],
   "source": [
    "df_dup = df[df['Number'].duplicated(keep=False)]\n",
    "df_dup.head()"
   ],
   "metadata": {
    "collapsed": false,
    "pycharm": {
     "name": "#%%\n"
    }
   }
  },
  {
   "cell_type": "code",
   "execution_count": 27,
   "outputs": [
    {
     "name": "stderr",
     "output_type": "stream",
     "text": [
      "<ipython-input-27-282658f01a70>:1: SettingWithCopyWarning: \n",
      "A value is trying to be set on a copy of a slice from a DataFrame.\n",
      "Try using .loc[row_indexer,col_indexer] = value instead\n",
      "\n",
      "See the caveats in the documentation: https://pandas.pydata.org/pandas-docs/stable/user_guide/indexing.html#returning-a-view-versus-a-copy\n",
      "  df_dup['Items.Grouped'] = df_dup.groupby('Number')['Variants.Name'].transform(lambda x: ', '.join(x))\n"
     ]
    },
    {
     "data": {
      "text/plain": "   index     Number                 Date             Created  Gross  \\\n3      3  20.02.005  2020-02-07T00:00:00 2020-02-07 23:05:00  380.0   \n4      3  20.02.005  2020-02-07T00:00:00 2020-02-07 23:05:00  380.0   \n6      5  20.02.007  2020-02-07T00:00:00 2020-02-07 23:44:00  300.0   \n7      5  20.02.007  2020-02-07T00:00:00 2020-02-07 23:44:00  300.0   \n9      7  20.02.009  2020-02-07T00:00:00 2020-02-08 00:05:00  200.0   \n\n                              InvoiceID  PointsEarned  Variants.NettPrice  \\\n3  a76090aa-9470-4ef5-8e38-59568d23bdae           0.0                80.0   \n4  a76090aa-9470-4ef5-8e38-59568d23bdae           0.0               300.0   \n6  221f4b98-a733-477d-900c-82ea73a0d45e           0.0               100.0   \n7  221f4b98-a733-477d-900c-82ea73a0d45e           0.0               200.0   \n9  e0421c3e-7a48-4db1-80ee-d4f848e9839b           0.0               100.0   \n\n   Variants.DiscountAmount  Variants.Discount  ...  Payments.Method  \\\n3                      0.0                0.0  ...             Cash   \n4                      0.0                0.0  ...             Cash   \n6                      0.0                0.0  ...             Cash   \n7                      0.0                0.0  ...             Cash   \n9                      0.0                0.0  ...             Cash   \n\n   Payments.Amount        Payments.Date  hour minute  year month day Count  \\\n3            380.0  2020-02-07T00:00:00    23     05  2020    02  07     1   \n4            380.0  2020-02-07T00:00:00    23     05  2020    02  07     1   \n6            300.0  2020-02-07T00:00:00    23     44  2020    02  07     1   \n7            300.0  2020-02-07T00:00:00    23     44  2020    02  07     1   \n9            200.0  2020-02-07T00:00:00    00     05  2020    02  08     1   \n\n                                Items.Grouped  \n3  Children Jackets 80bob 3003, Lady Hand bag  \n4  Children Jackets 80bob 3003, Lady Hand bag  \n6              Blazers DKJ 230 7, Jackets 200  \n7              Blazers DKJ 230 7, Jackets 200  \n9       Men tshirts, Chiffon Tops Long Sleeve  \n\n[5 rows x 28 columns]",
      "text/html": "<div>\n<style scoped>\n    .dataframe tbody tr th:only-of-type {\n        vertical-align: middle;\n    }\n\n    .dataframe tbody tr th {\n        vertical-align: top;\n    }\n\n    .dataframe thead th {\n        text-align: right;\n    }\n</style>\n<table border=\"1\" class=\"dataframe\">\n  <thead>\n    <tr style=\"text-align: right;\">\n      <th></th>\n      <th>index</th>\n      <th>Number</th>\n      <th>Date</th>\n      <th>Created</th>\n      <th>Gross</th>\n      <th>InvoiceID</th>\n      <th>PointsEarned</th>\n      <th>Variants.NettPrice</th>\n      <th>Variants.DiscountAmount</th>\n      <th>Variants.Discount</th>\n      <th>...</th>\n      <th>Payments.Method</th>\n      <th>Payments.Amount</th>\n      <th>Payments.Date</th>\n      <th>hour</th>\n      <th>minute</th>\n      <th>year</th>\n      <th>month</th>\n      <th>day</th>\n      <th>Count</th>\n      <th>Items.Grouped</th>\n    </tr>\n  </thead>\n  <tbody>\n    <tr>\n      <th>3</th>\n      <td>3</td>\n      <td>20.02.005</td>\n      <td>2020-02-07T00:00:00</td>\n      <td>2020-02-07 23:05:00</td>\n      <td>380.0</td>\n      <td>a76090aa-9470-4ef5-8e38-59568d23bdae</td>\n      <td>0.0</td>\n      <td>80.0</td>\n      <td>0.0</td>\n      <td>0.0</td>\n      <td>...</td>\n      <td>Cash</td>\n      <td>380.0</td>\n      <td>2020-02-07T00:00:00</td>\n      <td>23</td>\n      <td>05</td>\n      <td>2020</td>\n      <td>02</td>\n      <td>07</td>\n      <td>1</td>\n      <td>Children Jackets 80bob 3003, Lady Hand bag</td>\n    </tr>\n    <tr>\n      <th>4</th>\n      <td>3</td>\n      <td>20.02.005</td>\n      <td>2020-02-07T00:00:00</td>\n      <td>2020-02-07 23:05:00</td>\n      <td>380.0</td>\n      <td>a76090aa-9470-4ef5-8e38-59568d23bdae</td>\n      <td>0.0</td>\n      <td>300.0</td>\n      <td>0.0</td>\n      <td>0.0</td>\n      <td>...</td>\n      <td>Cash</td>\n      <td>380.0</td>\n      <td>2020-02-07T00:00:00</td>\n      <td>23</td>\n      <td>05</td>\n      <td>2020</td>\n      <td>02</td>\n      <td>07</td>\n      <td>1</td>\n      <td>Children Jackets 80bob 3003, Lady Hand bag</td>\n    </tr>\n    <tr>\n      <th>6</th>\n      <td>5</td>\n      <td>20.02.007</td>\n      <td>2020-02-07T00:00:00</td>\n      <td>2020-02-07 23:44:00</td>\n      <td>300.0</td>\n      <td>221f4b98-a733-477d-900c-82ea73a0d45e</td>\n      <td>0.0</td>\n      <td>100.0</td>\n      <td>0.0</td>\n      <td>0.0</td>\n      <td>...</td>\n      <td>Cash</td>\n      <td>300.0</td>\n      <td>2020-02-07T00:00:00</td>\n      <td>23</td>\n      <td>44</td>\n      <td>2020</td>\n      <td>02</td>\n      <td>07</td>\n      <td>1</td>\n      <td>Blazers DKJ 230 7, Jackets 200</td>\n    </tr>\n    <tr>\n      <th>7</th>\n      <td>5</td>\n      <td>20.02.007</td>\n      <td>2020-02-07T00:00:00</td>\n      <td>2020-02-07 23:44:00</td>\n      <td>300.0</td>\n      <td>221f4b98-a733-477d-900c-82ea73a0d45e</td>\n      <td>0.0</td>\n      <td>200.0</td>\n      <td>0.0</td>\n      <td>0.0</td>\n      <td>...</td>\n      <td>Cash</td>\n      <td>300.0</td>\n      <td>2020-02-07T00:00:00</td>\n      <td>23</td>\n      <td>44</td>\n      <td>2020</td>\n      <td>02</td>\n      <td>07</td>\n      <td>1</td>\n      <td>Blazers DKJ 230 7, Jackets 200</td>\n    </tr>\n    <tr>\n      <th>9</th>\n      <td>7</td>\n      <td>20.02.009</td>\n      <td>2020-02-07T00:00:00</td>\n      <td>2020-02-08 00:05:00</td>\n      <td>200.0</td>\n      <td>e0421c3e-7a48-4db1-80ee-d4f848e9839b</td>\n      <td>0.0</td>\n      <td>100.0</td>\n      <td>0.0</td>\n      <td>0.0</td>\n      <td>...</td>\n      <td>Cash</td>\n      <td>200.0</td>\n      <td>2020-02-07T00:00:00</td>\n      <td>00</td>\n      <td>05</td>\n      <td>2020</td>\n      <td>02</td>\n      <td>08</td>\n      <td>1</td>\n      <td>Men tshirts, Chiffon Tops Long Sleeve</td>\n    </tr>\n  </tbody>\n</table>\n<p>5 rows × 28 columns</p>\n</div>"
     },
     "execution_count": 27,
     "metadata": {},
     "output_type": "execute_result"
    }
   ],
   "source": [
    "df_dup['Items.Grouped'] = df_dup.groupby('Number')['Variants.Name'].transform(lambda x: ', '.join(x))\n",
    "df_dup.head()"
   ],
   "metadata": {
    "collapsed": false,
    "pycharm": {
     "name": "#%%\n"
    }
   }
  },
  {
   "cell_type": "code",
   "execution_count": 28,
   "outputs": [
    {
     "data": {
      "text/plain": "       Number                               Items.Grouped\n3   20.02.005  Children Jackets 80bob 3003, Lady Hand bag\n6   20.02.007              Blazers DKJ 230 7, Jackets 200\n9   20.02.009       Men tshirts, Chiffon Tops Long Sleeve\n13  20.02.012                      MEN SHIRTS, Track Tops\n21  20.02.018              Household, Tshirt, Jackets 200",
      "text/html": "<div>\n<style scoped>\n    .dataframe tbody tr th:only-of-type {\n        vertical-align: middle;\n    }\n\n    .dataframe tbody tr th {\n        vertical-align: top;\n    }\n\n    .dataframe thead th {\n        text-align: right;\n    }\n</style>\n<table border=\"1\" class=\"dataframe\">\n  <thead>\n    <tr style=\"text-align: right;\">\n      <th></th>\n      <th>Number</th>\n      <th>Items.Grouped</th>\n    </tr>\n  </thead>\n  <tbody>\n    <tr>\n      <th>3</th>\n      <td>20.02.005</td>\n      <td>Children Jackets 80bob 3003, Lady Hand bag</td>\n    </tr>\n    <tr>\n      <th>6</th>\n      <td>20.02.007</td>\n      <td>Blazers DKJ 230 7, Jackets 200</td>\n    </tr>\n    <tr>\n      <th>9</th>\n      <td>20.02.009</td>\n      <td>Men tshirts, Chiffon Tops Long Sleeve</td>\n    </tr>\n    <tr>\n      <th>13</th>\n      <td>20.02.012</td>\n      <td>MEN SHIRTS, Track Tops</td>\n    </tr>\n    <tr>\n      <th>21</th>\n      <td>20.02.018</td>\n      <td>Household, Tshirt, Jackets 200</td>\n    </tr>\n  </tbody>\n</table>\n</div>"
     },
     "execution_count": 28,
     "metadata": {},
     "output_type": "execute_result"
    }
   ],
   "source": [
    "df_dup = df_dup[['Number', 'Items.Grouped']].drop_duplicates()\n",
    "df_dup.head()"
   ],
   "metadata": {
    "collapsed": false,
    "pycharm": {
     "name": "#%%\n"
    }
   }
  },
  {
   "cell_type": "code",
   "execution_count": 29,
   "outputs": [],
   "source": [
    "from itertools import combinations\n",
    "from collections import Counter\n",
    "\n",
    "count = Counter()\n",
    "\n",
    "for row in df_dup['Items.Grouped']:\n",
    "    row_list = row.split(',')\n",
    "    count.update(Counter(combinations(row_list, 2)))\n",
    "\n",
    "grp_count = count.most_common(10)"
   ],
   "metadata": {
    "collapsed": false,
    "pycharm": {
     "name": "#%%\n"
    }
   }
  },
  {
   "cell_type": "markdown",
   "source": [
    "This is a list of the most popular combination of items sold at the store"
   ],
   "metadata": {
    "collapsed": false,
    "pycharm": {
     "name": "#%% md\n"
    }
   }
  },
  {
   "cell_type": "code",
   "execution_count": 30,
   "outputs": [
    {
     "data": {
      "text/plain": "                                         combination  count\n0     (Skirts/Miniskirts,  Chiffon Tops Long Sleeve)     11\n1            (Chiffon Tops Long Sleeve,  jambo hats)      9\n2                               (Fagia,  paper bags)      9\n3                     (Stretchers,  Ladies sweaters)      9\n4                       (pallazo shorts,  pallazo 3)      9\n5                                  (socks,  Drawers)      9\n6  (Chiffon Tops Long Sleeve,  Lady Women Trouser...      8\n7                              (pallazo pants,  Bra)      8\n8                     (pallazo pants,  Ladies Dress)      7\n9                (Skirts/Miniskirts,  fashion pants)      7",
      "text/html": "<div>\n<style scoped>\n    .dataframe tbody tr th:only-of-type {\n        vertical-align: middle;\n    }\n\n    .dataframe tbody tr th {\n        vertical-align: top;\n    }\n\n    .dataframe thead th {\n        text-align: right;\n    }\n</style>\n<table border=\"1\" class=\"dataframe\">\n  <thead>\n    <tr style=\"text-align: right;\">\n      <th></th>\n      <th>combination</th>\n      <th>count</th>\n    </tr>\n  </thead>\n  <tbody>\n    <tr>\n      <th>0</th>\n      <td>(Skirts/Miniskirts,  Chiffon Tops Long Sleeve)</td>\n      <td>11</td>\n    </tr>\n    <tr>\n      <th>1</th>\n      <td>(Chiffon Tops Long Sleeve,  jambo hats)</td>\n      <td>9</td>\n    </tr>\n    <tr>\n      <th>2</th>\n      <td>(Fagia,  paper bags)</td>\n      <td>9</td>\n    </tr>\n    <tr>\n      <th>3</th>\n      <td>(Stretchers,  Ladies sweaters)</td>\n      <td>9</td>\n    </tr>\n    <tr>\n      <th>4</th>\n      <td>(pallazo shorts,  pallazo 3)</td>\n      <td>9</td>\n    </tr>\n    <tr>\n      <th>5</th>\n      <td>(socks,  Drawers)</td>\n      <td>9</td>\n    </tr>\n    <tr>\n      <th>6</th>\n      <td>(Chiffon Tops Long Sleeve,  Lady Women Trouser...</td>\n      <td>8</td>\n    </tr>\n    <tr>\n      <th>7</th>\n      <td>(pallazo pants,  Bra)</td>\n      <td>8</td>\n    </tr>\n    <tr>\n      <th>8</th>\n      <td>(pallazo pants,  Ladies Dress)</td>\n      <td>7</td>\n    </tr>\n    <tr>\n      <th>9</th>\n      <td>(Skirts/Miniskirts,  fashion pants)</td>\n      <td>7</td>\n    </tr>\n  </tbody>\n</table>\n</div>"
     },
     "execution_count": 30,
     "metadata": {},
     "output_type": "execute_result"
    }
   ],
   "source": [
    "df_grp = pd.DataFrame(grp_count)\n",
    "df_grp.columns = ['combination', 'count']\n",
    "df_grp\n"
   ],
   "metadata": {
    "collapsed": false,
    "pycharm": {
     "name": "#%%\n"
    }
   }
  }
 ],
 "metadata": {
  "kernelspec": {
   "display_name": "Python 3",
   "language": "python",
   "name": "python3"
  },
  "language_info": {
   "codemirror_mode": {
    "name": "ipython",
    "version": 2
   },
   "file_extension": ".py",
   "mimetype": "text/x-python",
   "name": "python",
   "nbconvert_exporter": "python",
   "pygments_lexer": "ipython2",
   "version": "2.7.6"
  }
 },
 "nbformat": 4,
 "nbformat_minor": 0
}